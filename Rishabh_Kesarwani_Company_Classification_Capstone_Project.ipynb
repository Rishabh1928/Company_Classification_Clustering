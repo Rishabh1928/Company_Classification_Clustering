{
  "nbformat": 4,
  "nbformat_minor": 0,
  "metadata": {
    "colab": {
      "name": "Rishabh Kesarwani - Company Classification - Capstone Project.ipynb",
      "provenance": [],
      "collapsed_sections": [],
      "mount_file_id": "1hSlLG3u4CEb6Ev1wW4ggiItXkVAh5985",
      "authorship_tag": "ABX9TyNvRkSAY11cmrREktkCwhOY",
      "include_colab_link": true
    },
    "kernelspec": {
      "name": "python3",
      "display_name": "Python 3"
    },
    "language_info": {
      "name": "python"
    }
  },
  "cells": [
    {
      "cell_type": "markdown",
      "metadata": {
        "id": "view-in-github",
        "colab_type": "text"
      },
      "source": [
        "<a href=\"https://colab.research.google.com/github/Rishabh1928/Company_Classification_Clustering/blob/main/Rishabh_Kesarwani_Company_Classification_Capstone_Project.ipynb\" target=\"_parent\"><img src=\"https://colab.research.google.com/assets/colab-badge.svg\" alt=\"Open In Colab\"/></a>"
      ]
    },
    {
      "cell_type": "markdown",
      "metadata": {
        "id": "2QBqK7tmBtr8"
      },
      "source": [
        "##**Problem Statement :**\n",
        "\n",
        "Classify businesses and companies across a standard taxonomy.\n",
        "\n",
        "This dataset comes with pre-classified companies along with data from the website.\n",
        "\n",
        "The main objective is to cluster companies based on their description on the website."
      ]
    },
    {
      "cell_type": "markdown",
      "metadata": {
        "id": "WjD63U15DXtc"
      },
      "source": [
        "###**Overview of columns in the dataset :**"
      ]
    },
    {
      "cell_type": "markdown",
      "metadata": {
        "id": "gtzJtJ0jDkH2"
      },
      "source": [
        "1. website: The website of the company/business\n",
        "2. company_name: The company/business name\n",
        "3. homepage_text : Visible homepage text\n",
        "4. h1: The heading 1 tags from the html of the home page\n",
        "5. h2: The heading 2 tags from the html of the home page\n",
        "6. h3: The heading 3 tags from the html of the home page\n",
        "7. navlinktext: The visible titles of navigation links on the homepage (Ex: Home, Services,\n",
        "Product, About Us, Contact Us)\n",
        "8. metakeywords: The meta keywords in the header of the page html for SEO (More info:\n",
        "https://www.w3schools.com/tags/tag_meta.asp)\n",
        "9. metadescription: The meta description in the header of the page html for SEO (More info:\n",
        "https://www.w3schools.com/tags/tag_meta.asp)"
      ]
    },
    {
      "cell_type": "code",
      "metadata": {
        "id": "SJNsG5HJAlBt"
      },
      "source": [
        "# Loading the basic dependencies\n",
        "\n",
        "import numpy as np\n",
        "import pandas as pd\n",
        "import matplotlib.pyplot as plt\n",
        "import seaborn as sns"
      ],
      "execution_count": 78,
      "outputs": []
    },
    {
      "cell_type": "code",
      "metadata": {
        "id": "Utj0fnp2ES44"
      },
      "source": [
        "# Loading data\n",
        "\n",
        "file_path = \"/content/drive/MyDrive/Almabetter/Capstone Project 2 (Company Classification)/DATA/data_company_classification.csv\"\n",
        "df = pd.read_csv(file_path)"
      ],
      "execution_count": 79,
      "outputs": []
    },
    {
      "cell_type": "markdown",
      "metadata": {
        "id": "Z8AsWNWXGT7k"
      },
      "source": [
        "**Basic Inspection**"
      ]
    },
    {
      "cell_type": "code",
      "metadata": {
        "colab": {
          "base_uri": "https://localhost:8080/",
          "height": 1000
        },
        "id": "ibdyIVRPF_ml",
        "outputId": "0a9e6fbb-9f58-42d9-dbcd-e1b665b68664"
      },
      "source": [
        "# Checking head of df\n",
        "\n",
        "df.head()"
      ],
      "execution_count": 80,
      "outputs": [
        {
          "output_type": "execute_result",
          "data": {
            "text/html": [
              "<div>\n",
              "<style scoped>\n",
              "    .dataframe tbody tr th:only-of-type {\n",
              "        vertical-align: middle;\n",
              "    }\n",
              "\n",
              "    .dataframe tbody tr th {\n",
              "        vertical-align: top;\n",
              "    }\n",
              "\n",
              "    .dataframe thead th {\n",
              "        text-align: right;\n",
              "    }\n",
              "</style>\n",
              "<table border=\"1\" class=\"dataframe\">\n",
              "  <thead>\n",
              "    <tr style=\"text-align: right;\">\n",
              "      <th></th>\n",
              "      <th>website</th>\n",
              "      <th>company_name</th>\n",
              "      <th>homepage_text</th>\n",
              "      <th>h1</th>\n",
              "      <th>h2</th>\n",
              "      <th>h3</th>\n",
              "      <th>nav_link_text</th>\n",
              "      <th>meta_keywords</th>\n",
              "      <th>meta_description</th>\n",
              "    </tr>\n",
              "  </thead>\n",
              "  <tbody>\n",
              "    <tr>\n",
              "      <th>0</th>\n",
              "      <td>bipelectric.com</td>\n",
              "      <td>bip dipietro electric inc</td>\n",
              "      <td>Electricians and electrical contractors serving Vero Beach FL and Indian River County, Florida area for over fifteen years.  Locally owned and operated, Bip DiPietro Electric is dedicated to providing helpful, reliable electrical service to residential, commercial and retail clients alike.  We are fully licensed and insured, and our expert staff of electricians is ready to serve the Vero Beach area any time of the week, day or night.  Bip DiPietro Electric is a full service firm specializing in all areas of Electrical Installation for Commercial and Residential buildings alike. We believe that the job needs to be done and it needs to be done right. All of the employees here at Bip DiPietro Electric strive to give you, our client, exactly what your plans specify and install them the way that they are meant to be installed.   Not only is electricity a necessity these days, but it is also a technology that must be treated with caution and respect.  All of the electricians here at Bip DiPietro Electric are certified who know what that means. No corners are cut, and no items left out. The job is done the right way or not at all.  We would like to thank you for taking the time to visit our Web Site. Feel free to look around our site and please contact us if you have any questions about our company or the services that we may provide for you.  Contact Bip DiPietro Electric your Vero Beach Electrical Contractor                 External Links Disclaimer for Make A Payment   Copyright © 2009 - Present: Don &amp; Associates, Inc. DBA DNA Web Services | Design, Hosting, E-mail and Maintenance Provided by: DNAWebServices.us</td>\n",
              "      <td>NaN</td>\n",
              "      <td>NaN</td>\n",
              "      <td>NaN</td>\n",
              "      <td>NaN</td>\n",
              "      <td>electricians vero beach, vero beach electrical contractors, electric contractor, electrical contractor, lighting control, lighting solutions, florida electrical, business lighting, electrical contract,\\n vero beach electric, commercial lighting control, electrician, Indian River County, Sebastian, Ft Pierce</td>\n",
              "      <td>Providing quality, reliable full service residential and commercial electrical contractors service in Vero Beach Fl and Indian River County</td>\n",
              "    </tr>\n",
              "    <tr>\n",
              "      <th>1</th>\n",
              "      <td>eliasmedical.com</td>\n",
              "      <td>elias medical</td>\n",
              "      <td>site map | en español    Elias Medical   home  about us  skin care   Acne Scar Removal  Acne Treatment  Anti-Cellulite  BOTOX  Cosmelan  Double Chin  Facials  Hair Removal  Juvederm  Microdermabrasion  Mole Removal  Photofacial  Restylane  Scar Removal Treatment  Stretch Marks Removal  Skin Resurfacing  Skin Care  Wart Removal    family doctor   Arthritis  Asthma  Diabetes  Emphysema  Geriatrics  Hypertension  Physical Exam    contact us               Welcome to ELIAS MEDICAL  Offering Bakersfield family medical care from pediatrics to geriatrics. Also offering skin care including Botox, Laser skin treatments and more.  Family Medical Practice  We provide comprehensive and compassionate medical care for your family.  Whether you need help with diabetes, high blood pressure, obesity, arthritis, a physical examination or a number of other conditions, we will be able to provide a treatment plan that will give you good results. And, if you prefer to see a female, we have a very experienced Family Nurse Practitioner who is very capable and pleasant.  Just call to make an appointment and our friendly staff will be happy to set a time convenient for you.  Skin Care   Our Bakersfield office provides a variety of skin care procedures to enhance the quality and beauty of your skin. We provide non-surgical cosmetic procedures using the latest technologies in laser for hair removal and anti-aging skin care, Botox and other treatments ensuring a healthier, rejuvenated texture and tone of your face and body. Every skin care procedure is performed by a medical doctor.  Consultations  Schedule a consultation today with Dr. George Elias or with our Family Nurse Practitioner, Christina Lewis.  Call 661-663-0300 or just complete the Contact Us form with your request for an appointment.  Dr. Elias is a proud member of the American Medical Association and the American Academy of Family Physicians.  Get To Know Elias Medical  Take a minute to get to know Dr. Elias and Christina Lewis, our Family Nurse Practioner. Their bios are available on our About Us page. They look forward to meeting you in person!        Schedule a Consultation\\n661.663.0300   Family Medical Practice   Arthritis  Asthma  Diabetes Treatment  Emphysema  Family Medicine  Geriatrics  Hypertension  Pediatrics  Physical Exam   SKIN CARE  NEW  ACNE SCAR REMOVAL TREATMENT  ACNE TREATMENT  ANTI-CELLULITE  ANTI-STRETCH MARKS  BOTOX  COSMELAN  NEW DOUBLE CHIN  JUVEDERM  LASER HAIR REMOVAL  MICRODERMABRASION  MOLE REMOVAL  PHOTOFACIAL  RESTYLANE  NEW SCAR REMOVAL TREATMENT  NEW STRETCH MARKS TREATMENT  NEW SKIN RESURFACING   SKIN CARE PRODUCTS   WART REMOVAL     home | about us | family medical practice | skin care | location | contact us | cuidado de la piel   9900 Stockdale Hwy., Suite 203 Bakersfield, CA 93311 | (phone) 661.663.0300 | \\n    (fax) 661.663.0903</td>\n",
              "      <td>Offering Bakersfield family medical care from pediatrics to geriatrics. Also offering skin care including Botox, Laser skin treatments and more.#sep#Elias Medical</td>\n",
              "      <td>Welcome to ELIAS MEDICAL#sep#Family Medical Practice#sep#SKIN CARE#sep#Schedule a Consultation\\n661.663.0300</td>\n",
              "      <td>Get To Know Elias Medical#sep#Family Medical Practice#sep#Consultations#sep#Skin Care</td>\n",
              "      <td>NaN</td>\n",
              "      <td>Elias Medical bakersfield ca family doctor medicine Juvederm skin care Botox laser hair removal acne treatment restylane age spots photofacial</td>\n",
              "      <td>For the best value in Bakersfield skin care treatment by a medical doctor as well as compassionate family medicine care visit Elias Medical.  Haven�t tried Botox, Restylane, Photofacial or Juvederm yet?  Now is your chance.</td>\n",
              "    </tr>\n",
              "    <tr>\n",
              "      <th>2</th>\n",
              "      <td>koopsoverheaddoors.com</td>\n",
              "      <td>koops overhead doors</td>\n",
              "      <td>Home  About Us  Garage Door Repair &amp; Service  Design-A-Door  Garage Doors  Garage Door Openers &amp; Accessories  Customer Reviews  Photo Gallery  Contact Us / Free Garage Door Estimate        Home  About Us  Garage Door Repair &amp; Service  Design-A-Door  Contact Us / Free Estimate                      117 Edgewood Drive / Averill Park, NY 12018 :: Phone: (518) 376-7382  Garage Door Service, Installation and Repairs in Albany, Troy,  Clifton Park, East Greenbush, and surrounding Capital District New York areas          Garage Doors  Garage Door Openers &amp; Accessories  Customer Reviews  Photo Gallery  Contact Us      Previous  Next        Posted by jtafur on Oct 6, 2011  Welcome to Koops Overhead Doors!  Koops Overhead Doors is family owned and operated with over 18 years of experience serving residential and commercial clients in Albany, Troy, Clifton Park, East Greenbush and the surrounding Capital District areas. We specialize in the sales, service, repair, and installation of garage doors and garage door openers.  Read More           Posted by jtafur on Oct 6, 2011  Customer Reviews  “We called Koops after getting estimates from 2 other local dealers.  His price was better; his knowledge of the products was exceptional and when a model and color we had originally wanted was no longer available from the manufacturer – he worked miracles finding an even better alternative.  On the day of the installation, Mr. Koops was there on time; worked quickly and efficiently, and left...  Read More           Posted by jtafur on Oct 6, 2011  Welcome to Koops Overhead Doors!  Koops Overhead Doors is family owned and operated with over 18 years of experience serving residential and commercial clients in Albany, Troy, Clifton Park, East Greenbush and the surrounding Capital District areas. We specialize in the sales, service, repair, and installation of garage doors and garage door openers.  Read More           Posted by jtafur on Oct 6, 2011  Customer Reviews  “We called Koops after getting estimates from 2 other local dealers.  His price was better; his knowledge of the products was exceptional and when a model and color we had originally wanted was no longer available from the manufacturer – he worked miracles finding an even better alternative.  On the day of the installation, Mr. Koops was there on time; worked quickly and efficiently, and left...  Read More           Posted by jtafur on Oct 6, 2011  Welcome to Koops Overhead Doors!  Koops Overhead Doors is family owned and operated with over 18 years of experience serving residential and commercial clients in Albany, Troy, Clifton Park, East Greenbush and the surrounding Capital District areas. We specialize in the sales, service, repair, and installation of garage doors and garage door openers.  Read More           Posted by jtafur on Oct 6, 2011  Customer Reviews  “We called Koops after getting estimates from 2 other local dealers.  His price was better; his knowledge of the products was exceptional and when a model and color we had originally wanted was no longer available from the manufacturer – he worked miracles finding an even better alternative.  On the day of the installation, Mr. Koops was there on time; worked quickly and efficiently, and left...  Read More           Posted by jtafur on Oct 6, 2011  Welcome to Koops Overhead Doors!  Koops Overhead Doors is family owned and operated with over 18 years of experience serving residential and commercial clients in Albany, Troy, Clifton Park, East Greenbush and the surrounding Capital District areas. We specialize in the sales, service, repair, and installation of garage doors and garage door openers.  Read More           Posted by jtafur on Oct 6, 2011  Customer Reviews  “We called Koops after getting estimates from 2 other local dealers.  His price was better; his knowledge of the products was exceptional and when a model and color we had originally wanted was no longer available from the manufacturer – he worked miracles finding an even better alternative.  On the day of the installation, Mr. Koops was there on time; worked quickly and efficiently, and left...  Read More                                                                                Authorized Dealer               Koops Overhead Doors is an EPA lead-safe certified firm       angieslist.com/review/2346123        Dedicated To Excellence  Koops Overhead Doors is family owned and operated with over 18 years of experience serving residential and commercial clients in Albany, Troy, Clifton Park, East Greenbush and the surrounding Capital District areas. We specialize in the sales, service, repair, and installation of garage doors and electric garage door openers.  We pride ourselves on outstanding customer service, professional garage door installation, garage door repair and last but not least competitive pricing.  All garage door installations and garage door repairs are completed by Koops Overhead Doors as we do not use any subcontractors.  Whether you’re in need of a new garage door, an electronic garage door opener, or if your current garage door just needs a minor repair, we do it all!       Contact Us / Free Quote  Please browse our “photo gallery” page and see just how much a new garage door can change the look of your home.   You can also take advantage of our “Design-a-Door” feature to see just how great a new garage door will look on your home!  If you have any questions please do not hesitate to call us or fill out our “contact us form” and we will contact you right away to discuss your project.  Phone: (518) 376-7382 Fax:\\t(518) 712-5036 E-mail:  koopsoverheaddoors@nycap.rr.com          Serving Albany NY; Averill Park NY; Clifton Park NY; Colonie NY; Delmar NY; East Greenbush NY; Latham NY; Rensselaer NY; Schenectady NY; Troy NY\\tSince 2008 Copyright Koops Overhead Doors © 2015 | Developed by SqueekPress         Home  About Koops Overhead Doors  Customer Reviews  Photo Gallery  Contact Us / Free Garage Door Estimate</td>\n",
              "      <td>NaN</td>\n",
              "      <td>Customer Reviews#sep#Welcome to Koops Overhead Doors!</td>\n",
              "      <td>NaN</td>\n",
              "      <td>NaN</td>\n",
              "      <td>Koops Overhead Doors, Albany Garage Doors, Troy Garage Doors, Capital District Garage Doors, Clifton Park Garage Doors, Capital District Garage Door Repair, Albany Garage Door Repair</td>\n",
              "      <td>Koops Overhead Doors specializes in the sales, service, repair, and installation of garage doors and electric garage door openers. Servicing Albany, Troy, Clifton Park, East Greenbush and the surrounding Capital District New York areas.</td>\n",
              "    </tr>\n",
              "    <tr>\n",
              "      <th>3</th>\n",
              "      <td>midtowneyes.com</td>\n",
              "      <td>midtown eyecare</td>\n",
              "      <td>918-599-0202        Type Size: A  A  A             Home    Our Practice    Our Services    Patient Forms    Eye Care Articles    LASIK    Glaucoma Diagnosis    Cataracts    Diabetic Eye Exams    Location              Welcome to our practice!  We are excited to provide you professional Eye Care services in a comfortable and friendly environment.  Please contact us to schedule your appointment today.    Click to request appointment                Access our forms     Visit our office     Services we provide        We would like to welcome you to Midtown Eyecare. The professionals at our practice provide each patient with quality vision solutions and exceptional customer service. Our staff is experienced in all areas of vision care. Maintaining healthy eyes requires regular vision and eye exams. We look forward to serving you.  Beforehand, we thank you for taking the time to browse through our website and we encourage you to learn more about Dr. Kyle Craig and the office staff under \"Our Practice.\" We know you have many choices and we appreciate your interest in our office.               Contact Us 1701 S. Peoria Avenue Tulsa, OK 74120 Phone: 918-599-0202    Office Hours Mon    8:00 am - 5:00 pm Tue     8:00 am - 5:00 pm Wed    8:00 am - 5:00 pm Thu     8:00 am - 5:00 pm Fri       8:00 am - 3:00 pm    Notice of Privacy Practices Website by Eyefinity</td>\n",
              "      <td>NaN</td>\n",
              "      <td>Welcome to our practice!</td>\n",
              "      <td>NaN</td>\n",
              "      <td>NaN</td>\n",
              "      <td>NaN</td>\n",
              "      <td>We would like to welcome you to Midtown Eyecare. The professionals at our practice provide each patient with quality vision solutions and exceptional customer service. Our staff is experienced in all...</td>\n",
              "    </tr>\n",
              "    <tr>\n",
              "      <th>4</th>\n",
              "      <td>reprosecurity.co.uk</td>\n",
              "      <td>repro security ltd</td>\n",
              "      <td>Simply fill out our form below and we will be back in touch with you to arrange your FREE NO OBLIGATION SURVEY   Name: Company:  Email: Telephone:   Extra information:  Sector: --- Commercial Domestic Type of Enquiry: --- Products/services Intruder detection CCTV Access Control Door Entry Automatic Gates and Barriers Fire detection               01858 462426  hello@reprosecurity.co.uk     Home  About Us  Commercial   Intruder Detection  CCTV  Door Entry  Automatic gates and Barriers  Access Control  Fire Detection  Emergency Lighting  Smoke Cloak    Domestic   Intruder Detection  CCTV  Door Entry  Automatic gates and garage Openers  Access control    Case studies  Help / Info   Downloads    Service  News  Contact        Welcome to REPRO SECURITY Ltd  Repro Security provides tailor made security and fire systems.  We offer solutions that are designed to meet specific customer requirements, whilst ensuring that your family, home or business is protected.  Repro Security prides itself on providing effective security and fire systems that fit the customer’s needs. Nothing is more important to us than providing our customers with a reliable and good quality service.  Whether it’s for your home or business, we are prepared to go that extra mile.  All new systems that are installed by Repro Security are issued with an NSI certificate of compliance. This ensures that your system has not only been installed correctly, but to British and European standards.  This is essential for Insurance approval.  Customers with third party systems are also very welcome.  We can provide a package of support and service to ensure you get the most from your existing system, as well as repair many faults.  There are no tales and no extortionate costs.  Just common sense with practical and sensible solutions.  After all, the most important thing is to protect your family, home, business and assets from harm.  Click the links below so see how we can help you to protect your family and home, or your business.  Commercial clients:  Intruder Detection  CCTV  Door Entry  Automatic Gates &amp; Barriers  Access Control  Fire Detection  Emergency lighting  Smoke Cloak  Domestic clients:  Intruder Detection  CCTV  Door Entry  Automatic Gates &amp; Garage Openers  Access Control                        01858 462426  hello@reprosecurity.co.uk  Help &amp; Information     Home  About Us  Commercial  Domestic  Case studies  Help / Info  Service  News  Contact  Website Content © Repro Security 2020 | Entries (RSS) and Comments (RSS) | Site Design by Caged Fish | Sitemap | Log in</td>\n",
              "      <td>NaN</td>\n",
              "      <td>Welcome to REPRO SECURITY Ltd</td>\n",
              "      <td>NaN</td>\n",
              "      <td>NaN</td>\n",
              "      <td>NaN</td>\n",
              "      <td>Repro Security provide a range of tailor made security and fire systems to ensure that your family, home or business is protected.</td>\n",
              "    </tr>\n",
              "  </tbody>\n",
              "</table>\n",
              "</div>"
            ],
            "text/plain": [
              "                  website  ...                                                                                                                                                                                                                              meta_description\n",
              "0  bipelectric.com         ...  Providing quality, reliable full service residential and commercial electrical contractors service in Vero Beach Fl and Indian River County                                                                                                 \n",
              "1  eliasmedical.com        ...  For the best value in Bakersfield skin care treatment by a medical doctor as well as compassionate family medicine care visit Elias Medical.  Haven�t tried Botox, Restylane, Photofacial or Juvederm yet?  Now is your chance.             \n",
              "2  koopsoverheaddoors.com  ...  Koops Overhead Doors specializes in the sales, service, repair, and installation of garage doors and electric garage door openers. Servicing Albany, Troy, Clifton Park, East Greenbush and the surrounding Capital District New York areas.\n",
              "3  midtowneyes.com         ...  We would like to welcome you to Midtown Eyecare. The professionals at our practice provide each patient with quality vision solutions and exceptional customer service. Our staff is experienced in all...                                  \n",
              "4  reprosecurity.co.uk     ...  Repro Security provide a range of tailor made security and fire systems to ensure that your family, home or business is protected.                                                                                                          \n",
              "\n",
              "[5 rows x 9 columns]"
            ]
          },
          "metadata": {
            "tags": []
          },
          "execution_count": 80
        }
      ]
    },
    {
      "cell_type": "code",
      "metadata": {
        "colab": {
          "base_uri": "https://localhost:8080/"
        },
        "id": "Q90Jau5nGH8J",
        "outputId": "57310ba8-3018-4131-9276-dd80a0ad0648"
      },
      "source": [
        "df.info()"
      ],
      "execution_count": 81,
      "outputs": [
        {
          "output_type": "stream",
          "text": [
            "<class 'pandas.core.frame.DataFrame'>\n",
            "RangeIndex: 73974 entries, 0 to 73973\n",
            "Data columns (total 9 columns):\n",
            " #   Column            Non-Null Count  Dtype \n",
            "---  ------            --------------  ----- \n",
            " 0   website           73974 non-null  object\n",
            " 1   company_name      73974 non-null  object\n",
            " 2   homepage_text     73305 non-null  object\n",
            " 3   h1                46653 non-null  object\n",
            " 4   h2                53212 non-null  object\n",
            " 5   h3                44659 non-null  object\n",
            " 6   nav_link_text     48050 non-null  object\n",
            " 7   meta_keywords     23672 non-null  object\n",
            " 8   meta_description  66886 non-null  object\n",
            "dtypes: object(9)\n",
            "memory usage: 5.1+ MB\n"
          ],
          "name": "stdout"
        }
      ]
    },
    {
      "cell_type": "code",
      "metadata": {
        "colab": {
          "base_uri": "https://localhost:8080/"
        },
        "id": "2x83_LwlGY5o",
        "outputId": "db65eef8-e711-4c11-9f56-8ab0f6006dd6"
      },
      "source": [
        "df.shape"
      ],
      "execution_count": 82,
      "outputs": [
        {
          "output_type": "execute_result",
          "data": {
            "text/plain": [
              "(73974, 9)"
            ]
          },
          "metadata": {
            "tags": []
          },
          "execution_count": 82
        }
      ]
    },
    {
      "cell_type": "code",
      "metadata": {
        "colab": {
          "base_uri": "https://localhost:8080/",
          "height": 359
        },
        "id": "eZO46ky4iBXb",
        "outputId": "a2c0fa28-8762-46cc-a0f7-024914c8f912"
      },
      "source": [
        "# Null values in dataset\n",
        "\n",
        "df.isnull().sum().plot.bar()"
      ],
      "execution_count": 83,
      "outputs": [
        {
          "output_type": "execute_result",
          "data": {
            "text/plain": [
              "<matplotlib.axes._subplots.AxesSubplot at 0x7f3efc1c2f90>"
            ]
          },
          "metadata": {
            "tags": []
          },
          "execution_count": 83
        },
        {
          "output_type": "display_data",
          "data": {
            "image/png": "[encoded data removed]",
            "text/plain": [
              "<Figure size 432x288 with 1 Axes>"
            ]
          },
          "metadata": {
            "tags": [],
            "needs_background": "light"
          }
        }
      ]
    },
    {
      "cell_type": "markdown",
      "metadata": {
        "id": "sQxSJXloNuZO"
      },
      "source": [
        "`I need to takecare for headers, so I will be doing most of the things on h1 , h2 & h3`"
      ]
    },
    {
      "cell_type": "code",
      "metadata": {
        "colab": {
          "base_uri": "https://localhost:8080/"
        },
        "id": "P-cjJwvcMG6s",
        "outputId": "4a67d7c3-1f0a-4997-c52e-4deae07a49d1"
      },
      "source": [
        "df.h1.describe()"
      ],
      "execution_count": 84,
      "outputs": [
        {
          "output_type": "execute_result",
          "data": {
            "text/plain": [
              "count     46653\n",
              "unique    44133\n",
              "top       Home \n",
              "freq      630  \n",
              "Name: h1, dtype: object"
            ]
          },
          "metadata": {
            "tags": []
          },
          "execution_count": 84
        }
      ]
    },
    {
      "cell_type": "code",
      "metadata": {
        "colab": {
          "base_uri": "https://localhost:8080/"
        },
        "id": "yKRRnTvSNaUd",
        "outputId": "a93af7a6-77ef-4537-8d04-64f6c2cde5cc"
      },
      "source": [
        "df.h2.describe()"
      ],
      "execution_count": 85,
      "outputs": [
        {
          "output_type": "execute_result",
          "data": {
            "text/plain": [
              "count     53212                                                                                                                                        \n",
              "unique    50732                                                                                                                                        \n",
              "top       Follow Us:and share our news...#sep#UK.COM Awards: The Winner Takes It All...#sep#2 Character Domains: Short, valuable, memorable and rare...\n",
              "freq      107                                                                                                                                          \n",
              "Name: h2, dtype: object"
            ]
          },
          "metadata": {
            "tags": []
          },
          "execution_count": 85
        }
      ]
    },
    {
      "cell_type": "code",
      "metadata": {
        "colab": {
          "base_uri": "https://localhost:8080/"
        },
        "id": "T-J4atG8Nfug",
        "outputId": "6ea9916f-ecba-4416-eba7-520a4b687c52"
      },
      "source": [
        "df.h3.describe()"
      ],
      "execution_count": 86,
      "outputs": [
        {
          "output_type": "execute_result",
          "data": {
            "text/plain": [
              "count     44659                                                                        \n",
              "unique    42130                                                                        \n",
              "top       Safe Payments By Adyen#sep#Fast Domain Transfers#sep#Buyer Protection Program\n",
              "freq      117                                                                          \n",
              "Name: h3, dtype: object"
            ]
          },
          "metadata": {
            "tags": []
          },
          "execution_count": 86
        }
      ]
    },
    {
      "cell_type": "code",
      "metadata": {
        "id": "T7USbGYiNp0s"
      },
      "source": [
        "# Constructing a df that will have headers only! (Will take company name as well for any reference)\n",
        "\n",
        "df_headers = df[[\"company_name\" , \"h1\" , \"h2\" , \"h3\"]]"
      ],
      "execution_count": 87,
      "outputs": []
    },
    {
      "cell_type": "code",
      "metadata": {
        "colab": {
          "base_uri": "https://localhost:8080/",
          "height": 340
        },
        "id": "WAG46C_HOcoW",
        "outputId": "c08736f3-b82b-41d1-a410-adfe405ad59d"
      },
      "source": [
        "df_headers.head()"
      ],
      "execution_count": 88,
      "outputs": [
        {
          "output_type": "execute_result",
          "data": {
            "text/html": [
              "<div>\n",
              "<style scoped>\n",
              "    .dataframe tbody tr th:only-of-type {\n",
              "        vertical-align: middle;\n",
              "    }\n",
              "\n",
              "    .dataframe tbody tr th {\n",
              "        vertical-align: top;\n",
              "    }\n",
              "\n",
              "    .dataframe thead th {\n",
              "        text-align: right;\n",
              "    }\n",
              "</style>\n",
              "<table border=\"1\" class=\"dataframe\">\n",
              "  <thead>\n",
              "    <tr style=\"text-align: right;\">\n",
              "      <th></th>\n",
              "      <th>company_name</th>\n",
              "      <th>h1</th>\n",
              "      <th>h2</th>\n",
              "      <th>h3</th>\n",
              "    </tr>\n",
              "  </thead>\n",
              "  <tbody>\n",
              "    <tr>\n",
              "      <th>0</th>\n",
              "      <td>bip dipietro electric inc</td>\n",
              "      <td>NaN</td>\n",
              "      <td>NaN</td>\n",
              "      <td>NaN</td>\n",
              "    </tr>\n",
              "    <tr>\n",
              "      <th>1</th>\n",
              "      <td>elias medical</td>\n",
              "      <td>Offering Bakersfield family medical care from pediatrics to geriatrics. Also offering skin care including Botox, Laser skin treatments and more.#sep#Elias Medical</td>\n",
              "      <td>Welcome to ELIAS MEDICAL#sep#Family Medical Practice#sep#SKIN CARE#sep#Schedule a Consultation\\n661.663.0300</td>\n",
              "      <td>Get To Know Elias Medical#sep#Family Medical Practice#sep#Consultations#sep#Skin Care</td>\n",
              "    </tr>\n",
              "    <tr>\n",
              "      <th>2</th>\n",
              "      <td>koops overhead doors</td>\n",
              "      <td>NaN</td>\n",
              "      <td>Customer Reviews#sep#Welcome to Koops Overhead Doors!</td>\n",
              "      <td>NaN</td>\n",
              "    </tr>\n",
              "    <tr>\n",
              "      <th>3</th>\n",
              "      <td>midtown eyecare</td>\n",
              "      <td>NaN</td>\n",
              "      <td>Welcome to our practice!</td>\n",
              "      <td>NaN</td>\n",
              "    </tr>\n",
              "    <tr>\n",
              "      <th>4</th>\n",
              "      <td>repro security ltd</td>\n",
              "      <td>NaN</td>\n",
              "      <td>Welcome to REPRO SECURITY Ltd</td>\n",
              "      <td>NaN</td>\n",
              "    </tr>\n",
              "  </tbody>\n",
              "</table>\n",
              "</div>"
            ],
            "text/plain": [
              "                company_name  ...                                                                                     h3\n",
              "0  bip dipietro electric inc  ...  NaN                                                                                  \n",
              "1  elias medical              ...  Get To Know Elias Medical#sep#Family Medical Practice#sep#Consultations#sep#Skin Care\n",
              "2  koops overhead doors       ...  NaN                                                                                  \n",
              "3  midtown eyecare            ...  NaN                                                                                  \n",
              "4  repro security ltd         ...  NaN                                                                                  \n",
              "\n",
              "[5 rows x 4 columns]"
            ]
          },
          "metadata": {
            "tags": []
          },
          "execution_count": 88
        }
      ]
    },
    {
      "cell_type": "code",
      "metadata": {
        "colab": {
          "base_uri": "https://localhost:8080/"
        },
        "id": "wKT_HV4oPh7F",
        "outputId": "aeac7a50-b7c7-4646-fd79-58d844d33397"
      },
      "source": [
        "df_headers.info()"
      ],
      "execution_count": 89,
      "outputs": [
        {
          "output_type": "stream",
          "text": [
            "<class 'pandas.core.frame.DataFrame'>\n",
            "RangeIndex: 73974 entries, 0 to 73973\n",
            "Data columns (total 4 columns):\n",
            " #   Column        Non-Null Count  Dtype \n",
            "---  ------        --------------  ----- \n",
            " 0   company_name  73974 non-null  object\n",
            " 1   h1            46653 non-null  object\n",
            " 2   h2            53212 non-null  object\n",
            " 3   h3            44659 non-null  object\n",
            "dtypes: object(4)\n",
            "memory usage: 2.3+ MB\n"
          ],
          "name": "stdout"
        }
      ]
    },
    {
      "cell_type": "code",
      "metadata": {
        "colab": {
          "base_uri": "https://localhost:8080/"
        },
        "id": "v_-zF2QHRuv6",
        "outputId": "39d04745-c830-4831-83c7-e35cce10216a"
      },
      "source": [
        "df_headers.shape"
      ],
      "execution_count": 90,
      "outputs": [
        {
          "output_type": "execute_result",
          "data": {
            "text/plain": [
              "(73974, 4)"
            ]
          },
          "metadata": {
            "tags": []
          },
          "execution_count": 90
        }
      ]
    },
    {
      "cell_type": "code",
      "metadata": {
        "colab": {
          "base_uri": "https://localhost:8080/"
        },
        "id": "RFX05TjSPHJR",
        "outputId": "b3b53a0a-ddab-4d37-e1c4-24cecd25bb3c"
      },
      "source": [
        "# Null values in header h1\n",
        "\n",
        "print(\"Count of null values in h1:\" , df_headers[\"h1\"].isnull().sum())\n",
        "\n",
        "# Percentage of null values for h1\n",
        "\n",
        "print(\"Percentage of null values in h1: \" , round(df_headers[\"h1\"].isnull().sum() / df_headers.shape[0] * 100 , 2))"
      ],
      "execution_count": 91,
      "outputs": [
        {
          "output_type": "stream",
          "text": [
            "Count of null values in h1: 27321\n",
            "Percentage of null values in h1:  36.93\n"
          ],
          "name": "stdout"
        }
      ]
    },
    {
      "cell_type": "code",
      "metadata": {
        "colab": {
          "base_uri": "https://localhost:8080/"
        },
        "id": "BvrGcWBzPc12",
        "outputId": "f7b20a0f-85dd-46d7-eec9-a7d2ec985e18"
      },
      "source": [
        "# Null values in header h2\n",
        "\n",
        "print(\"Count of null values in h2:\" , df_headers[\"h2\"].isnull().sum())\n",
        "\n",
        "# Percentage of null values for h2\n",
        "\n",
        "print(\"Percentage of null values in h2: \" , round(df_headers[\"h2\"].isnull().sum() / df_headers.shape[0] * 100 , 2))"
      ],
      "execution_count": 92,
      "outputs": [
        {
          "output_type": "stream",
          "text": [
            "Count of null values in h2: 20762\n",
            "Percentage of null values in h2:  28.07\n"
          ],
          "name": "stdout"
        }
      ]
    },
    {
      "cell_type": "code",
      "metadata": {
        "colab": {
          "base_uri": "https://localhost:8080/"
        },
        "id": "BYFIasKWSjva",
        "outputId": "46031b35-12b1-4217-8be3-9bf4cde485ba"
      },
      "source": [
        "# Null values in header h3\n",
        "\n",
        "print(\"Count of null values in h3:\" , df_headers[\"h3\"].isnull().sum())\n",
        "\n",
        "# Percentage of null values for h3\n",
        "\n",
        "print(\"Percentage of null values in h3: \" , round(df_headers[\"h3\"].isnull().sum() / df_headers.shape[0] * 100 , 2))"
      ],
      "execution_count": 93,
      "outputs": [
        {
          "output_type": "stream",
          "text": [
            "Count of null values in h3: 29315\n",
            "Percentage of null values in h3:  39.63\n"
          ],
          "name": "stdout"
        }
      ]
    },
    {
      "cell_type": "markdown",
      "metadata": {
        "id": "awpn7m1TR-Px"
      },
      "source": [
        "*It's like loosing too much information if we opt for dropping null values!!*"
      ]
    },
    {
      "cell_type": "markdown",
      "metadata": {
        "id": "O2AxGHFAY_LI"
      },
      "source": [
        "**Let's combine h1 , h2 & h3 and then check for null..**"
      ]
    },
    {
      "cell_type": "code",
      "metadata": {
        "id": "fQxwtxZ3fR2m"
      },
      "source": [
        "# Replacing null values with empty string (so that when we combine header, it won't screw up because of NaN)\n",
        "\n",
        "df_headers = df_headers.fillna(\" \")"
      ],
      "execution_count": 94,
      "outputs": []
    },
    {
      "cell_type": "code",
      "metadata": {
        "colab": {
          "base_uri": "https://localhost:8080/",
          "height": 340
        },
        "id": "sd3wJX_vgjc4",
        "outputId": "c2fcc20d-c643-4441-ac9f-58723ed86aa7"
      },
      "source": [
        "df_headers.head()"
      ],
      "execution_count": 95,
      "outputs": [
        {
          "output_type": "execute_result",
          "data": {
            "text/html": [
              "<div>\n",
              "<style scoped>\n",
              "    .dataframe tbody tr th:only-of-type {\n",
              "        vertical-align: middle;\n",
              "    }\n",
              "\n",
              "    .dataframe tbody tr th {\n",
              "        vertical-align: top;\n",
              "    }\n",
              "\n",
              "    .dataframe thead th {\n",
              "        text-align: right;\n",
              "    }\n",
              "</style>\n",
              "<table border=\"1\" class=\"dataframe\">\n",
              "  <thead>\n",
              "    <tr style=\"text-align: right;\">\n",
              "      <th></th>\n",
              "      <th>company_name</th>\n",
              "      <th>h1</th>\n",
              "      <th>h2</th>\n",
              "      <th>h3</th>\n",
              "    </tr>\n",
              "  </thead>\n",
              "  <tbody>\n",
              "    <tr>\n",
              "      <th>0</th>\n",
              "      <td>bip dipietro electric inc</td>\n",
              "      <td></td>\n",
              "      <td></td>\n",
              "      <td></td>\n",
              "    </tr>\n",
              "    <tr>\n",
              "      <th>1</th>\n",
              "      <td>elias medical</td>\n",
              "      <td>Offering Bakersfield family medical care from pediatrics to geriatrics. Also offering skin care including Botox, Laser skin treatments and more.#sep#Elias Medical</td>\n",
              "      <td>Welcome to ELIAS MEDICAL#sep#Family Medical Practice#sep#SKIN CARE#sep#Schedule a Consultation\\n661.663.0300</td>\n",
              "      <td>Get To Know Elias Medical#sep#Family Medical Practice#sep#Consultations#sep#Skin Care</td>\n",
              "    </tr>\n",
              "    <tr>\n",
              "      <th>2</th>\n",
              "      <td>koops overhead doors</td>\n",
              "      <td></td>\n",
              "      <td>Customer Reviews#sep#Welcome to Koops Overhead Doors!</td>\n",
              "      <td></td>\n",
              "    </tr>\n",
              "    <tr>\n",
              "      <th>3</th>\n",
              "      <td>midtown eyecare</td>\n",
              "      <td></td>\n",
              "      <td>Welcome to our practice!</td>\n",
              "      <td></td>\n",
              "    </tr>\n",
              "    <tr>\n",
              "      <th>4</th>\n",
              "      <td>repro security ltd</td>\n",
              "      <td></td>\n",
              "      <td>Welcome to REPRO SECURITY Ltd</td>\n",
              "      <td></td>\n",
              "    </tr>\n",
              "  </tbody>\n",
              "</table>\n",
              "</div>"
            ],
            "text/plain": [
              "                company_name  ...                                                                                     h3\n",
              "0  bip dipietro electric inc  ...                                                                                       \n",
              "1  elias medical              ...  Get To Know Elias Medical#sep#Family Medical Practice#sep#Consultations#sep#Skin Care\n",
              "2  koops overhead doors       ...                                                                                       \n",
              "3  midtown eyecare            ...                                                                                       \n",
              "4  repro security ltd         ...                                                                                       \n",
              "\n",
              "[5 rows x 4 columns]"
            ]
          },
          "metadata": {
            "tags": []
          },
          "execution_count": 95
        }
      ]
    },
    {
      "cell_type": "code",
      "metadata": {
        "id": "TeRMeBV6Sfr-"
      },
      "source": [
        "# Merging h1 , h2 & h3\n",
        "\n",
        "df_headers[\"headers\"] = df_headers[\"h1\"] + \" \" + df_headers[\"h2\"] + \" \" + df_headers[\"h3\"]"
      ],
      "execution_count": 96,
      "outputs": []
    },
    {
      "cell_type": "code",
      "metadata": {
        "colab": {
          "base_uri": "https://localhost:8080/"
        },
        "id": "5kCAPgvKeaud",
        "outputId": "1f29c035-367e-4ec1-b322-caef207a74b1"
      },
      "source": [
        "pd.set_option(\"display.max_colwidth\" , -1)"
      ],
      "execution_count": 97,
      "outputs": [
        {
          "output_type": "stream",
          "text": [
            "/usr/local/lib/python3.7/dist-packages/ipykernel_launcher.py:1: FutureWarning: Passing a negative integer is deprecated in version 1.0 and will not be supported in future version. Instead, use None to not limit the column width.\n",
            "  \"\"\"Entry point for launching an IPython kernel.\n"
          ],
          "name": "stderr"
        }
      ]
    },
    {
      "cell_type": "code",
      "metadata": {
        "colab": {
          "base_uri": "https://localhost:8080/",
          "height": 391
        },
        "id": "8kRiZh3oa0Rp",
        "outputId": "7492749e-b668-40e9-b608-afff6b66498f"
      },
      "source": [
        "df_headers.head()"
      ],
      "execution_count": 98,
      "outputs": [
        {
          "output_type": "execute_result",
          "data": {
            "text/html": [
              "<div>\n",
              "<style scoped>\n",
              "    .dataframe tbody tr th:only-of-type {\n",
              "        vertical-align: middle;\n",
              "    }\n",
              "\n",
              "    .dataframe tbody tr th {\n",
              "        vertical-align: top;\n",
              "    }\n",
              "\n",
              "    .dataframe thead th {\n",
              "        text-align: right;\n",
              "    }\n",
              "</style>\n",
              "<table border=\"1\" class=\"dataframe\">\n",
              "  <thead>\n",
              "    <tr style=\"text-align: right;\">\n",
              "      <th></th>\n",
              "      <th>company_name</th>\n",
              "      <th>h1</th>\n",
              "      <th>h2</th>\n",
              "      <th>h3</th>\n",
              "      <th>headers</th>\n",
              "    </tr>\n",
              "  </thead>\n",
              "  <tbody>\n",
              "    <tr>\n",
              "      <th>0</th>\n",
              "      <td>bip dipietro electric inc</td>\n",
              "      <td></td>\n",
              "      <td></td>\n",
              "      <td></td>\n",
              "      <td></td>\n",
              "    </tr>\n",
              "    <tr>\n",
              "      <th>1</th>\n",
              "      <td>elias medical</td>\n",
              "      <td>Offering Bakersfield family medical care from pediatrics to geriatrics. Also offering skin care including Botox, Laser skin treatments and more.#sep#Elias Medical</td>\n",
              "      <td>Welcome to ELIAS MEDICAL#sep#Family Medical Practice#sep#SKIN CARE#sep#Schedule a Consultation\\n661.663.0300</td>\n",
              "      <td>Get To Know Elias Medical#sep#Family Medical Practice#sep#Consultations#sep#Skin Care</td>\n",
              "      <td>Offering Bakersfield family medical care from pediatrics to geriatrics. Also offering skin care including Botox, Laser skin treatments and more.#sep#Elias Medical Welcome to ELIAS MEDICAL#sep#Family Medical Practice#sep#SKIN CARE#sep#Schedule a Consultation\\n661.663.0300 Get To Know Elias Medical#sep#Family Medical Practice#sep#Consultations#sep#Skin Care</td>\n",
              "    </tr>\n",
              "    <tr>\n",
              "      <th>2</th>\n",
              "      <td>koops overhead doors</td>\n",
              "      <td></td>\n",
              "      <td>Customer Reviews#sep#Welcome to Koops Overhead Doors!</td>\n",
              "      <td></td>\n",
              "      <td>Customer Reviews#sep#Welcome to Koops Overhead Doors!</td>\n",
              "    </tr>\n",
              "    <tr>\n",
              "      <th>3</th>\n",
              "      <td>midtown eyecare</td>\n",
              "      <td></td>\n",
              "      <td>Welcome to our practice!</td>\n",
              "      <td></td>\n",
              "      <td>Welcome to our practice!</td>\n",
              "    </tr>\n",
              "    <tr>\n",
              "      <th>4</th>\n",
              "      <td>repro security ltd</td>\n",
              "      <td></td>\n",
              "      <td>Welcome to REPRO SECURITY Ltd</td>\n",
              "      <td></td>\n",
              "      <td>Welcome to REPRO SECURITY Ltd</td>\n",
              "    </tr>\n",
              "  </tbody>\n",
              "</table>\n",
              "</div>"
            ],
            "text/plain": [
              "                company_name  ...                                                                                                                                                                                                                                                                                                                                                                headers\n",
              "0  bip dipietro electric inc  ...                                                                                                                                                                                                                                                                                                                                                                       \n",
              "1  elias medical              ...  Offering Bakersfield family medical care from pediatrics to geriatrics. Also offering skin care including Botox, Laser skin treatments and more.#sep#Elias Medical Welcome to ELIAS MEDICAL#sep#Family Medical Practice#sep#SKIN CARE#sep#Schedule a Consultation\\n661.663.0300 Get To Know Elias Medical#sep#Family Medical Practice#sep#Consultations#sep#Skin Care\n",
              "2  koops overhead doors       ...    Customer Reviews#sep#Welcome to Koops Overhead Doors!                                                                                                                                                                                                                                                                                                              \n",
              "3  midtown eyecare            ...    Welcome to our practice!                                                                                                                                                                                                                                                                                                                                           \n",
              "4  repro security ltd         ...    Welcome to REPRO SECURITY Ltd                                                                                                                                                                                                                                                                                                                                      \n",
              "\n",
              "[5 rows x 5 columns]"
            ]
          },
          "metadata": {
            "tags": []
          },
          "execution_count": 98
        }
      ]
    },
    {
      "cell_type": "code",
      "metadata": {
        "id": "fFWeH1VdbIm9"
      },
      "source": [
        "# Now, dropping h1 , h2 & h3\n",
        "\n",
        "df_headers.drop([\"h1\" , \"h2\" , \"h3\"] , axis = 1 , inplace=True)"
      ],
      "execution_count": 99,
      "outputs": []
    },
    {
      "cell_type": "code",
      "metadata": {
        "colab": {
          "base_uri": "https://localhost:8080/",
          "height": 323
        },
        "id": "U2LXD-qZhitE",
        "outputId": "a8049fe0-c571-4cea-94f9-e88f19b4cadf"
      },
      "source": [
        "df_headers.head()"
      ],
      "execution_count": 100,
      "outputs": [
        {
          "output_type": "execute_result",
          "data": {
            "text/html": [
              "<div>\n",
              "<style scoped>\n",
              "    .dataframe tbody tr th:only-of-type {\n",
              "        vertical-align: middle;\n",
              "    }\n",
              "\n",
              "    .dataframe tbody tr th {\n",
              "        vertical-align: top;\n",
              "    }\n",
              "\n",
              "    .dataframe thead th {\n",
              "        text-align: right;\n",
              "    }\n",
              "</style>\n",
              "<table border=\"1\" class=\"dataframe\">\n",
              "  <thead>\n",
              "    <tr style=\"text-align: right;\">\n",
              "      <th></th>\n",
              "      <th>company_name</th>\n",
              "      <th>headers</th>\n",
              "    </tr>\n",
              "  </thead>\n",
              "  <tbody>\n",
              "    <tr>\n",
              "      <th>0</th>\n",
              "      <td>bip dipietro electric inc</td>\n",
              "      <td></td>\n",
              "    </tr>\n",
              "    <tr>\n",
              "      <th>1</th>\n",
              "      <td>elias medical</td>\n",
              "      <td>Offering Bakersfield family medical care from pediatrics to geriatrics. Also offering skin care including Botox, Laser skin treatments and more.#sep#Elias Medical Welcome to ELIAS MEDICAL#sep#Family Medical Practice#sep#SKIN CARE#sep#Schedule a Consultation\\n661.663.0300 Get To Know Elias Medical#sep#Family Medical Practice#sep#Consultations#sep#Skin Care</td>\n",
              "    </tr>\n",
              "    <tr>\n",
              "      <th>2</th>\n",
              "      <td>koops overhead doors</td>\n",
              "      <td>Customer Reviews#sep#Welcome to Koops Overhead Doors!</td>\n",
              "    </tr>\n",
              "    <tr>\n",
              "      <th>3</th>\n",
              "      <td>midtown eyecare</td>\n",
              "      <td>Welcome to our practice!</td>\n",
              "    </tr>\n",
              "    <tr>\n",
              "      <th>4</th>\n",
              "      <td>repro security ltd</td>\n",
              "      <td>Welcome to REPRO SECURITY Ltd</td>\n",
              "    </tr>\n",
              "  </tbody>\n",
              "</table>\n",
              "</div>"
            ],
            "text/plain": [
              "                company_name                                                                                                                                                                                                                                                                                                                                                                headers\n",
              "0  bip dipietro electric inc                                                                                                                                                                                                                                                                                                                                                                       \n",
              "1  elias medical              Offering Bakersfield family medical care from pediatrics to geriatrics. Also offering skin care including Botox, Laser skin treatments and more.#sep#Elias Medical Welcome to ELIAS MEDICAL#sep#Family Medical Practice#sep#SKIN CARE#sep#Schedule a Consultation\\n661.663.0300 Get To Know Elias Medical#sep#Family Medical Practice#sep#Consultations#sep#Skin Care\n",
              "2  koops overhead doors         Customer Reviews#sep#Welcome to Koops Overhead Doors!                                                                                                                                                                                                                                                                                                              \n",
              "3  midtown eyecare              Welcome to our practice!                                                                                                                                                                                                                                                                                                                                           \n",
              "4  repro security ltd           Welcome to REPRO SECURITY Ltd                                                                                                                                                                                                                                                                                                                                      "
            ]
          },
          "metadata": {
            "tags": []
          },
          "execution_count": 100
        }
      ]
    },
    {
      "cell_type": "code",
      "metadata": {
        "colab": {
          "base_uri": "https://localhost:8080/",
          "height": 35
        },
        "id": "BSSz49RLnxBG",
        "outputId": "6ae4f874-5ccc-4286-be98-5da9b576ed32"
      },
      "source": [
        "df_headers[\"headers\"][0]"
      ],
      "execution_count": 101,
      "outputs": [
        {
          "output_type": "execute_result",
          "data": {
            "application/vnd.google.colaboratory.intrinsic+json": {
              "type": "string"
            },
            "text/plain": [
              "'     '"
            ]
          },
          "metadata": {
            "tags": []
          },
          "execution_count": 101
        }
      ]
    },
    {
      "cell_type": "code",
      "metadata": {
        "colab": {
          "base_uri": "https://localhost:8080/"
        },
        "id": "iIT98nvDmyhL",
        "outputId": "aae1c586-412a-4293-8e7e-16aa35bb9b68"
      },
      "source": [
        "# Total number of empty headers even after merging (it's 5 white spaces as we have added extra spaces in between to separate text while merging cols)\n",
        "\n",
        "emp_val = sum(df_headers[\"headers\"] == '     ')\n",
        "emp_val"
      ],
      "execution_count": 102,
      "outputs": [
        {
          "output_type": "execute_result",
          "data": {
            "text/plain": [
              "7461"
            ]
          },
          "metadata": {
            "tags": []
          },
          "execution_count": 102
        }
      ]
    },
    {
      "cell_type": "code",
      "metadata": {
        "colab": {
          "base_uri": "https://localhost:8080/"
        },
        "id": "6bxosZ25n4jU",
        "outputId": "d1376ac1-dc73-4500-8f77-f27c4c92a735"
      },
      "source": [
        "# Percentage of empty values after merging\n",
        "\n",
        "print(\"Percentage of empty values of header after merging all headers: \" , round(emp_val/df_headers.shape[0] * 100 , 2))"
      ],
      "execution_count": 103,
      "outputs": [
        {
          "output_type": "stream",
          "text": [
            "Percentage of empty values of header after merging all headers:  10.09\n"
          ],
          "name": "stdout"
        }
      ]
    },
    {
      "cell_type": "markdown",
      "metadata": {
        "id": "fkVxA9xvprYm"
      },
      "source": [
        "*It's 10% and now we can drop these!*"
      ]
    },
    {
      "cell_type": "code",
      "metadata": {
        "id": "P8mgEPQ2pj-h"
      },
      "source": [
        "# Dropping empty values in headers\n",
        "\n",
        "df_headers.drop(df_headers[df_headers['headers'] == '     '].index , inplace=True)"
      ],
      "execution_count": 104,
      "outputs": []
    },
    {
      "cell_type": "code",
      "metadata": {
        "colab": {
          "base_uri": "https://localhost:8080/",
          "height": 357
        },
        "id": "GJvLsLoJp4Oi",
        "outputId": "bd3d8ee9-efd5-4501-800b-3051a32839d4"
      },
      "source": [
        "df_headers.head()"
      ],
      "execution_count": 105,
      "outputs": [
        {
          "output_type": "execute_result",
          "data": {
            "text/html": [
              "<div>\n",
              "<style scoped>\n",
              "    .dataframe tbody tr th:only-of-type {\n",
              "        vertical-align: middle;\n",
              "    }\n",
              "\n",
              "    .dataframe tbody tr th {\n",
              "        vertical-align: top;\n",
              "    }\n",
              "\n",
              "    .dataframe thead th {\n",
              "        text-align: right;\n",
              "    }\n",
              "</style>\n",
              "<table border=\"1\" class=\"dataframe\">\n",
              "  <thead>\n",
              "    <tr style=\"text-align: right;\">\n",
              "      <th></th>\n",
              "      <th>company_name</th>\n",
              "      <th>headers</th>\n",
              "    </tr>\n",
              "  </thead>\n",
              "  <tbody>\n",
              "    <tr>\n",
              "      <th>1</th>\n",
              "      <td>elias medical</td>\n",
              "      <td>Offering Bakersfield family medical care from pediatrics to geriatrics. Also offering skin care including Botox, Laser skin treatments and more.#sep#Elias Medical Welcome to ELIAS MEDICAL#sep#Family Medical Practice#sep#SKIN CARE#sep#Schedule a Consultation\\n661.663.0300 Get To Know Elias Medical#sep#Family Medical Practice#sep#Consultations#sep#Skin Care</td>\n",
              "    </tr>\n",
              "    <tr>\n",
              "      <th>2</th>\n",
              "      <td>koops overhead doors</td>\n",
              "      <td>Customer Reviews#sep#Welcome to Koops Overhead Doors!</td>\n",
              "    </tr>\n",
              "    <tr>\n",
              "      <th>3</th>\n",
              "      <td>midtown eyecare</td>\n",
              "      <td>Welcome to our practice!</td>\n",
              "    </tr>\n",
              "    <tr>\n",
              "      <th>4</th>\n",
              "      <td>repro security ltd</td>\n",
              "      <td>Welcome to REPRO SECURITY Ltd</td>\n",
              "    </tr>\n",
              "    <tr>\n",
              "      <th>5</th>\n",
              "      <td>wood green timber company limited</td>\n",
              "      <td>At Wood Green Timber Co. Ltd., London, and our Potters Bar Hertfordshire Yard we stock a comprehensive selection of timber suitable for a wide variety of uses. From floor joists to decorative mouldings, we have it all, in stock and ready to take away or for delivery if you prefer. Our aim is to maintain high stock levels in order to satisfy all your building requirements immediately, however we are equally happy to source specialist requirements for delivery or collection at a later date. Location | Wood Green#sep#Opening Hours#sep#Location | Potter Bar</td>\n",
              "    </tr>\n",
              "  </tbody>\n",
              "</table>\n",
              "</div>"
            ],
            "text/plain": [
              "                        company_name                                                                                                                                                                                                                                                                                                                                                                                                                                                                                                                                                                          headers\n",
              "1  elias medical                      Offering Bakersfield family medical care from pediatrics to geriatrics. Also offering skin care including Botox, Laser skin treatments and more.#sep#Elias Medical Welcome to ELIAS MEDICAL#sep#Family Medical Practice#sep#SKIN CARE#sep#Schedule a Consultation\\n661.663.0300 Get To Know Elias Medical#sep#Family Medical Practice#sep#Consultations#sep#Skin Care                                                                                                                                                                                                          \n",
              "2  koops overhead doors                 Customer Reviews#sep#Welcome to Koops Overhead Doors!                                                                                                                                                                                                                                                                                                                                                                                                                                                                                                                        \n",
              "3  midtown eyecare                      Welcome to our practice!                                                                                                                                                                                                                                                                                                                                                                                                                                                                                                                                                     \n",
              "4  repro security ltd                   Welcome to REPRO SECURITY Ltd                                                                                                                                                                                                                                                                                                                                                                                                                                                                                                                                                \n",
              "5  wood green timber company limited  At Wood Green Timber Co. Ltd., London, and our Potters Bar Hertfordshire Yard we stock a comprehensive selection of timber suitable for a wide variety of uses. From floor joists to decorative mouldings, we have it all, in stock and ready to take away or for delivery if you prefer. Our aim is to maintain high stock levels in order to satisfy all your building requirements immediately, however we are equally happy to source specialist requirements for delivery or collection at a later date. Location | Wood Green#sep#Opening Hours#sep#Location | Potter Bar"
            ]
          },
          "metadata": {
            "tags": []
          },
          "execution_count": 105
        }
      ]
    },
    {
      "cell_type": "code",
      "metadata": {
        "colab": {
          "base_uri": "https://localhost:8080/"
        },
        "id": "WOtBm-_tq4ss",
        "outputId": "1e03c765-d86b-453c-ccb3-c15840f8c626"
      },
      "source": [
        "df_headers.shape"
      ],
      "execution_count": 106,
      "outputs": [
        {
          "output_type": "execute_result",
          "data": {
            "text/plain": [
              "(66513, 2)"
            ]
          },
          "metadata": {
            "tags": []
          },
          "execution_count": 106
        }
      ]
    },
    {
      "cell_type": "code",
      "metadata": {
        "id": "mjvG8BGPscz8"
      },
      "source": [
        "# Resetting index\n",
        "\n",
        "df_headers.reset_index(inplace=True)"
      ],
      "execution_count": 107,
      "outputs": []
    },
    {
      "cell_type": "code",
      "metadata": {
        "colab": {
          "base_uri": "https://localhost:8080/"
        },
        "id": "Z_PHLMeztVHE",
        "outputId": "071e6274-3900-4588-ee4b-15b7b331061b"
      },
      "source": [
        "df_headers.columns"
      ],
      "execution_count": 108,
      "outputs": [
        {
          "output_type": "execute_result",
          "data": {
            "text/plain": [
              "Index(['index', 'company_name', 'headers'], dtype='object')"
            ]
          },
          "metadata": {
            "tags": []
          },
          "execution_count": 108
        }
      ]
    },
    {
      "cell_type": "code",
      "metadata": {
        "id": "RK_BbKg_spq0"
      },
      "source": [
        "# Dropping index\n",
        "\n",
        "df_headers.drop(\"index\" , axis = 1 , inplace = True)"
      ],
      "execution_count": 109,
      "outputs": []
    },
    {
      "cell_type": "code",
      "metadata": {
        "colab": {
          "base_uri": "https://localhost:8080/",
          "height": 374
        },
        "id": "wdRP3ZaLtEEB",
        "outputId": "ef29955e-f64f-47e3-b2fe-65bed2628675"
      },
      "source": [
        "df_headers.tail()"
      ],
      "execution_count": 110,
      "outputs": [
        {
          "output_type": "execute_result",
          "data": {
            "text/html": [
              "<div>\n",
              "<style scoped>\n",
              "    .dataframe tbody tr th:only-of-type {\n",
              "        vertical-align: middle;\n",
              "    }\n",
              "\n",
              "    .dataframe tbody tr th {\n",
              "        vertical-align: top;\n",
              "    }\n",
              "\n",
              "    .dataframe thead th {\n",
              "        text-align: right;\n",
              "    }\n",
              "</style>\n",
              "<table border=\"1\" class=\"dataframe\">\n",
              "  <thead>\n",
              "    <tr style=\"text-align: right;\">\n",
              "      <th></th>\n",
              "      <th>company_name</th>\n",
              "      <th>headers</th>\n",
              "    </tr>\n",
              "  </thead>\n",
              "  <tbody>\n",
              "    <tr>\n",
              "      <th>66508</th>\n",
              "      <td>patagonia foods</td>\n",
              "      <td>Retail#sep#Quality &amp; food safety#sep#Who We Serve#sep#Beverages#sep#Products we offer#sep#Ingredients#sep#Manufacturing#sep#Food Service Frozen Fresh Daily#sep#Keep Healthy Clean#sep#Simple &amp; Sweet#sep#Fruit for All#sep#Activate your Health#sep#Nature’s Frost#sep#Farm to Frozen#sep#Vegetarian-Approved#sep#Fuel your Nutrition#sep#Plant Power#sep#Nothing less than 100% Satisfaction</td>\n",
              "    </tr>\n",
              "    <tr>\n",
              "      <th>66509</th>\n",
              "      <td>claddagh coffee</td>\n",
              "      <td>​</td>\n",
              "    </tr>\n",
              "    <tr>\n",
              "      <th>66510</th>\n",
              "      <td>beautyologist</td>\n",
              "      <td>Beautyologist Beauty Salon Welcome to Beautyologist#sep#Sia's Spotlight Specialist in skin &amp; body beauty#sep#Lymphatic Drainage Facial Massage#sep#Fear of Missing Out?</td>\n",
              "    </tr>\n",
              "    <tr>\n",
              "      <th>66511</th>\n",
              "      <td>beauty call</td>\n",
              "      <td>Mobile Hair &amp; Makeup Artists across the UK Why use us?#sep#253 artists available to your location#sep#Our background#sep#Here's how we can help you#sep#Hair &amp; Makeup Artists all over the UK#sep#Key members of our team#sep#Here's what some of our clients say... Fran#sep#Special Occasions#sep#Lessons#sep#Head Office#sep#Popular Services#sep#Chloe-P#sep#Connect with us:#sep#Alison#sep#Request a call back#sep#Hen Parties#sep#Beauty Call#sep#Beauty Call Head Office#sep#Ella#sep#Grace-R#sep#Contact via email:#sep#Becky-S#sep#Samantha-B#sep#Corporate Events#sep#General enquiries:#sep#Marie-K#sep#Haleema#sep#Carol#sep#Popular Locations#sep#Weddings#sep#Proms#sep#Booking form:#sep#Have questions?</td>\n",
              "    </tr>\n",
              "    <tr>\n",
              "      <th>66512</th>\n",
              "      <td>little lady foods</td>\n",
              "      <td>Discover, Innovate, Execute, Enjoy! Pizza is our passion, and we want to share it with you#sep#We want to bring your ideas to life#sep#We are your full-service pizza partner#sep#We know pizza Branded#sep#Contact Us#sep#Crusts from classic to artisan#sep#Grocery-aisle ready packaging#sep#Food Service#sep#Execute on a major scale#sep#Private Label#sep#We are creators, innovators and experts#sep#No limit on flavor#sep#Innovation is our recipe for success</td>\n",
              "    </tr>\n",
              "  </tbody>\n",
              "</table>\n",
              "</div>"
            ],
            "text/plain": [
              "            company_name                                                                                                                                                                                                                                                                                                                                                                                                                                                                                                                                                                                                                                                                                                                   headers\n",
              "66508  patagonia foods      Retail#sep#Quality & food safety#sep#Who We Serve#sep#Beverages#sep#Products we offer#sep#Ingredients#sep#Manufacturing#sep#Food Service Frozen Fresh Daily#sep#Keep Healthy Clean#sep#Simple & Sweet#sep#Fruit for All#sep#Activate your Health#sep#Nature’s Frost#sep#Farm to Frozen#sep#Vegetarian-Approved#sep#Fuel your Nutrition#sep#Plant Power#sep#Nothing less than 100% Satisfaction                                                                                                                                                                                                                                                                                                                        \n",
              "66509  claddagh coffee      ​                                                                                                                                                                                                                                                                                                                                                                                                                                                                                                                                                                                                                                                                                                                     \n",
              "66510  beautyologist      Beautyologist Beauty Salon Welcome to Beautyologist#sep#Sia's Spotlight Specialist in skin & body beauty#sep#Lymphatic Drainage Facial Massage#sep#Fear of Missing Out?                                                                                                                                                                                                                                                                                                                                                                                                                                                                                                                                                 \n",
              "66511  beauty call        Mobile Hair & Makeup Artists across the UK Why use us?#sep#253 artists available to your location#sep#Our background#sep#Here's how we can help you#sep#Hair & Makeup Artists all over the UK#sep#Key members of our team#sep#Here's what some of our clients say... Fran#sep#Special Occasions#sep#Lessons#sep#Head Office#sep#Popular Services#sep#Chloe-P#sep#Connect with us:#sep#Alison#sep#Request a call back#sep#Hen Parties#sep#Beauty Call#sep#Beauty Call Head Office#sep#Ella#sep#Grace-R#sep#Contact via email:#sep#Becky-S#sep#Samantha-B#sep#Corporate Events#sep#General enquiries:#sep#Marie-K#sep#Haleema#sep#Carol#sep#Popular Locations#sep#Weddings#sep#Proms#sep#Booking form:#sep#Have questions?\n",
              "66512  little lady foods  Discover, Innovate, Execute, Enjoy! Pizza is our passion, and we want to share it with you#sep#We want to bring your ideas to life#sep#We are your full-service pizza partner#sep#We know pizza Branded#sep#Contact Us#sep#Crusts from classic to artisan#sep#Grocery-aisle ready packaging#sep#Food Service#sep#Execute on a major scale#sep#Private Label#sep#We are creators, innovators and experts#sep#No limit on flavor#sep#Innovation is our recipe for success                                                                                                                                                                                                                                                 "
            ]
          },
          "metadata": {
            "tags": []
          },
          "execution_count": 110
        }
      ]
    },
    {
      "cell_type": "markdown",
      "metadata": {
        "id": "WVX6cH1Nt9IC"
      },
      "source": [
        "**Text Preprocessing..**"
      ]
    },
    {
      "cell_type": "code",
      "metadata": {
        "id": "TtJyNwu_io5D"
      },
      "source": [
        "# function for replacing # with whitespaces (if we deal it with punctuation removal then the words just before and after hashtag will be joined together, which won't make any sense)\n",
        "\n",
        "def hashtag(text):\n",
        "\n",
        "  text = text.replace(\"#\" , \" \")\n",
        "\n",
        "  return text"
      ],
      "execution_count": 111,
      "outputs": []
    },
    {
      "cell_type": "code",
      "metadata": {
        "id": "9YvyQaa4jyvD"
      },
      "source": [
        "df_headers[\"headers\"] = df_headers[\"headers\"].apply(hashtag)"
      ],
      "execution_count": 112,
      "outputs": []
    },
    {
      "cell_type": "code",
      "metadata": {
        "colab": {
          "base_uri": "https://localhost:8080/",
          "height": 357
        },
        "id": "MOMgODllkKQj",
        "outputId": "11a1385d-4e23-4263-f856-d925f153600a"
      },
      "source": [
        "df_headers.head()"
      ],
      "execution_count": 113,
      "outputs": [
        {
          "output_type": "execute_result",
          "data": {
            "text/html": [
              "<div>\n",
              "<style scoped>\n",
              "    .dataframe tbody tr th:only-of-type {\n",
              "        vertical-align: middle;\n",
              "    }\n",
              "\n",
              "    .dataframe tbody tr th {\n",
              "        vertical-align: top;\n",
              "    }\n",
              "\n",
              "    .dataframe thead th {\n",
              "        text-align: right;\n",
              "    }\n",
              "</style>\n",
              "<table border=\"1\" class=\"dataframe\">\n",
              "  <thead>\n",
              "    <tr style=\"text-align: right;\">\n",
              "      <th></th>\n",
              "      <th>company_name</th>\n",
              "      <th>headers</th>\n",
              "    </tr>\n",
              "  </thead>\n",
              "  <tbody>\n",
              "    <tr>\n",
              "      <th>0</th>\n",
              "      <td>elias medical</td>\n",
              "      <td>Offering Bakersfield family medical care from pediatrics to geriatrics. Also offering skin care including Botox, Laser skin treatments and more. sep Elias Medical Welcome to ELIAS MEDICAL sep Family Medical Practice sep SKIN CARE sep Schedule a Consultation\\n661.663.0300 Get To Know Elias Medical sep Family Medical Practice sep Consultations sep Skin Care</td>\n",
              "    </tr>\n",
              "    <tr>\n",
              "      <th>1</th>\n",
              "      <td>koops overhead doors</td>\n",
              "      <td>Customer Reviews sep Welcome to Koops Overhead Doors!</td>\n",
              "    </tr>\n",
              "    <tr>\n",
              "      <th>2</th>\n",
              "      <td>midtown eyecare</td>\n",
              "      <td>Welcome to our practice!</td>\n",
              "    </tr>\n",
              "    <tr>\n",
              "      <th>3</th>\n",
              "      <td>repro security ltd</td>\n",
              "      <td>Welcome to REPRO SECURITY Ltd</td>\n",
              "    </tr>\n",
              "    <tr>\n",
              "      <th>4</th>\n",
              "      <td>wood green timber company limited</td>\n",
              "      <td>At Wood Green Timber Co. Ltd., London, and our Potters Bar Hertfordshire Yard we stock a comprehensive selection of timber suitable for a wide variety of uses. From floor joists to decorative mouldings, we have it all, in stock and ready to take away or for delivery if you prefer. Our aim is to maintain high stock levels in order to satisfy all your building requirements immediately, however we are equally happy to source specialist requirements for delivery or collection at a later date. Location | Wood Green sep Opening Hours sep Location | Potter Bar</td>\n",
              "    </tr>\n",
              "  </tbody>\n",
              "</table>\n",
              "</div>"
            ],
            "text/plain": [
              "                        company_name                                                                                                                                                                                                                                                                                                                                                                                                                                                                                                                                                                          headers\n",
              "0  elias medical                      Offering Bakersfield family medical care from pediatrics to geriatrics. Also offering skin care including Botox, Laser skin treatments and more. sep Elias Medical Welcome to ELIAS MEDICAL sep Family Medical Practice sep SKIN CARE sep Schedule a Consultation\\n661.663.0300 Get To Know Elias Medical sep Family Medical Practice sep Consultations sep Skin Care                                                                                                                                                                                                          \n",
              "1  koops overhead doors                 Customer Reviews sep Welcome to Koops Overhead Doors!                                                                                                                                                                                                                                                                                                                                                                                                                                                                                                                        \n",
              "2  midtown eyecare                      Welcome to our practice!                                                                                                                                                                                                                                                                                                                                                                                                                                                                                                                                                     \n",
              "3  repro security ltd                   Welcome to REPRO SECURITY Ltd                                                                                                                                                                                                                                                                                                                                                                                                                                                                                                                                                \n",
              "4  wood green timber company limited  At Wood Green Timber Co. Ltd., London, and our Potters Bar Hertfordshire Yard we stock a comprehensive selection of timber suitable for a wide variety of uses. From floor joists to decorative mouldings, we have it all, in stock and ready to take away or for delivery if you prefer. Our aim is to maintain high stock levels in order to satisfy all your building requirements immediately, however we are equally happy to source specialist requirements for delivery or collection at a later date. Location | Wood Green sep Opening Hours sep Location | Potter Bar"
            ]
          },
          "metadata": {
            "tags": []
          },
          "execution_count": 113
        }
      ]
    },
    {
      "cell_type": "code",
      "metadata": {
        "id": "6qN7Hle1zhub"
      },
      "source": [
        "# Function to get the count of word in string\n",
        "\n",
        "def get_len(text):\n",
        "\n",
        "  '''function to get the count of words in string'''\n",
        "  \n",
        "  import re\n",
        "\n",
        "  # using regex (findall())\n",
        "  # to count words in string\n",
        "\n",
        "  res = len(re.findall(r'\\w+', text))\n",
        "\n",
        "  return res"
      ],
      "execution_count": 114,
      "outputs": []
    },
    {
      "cell_type": "code",
      "metadata": {
        "id": "LRvbTcstzIEy"
      },
      "source": [
        "# Count of words in each of the header\n",
        "\n",
        "df_headers[\"len\"] = df_headers[\"headers\"].apply(get_len)"
      ],
      "execution_count": 115,
      "outputs": []
    },
    {
      "cell_type": "code",
      "metadata": {
        "colab": {
          "base_uri": "https://localhost:8080/",
          "height": 357
        },
        "id": "MYdmR-5fz6lw",
        "outputId": "52b31449-06dd-45c9-9537-2c8ff15bec6c"
      },
      "source": [
        "df_headers.head()"
      ],
      "execution_count": 116,
      "outputs": [
        {
          "output_type": "execute_result",
          "data": {
            "text/html": [
              "<div>\n",
              "<style scoped>\n",
              "    .dataframe tbody tr th:only-of-type {\n",
              "        vertical-align: middle;\n",
              "    }\n",
              "\n",
              "    .dataframe tbody tr th {\n",
              "        vertical-align: top;\n",
              "    }\n",
              "\n",
              "    .dataframe thead th {\n",
              "        text-align: right;\n",
              "    }\n",
              "</style>\n",
              "<table border=\"1\" class=\"dataframe\">\n",
              "  <thead>\n",
              "    <tr style=\"text-align: right;\">\n",
              "      <th></th>\n",
              "      <th>company_name</th>\n",
              "      <th>headers</th>\n",
              "      <th>len</th>\n",
              "    </tr>\n",
              "  </thead>\n",
              "  <tbody>\n",
              "    <tr>\n",
              "      <th>0</th>\n",
              "      <td>elias medical</td>\n",
              "      <td>Offering Bakersfield family medical care from pediatrics to geriatrics. Also offering skin care including Botox, Laser skin treatments and more. sep Elias Medical Welcome to ELIAS MEDICAL sep Family Medical Practice sep SKIN CARE sep Schedule a Consultation\\n661.663.0300 Get To Know Elias Medical sep Family Medical Practice sep Consultations sep Skin Care</td>\n",
              "      <td>55</td>\n",
              "    </tr>\n",
              "    <tr>\n",
              "      <th>1</th>\n",
              "      <td>koops overhead doors</td>\n",
              "      <td>Customer Reviews sep Welcome to Koops Overhead Doors!</td>\n",
              "      <td>8</td>\n",
              "    </tr>\n",
              "    <tr>\n",
              "      <th>2</th>\n",
              "      <td>midtown eyecare</td>\n",
              "      <td>Welcome to our practice!</td>\n",
              "      <td>4</td>\n",
              "    </tr>\n",
              "    <tr>\n",
              "      <th>3</th>\n",
              "      <td>repro security ltd</td>\n",
              "      <td>Welcome to REPRO SECURITY Ltd</td>\n",
              "      <td>5</td>\n",
              "    </tr>\n",
              "    <tr>\n",
              "      <th>4</th>\n",
              "      <td>wood green timber company limited</td>\n",
              "      <td>At Wood Green Timber Co. Ltd., London, and our Potters Bar Hertfordshire Yard we stock a comprehensive selection of timber suitable for a wide variety of uses. From floor joists to decorative mouldings, we have it all, in stock and ready to take away or for delivery if you prefer. Our aim is to maintain high stock levels in order to satisfy all your building requirements immediately, however we are equally happy to source specialist requirements for delivery or collection at a later date. Location | Wood Green sep Opening Hours sep Location | Potter Bar</td>\n",
              "      <td>94</td>\n",
              "    </tr>\n",
              "  </tbody>\n",
              "</table>\n",
              "</div>"
            ],
            "text/plain": [
              "                        company_name  ... len\n",
              "0  elias medical                      ...  55\n",
              "1  koops overhead doors               ...  8 \n",
              "2  midtown eyecare                    ...  4 \n",
              "3  repro security ltd                 ...  5 \n",
              "4  wood green timber company limited  ...  94\n",
              "\n",
              "[5 rows x 3 columns]"
            ]
          },
          "metadata": {
            "tags": []
          },
          "execution_count": 116
        }
      ]
    },
    {
      "cell_type": "code",
      "metadata": {
        "colab": {
          "base_uri": "https://localhost:8080/",
          "height": 282
        },
        "id": "wDeyeYsq0GDc",
        "outputId": "1ad07068-6780-4f42-f848-e375d2511759"
      },
      "source": [
        "# Distribution of words\n",
        "\n",
        "df_headers[\"len\"].plot(bins = 50 , kind = \"hist\")"
      ],
      "execution_count": 117,
      "outputs": [
        {
          "output_type": "execute_result",
          "data": {
            "text/plain": [
              "<matplotlib.axes._subplots.AxesSubplot at 0x7f3ef79fca50>"
            ]
          },
          "metadata": {
            "tags": []
          },
          "execution_count": 117
        },
        {
          "output_type": "display_data",
          "data": {
            "image/png": "[encoded data removed]",
            "text/plain": [
              "<Figure size 432x288 with 1 Axes>"
            ]
          },
          "metadata": {
            "tags": [],
            "needs_background": "light"
          }
        }
      ]
    },
    {
      "cell_type": "code",
      "metadata": {
        "colab": {
          "base_uri": "https://localhost:8080/"
        },
        "id": "PbyR9ABl0WvG",
        "outputId": "e81981c2-2f96-4540-ef7b-4cf44488a8b2"
      },
      "source": [
        "df_headers.len.describe()"
      ],
      "execution_count": 118,
      "outputs": [
        {
          "output_type": "execute_result",
          "data": {
            "text/plain": [
              "count    66513.000000\n",
              "mean     54.440666   \n",
              "std      84.444495   \n",
              "min      0.000000    \n",
              "25%      17.000000   \n",
              "50%      36.000000   \n",
              "75%      68.000000   \n",
              "max      5708.000000 \n",
              "Name: len, dtype: float64"
            ]
          },
          "metadata": {
            "tags": []
          },
          "execution_count": 118
        }
      ]
    },
    {
      "cell_type": "code",
      "metadata": {
        "colab": {
          "base_uri": "https://localhost:8080/",
          "height": 452
        },
        "id": "RCXTsv890akn",
        "outputId": "79d306af-cd25-40b5-b2d9-6e863d0d30f2"
      },
      "source": [
        "df_headers[df_headers[\"len\"] == 0] # as there are only special characters"
      ],
      "execution_count": 119,
      "outputs": [
        {
          "output_type": "execute_result",
          "data": {
            "text/html": [
              "<div>\n",
              "<style scoped>\n",
              "    .dataframe tbody tr th:only-of-type {\n",
              "        vertical-align: middle;\n",
              "    }\n",
              "\n",
              "    .dataframe tbody tr th {\n",
              "        vertical-align: top;\n",
              "    }\n",
              "\n",
              "    .dataframe thead th {\n",
              "        text-align: right;\n",
              "    }\n",
              "</style>\n",
              "<table border=\"1\" class=\"dataframe\">\n",
              "  <thead>\n",
              "    <tr style=\"text-align: right;\">\n",
              "      <th></th>\n",
              "      <th>company_name</th>\n",
              "      <th>headers</th>\n",
              "      <th>len</th>\n",
              "    </tr>\n",
              "  </thead>\n",
              "  <tbody>\n",
              "    <tr>\n",
              "      <th>4236</th>\n",
              "      <td>newportcare medical group</td>\n",
              "      <td>©</td>\n",
              "      <td>0</td>\n",
              "    </tr>\n",
              "    <tr>\n",
              "      <th>7276</th>\n",
              "      <td>question de finance inc.</td>\n",
              "      <td>... &amp;</td>\n",
              "      <td>0</td>\n",
              "    </tr>\n",
              "    <tr>\n",
              "      <th>9178</th>\n",
              "      <td>cedar street asset management llc</td>\n",
              "      <td>​</td>\n",
              "      <td>0</td>\n",
              "    </tr>\n",
              "    <tr>\n",
              "      <th>9807</th>\n",
              "      <td>kushal chemicals</td>\n",
              "      <td>﻿</td>\n",
              "      <td>0</td>\n",
              "    </tr>\n",
              "    <tr>\n",
              "      <th>13528</th>\n",
              "      <td>sentynl therapeutics, inc.</td>\n",
              "      <td>.</td>\n",
              "      <td>0</td>\n",
              "    </tr>\n",
              "    <tr>\n",
              "      <th>16045</th>\n",
              "      <td>scrap metal merchants</td>\n",
              "      <td>​</td>\n",
              "      <td>0</td>\n",
              "    </tr>\n",
              "    <tr>\n",
              "      <th>20228</th>\n",
              "      <td>go architects, inc.</td>\n",
              "      <td>​</td>\n",
              "      <td>0</td>\n",
              "    </tr>\n",
              "    <tr>\n",
              "      <th>27586</th>\n",
              "      <td>morado energy minerals</td>\n",
              "      <td>.</td>\n",
              "      <td>0</td>\n",
              "    </tr>\n",
              "    <tr>\n",
              "      <th>32737</th>\n",
              "      <td>smv recruiting</td>\n",
              "      <td>​</td>\n",
              "      <td>0</td>\n",
              "    </tr>\n",
              "    <tr>\n",
              "      <th>38906</th>\n",
              "      <td>brittany janae public relations, inc.</td>\n",
              "      <td>-</td>\n",
              "      <td>0</td>\n",
              "    </tr>\n",
              "    <tr>\n",
              "      <th>42785</th>\n",
              "      <td>never settle solutions</td>\n",
              "      <td>▼</td>\n",
              "      <td>0</td>\n",
              "    </tr>\n",
              "    <tr>\n",
              "      <th>43055</th>\n",
              "      <td>trilogy solutions, llc</td>\n",
              "      <td>​</td>\n",
              "      <td>0</td>\n",
              "    </tr>\n",
              "    <tr>\n",
              "      <th>66509</th>\n",
              "      <td>claddagh coffee</td>\n",
              "      <td>​</td>\n",
              "      <td>0</td>\n",
              "    </tr>\n",
              "  </tbody>\n",
              "</table>\n",
              "</div>"
            ],
            "text/plain": [
              "                                company_name     headers  len\n",
              "4236   newportcare medical group                ©         0  \n",
              "7276   question de finance inc.               ... &       0  \n",
              "9178   cedar street asset management llc        ​         0  \n",
              "9807   kushal chemicals                         ﻿         0  \n",
              "13528  sentynl therapeutics, inc.             .           0  \n",
              "16045  scrap metal merchants                    ​         0  \n",
              "20228  go architects, inc.                    ​           0  \n",
              "27586  morado energy minerals                 .           0  \n",
              "32737  smv recruiting                           ​         0  \n",
              "38906  brittany janae public relations, inc.  -           0  \n",
              "42785  never settle solutions                   ▼         0  \n",
              "43055  trilogy solutions, llc                     ​       0  \n",
              "66509  claddagh coffee                          ​         0  "
            ]
          },
          "metadata": {
            "tags": []
          },
          "execution_count": 119
        }
      ]
    },
    {
      "cell_type": "code",
      "metadata": {
        "id": "rrOb_2uF0x8U"
      },
      "source": [
        "# Dropping these as they are not adding any value\n",
        "\n",
        "df_headers.drop(df_headers[df_headers['len'] == 0].index , inplace=True)"
      ],
      "execution_count": 120,
      "outputs": []
    },
    {
      "cell_type": "code",
      "metadata": {
        "colab": {
          "base_uri": "https://localhost:8080/",
          "height": 419
        },
        "id": "08-U1D6e0-GP",
        "outputId": "9da93862-da4a-4a85-bdc5-e125e01a21a4"
      },
      "source": [
        "df_headers[df_headers[\"len\"] < 3]"
      ],
      "execution_count": 121,
      "outputs": [
        {
          "output_type": "execute_result",
          "data": {
            "text/html": [
              "<div>\n",
              "<style scoped>\n",
              "    .dataframe tbody tr th:only-of-type {\n",
              "        vertical-align: middle;\n",
              "    }\n",
              "\n",
              "    .dataframe tbody tr th {\n",
              "        vertical-align: top;\n",
              "    }\n",
              "\n",
              "    .dataframe thead th {\n",
              "        text-align: right;\n",
              "    }\n",
              "</style>\n",
              "<table border=\"1\" class=\"dataframe\">\n",
              "  <thead>\n",
              "    <tr style=\"text-align: right;\">\n",
              "      <th></th>\n",
              "      <th>company_name</th>\n",
              "      <th>headers</th>\n",
              "      <th>len</th>\n",
              "    </tr>\n",
              "  </thead>\n",
              "  <tbody>\n",
              "    <tr>\n",
              "      <th>74</th>\n",
              "      <td>secured financial solutions</td>\n",
              "      <td>-   Quick Contact</td>\n",
              "      <td>2</td>\n",
              "    </tr>\n",
              "    <tr>\n",
              "      <th>84</th>\n",
              "      <td>gallery office solutions limited</td>\n",
              "      <td>Home</td>\n",
              "      <td>1</td>\n",
              "    </tr>\n",
              "    <tr>\n",
              "      <th>155</th>\n",
              "      <td>lendings biz</td>\n",
              "      <td>​​Lending.biz</td>\n",
              "      <td>2</td>\n",
              "    </tr>\n",
              "    <tr>\n",
              "      <th>263</th>\n",
              "      <td>ranford medical centre</td>\n",
              "      <td>LATEST NEWS</td>\n",
              "      <td>2</td>\n",
              "    </tr>\n",
              "    <tr>\n",
              "      <th>274</th>\n",
              "      <td>cavendish asset research ltd</td>\n",
              "      <td>Important Information</td>\n",
              "      <td>2</td>\n",
              "    </tr>\n",
              "    <tr>\n",
              "      <th>...</th>\n",
              "      <td>...</td>\n",
              "      <td>...</td>\n",
              "      <td>...</td>\n",
              "    </tr>\n",
              "    <tr>\n",
              "      <th>66166</th>\n",
              "      <td>food technology consulting</td>\n",
              "      <td>Contact</td>\n",
              "      <td>1</td>\n",
              "    </tr>\n",
              "    <tr>\n",
              "      <th>66172</th>\n",
              "      <td>mckeown fine foods limited</td>\n",
              "      <td>Contact Details:</td>\n",
              "      <td>2</td>\n",
              "    </tr>\n",
              "    <tr>\n",
              "      <th>66282</th>\n",
              "      <td>mid-state wine &amp; liquor</td>\n",
              "      <td>Newsletter!</td>\n",
              "      <td>1</td>\n",
              "    </tr>\n",
              "    <tr>\n",
              "      <th>66315</th>\n",
              "      <td>juice works</td>\n",
              "      <td>Home Home</td>\n",
              "      <td>2</td>\n",
              "    </tr>\n",
              "    <tr>\n",
              "      <th>66404</th>\n",
              "      <td>clockwork beer co</td>\n",
              "      <td>Under Construction</td>\n",
              "      <td>2</td>\n",
              "    </tr>\n",
              "  </tbody>\n",
              "</table>\n",
              "<p>1483 rows × 3 columns</p>\n",
              "</div>"
            ],
            "text/plain": [
              "                           company_name                    headers  len\n",
              "74     secured financial solutions       -   Quick Contact          2  \n",
              "84     gallery office solutions limited  Home                       1  \n",
              "155    lendings biz                      ​​Lending.biz              2  \n",
              "263    ranford medical centre              LATEST NEWS              2  \n",
              "274    cavendish asset research ltd        Important Information    2  \n",
              "...                             ...                            ... ..  \n",
              "66166  food technology consulting            Contact                1  \n",
              "66172  mckeown fine foods limited            Contact Details:       2  \n",
              "66282  mid-state wine & liquor             Newsletter!              1  \n",
              "66315  juice works                       Home Home                  2  \n",
              "66404  clockwork beer co                 Under Construction         2  \n",
              "\n",
              "[1483 rows x 3 columns]"
            ]
          },
          "metadata": {
            "tags": []
          },
          "execution_count": 121
        }
      ]
    },
    {
      "cell_type": "code",
      "metadata": {
        "id": "bC5F6nR31Nei"
      },
      "source": [
        "# Dropping rows having less than 3 words as they are not adding value!\n",
        "\n",
        "df_headers.drop(df_headers[df_headers[\"len\"] < 3].index , inplace=True)"
      ],
      "execution_count": 122,
      "outputs": []
    },
    {
      "cell_type": "code",
      "metadata": {
        "colab": {
          "base_uri": "https://localhost:8080/"
        },
        "id": "GQlNpRcB1leH",
        "outputId": "66d77818-b03a-408c-84d0-64110c76d9d0"
      },
      "source": [
        "df_headers.shape"
      ],
      "execution_count": 123,
      "outputs": [
        {
          "output_type": "execute_result",
          "data": {
            "text/plain": [
              "(65017, 3)"
            ]
          },
          "metadata": {
            "tags": []
          },
          "execution_count": 123
        }
      ]
    },
    {
      "cell_type": "markdown",
      "metadata": {
        "id": "rPZgiXNGRR3g"
      },
      "source": [
        "**Function to remove punctuation**"
      ]
    },
    {
      "cell_type": "code",
      "metadata": {
        "id": "mpWKKs2qt7w2"
      },
      "source": [
        "def remove_punctuation(text):\n",
        "    '''a function for removing punctuation'''\n",
        "    import string\n",
        "    # replacing the punctuations with no space, \n",
        "    # which in effect deletes the punctuation marks \n",
        "    translator = str.maketrans('', '', string.punctuation)\n",
        "    # return the text stripped of punctuation marks\n",
        "    return text.translate(translator)"
      ],
      "execution_count": 124,
      "outputs": []
    },
    {
      "cell_type": "markdown",
      "metadata": {
        "id": "1gCRmPqsRlCb"
      },
      "source": [
        "**Function to remove stop words**"
      ]
    },
    {
      "cell_type": "code",
      "metadata": {
        "colab": {
          "base_uri": "https://localhost:8080/"
        },
        "id": "Fn9v7CkARg3Q",
        "outputId": "f1b083ec-f762-4ecb-8348-fadeb4fbeb4a"
      },
      "source": [
        "import nltk\n",
        "from nltk.corpus import stopwords\n",
        "nltk.download('stopwords')"
      ],
      "execution_count": 125,
      "outputs": [
        {
          "output_type": "stream",
          "text": [
            "[nltk_data] Downloading package stopwords to /root/nltk_data...\n",
            "[nltk_data]   Package stopwords is already up-to-date!\n"
          ],
          "name": "stdout"
        },
        {
          "output_type": "execute_result",
          "data": {
            "text/plain": [
              "True"
            ]
          },
          "metadata": {
            "tags": []
          },
          "execution_count": 125
        }
      ]
    },
    {
      "cell_type": "code",
      "metadata": {
        "colab": {
          "base_uri": "https://localhost:8080/"
        },
        "id": "r1BuKxQnVO-_",
        "outputId": "b42e770e-3cc7-44f3-a455-f5110c3a8bfa"
      },
      "source": [
        "stopwords.words(\"english\")[:10] # first 10 stop words"
      ],
      "execution_count": 126,
      "outputs": [
        {
          "output_type": "execute_result",
          "data": {
            "text/plain": [
              "['i', 'me', 'my', 'myself', 'we', 'our', 'ours', 'ourselves', 'you', \"you're\"]"
            ]
          },
          "metadata": {
            "tags": []
          },
          "execution_count": 126
        }
      ]
    },
    {
      "cell_type": "code",
      "metadata": {
        "id": "2KyYGFF_Rq5a"
      },
      "source": [
        "def remove_stopwords(text):\n",
        "    '''a function for removing the stopword'''\n",
        "    # removing the stop words and lowercasing the selected words\n",
        "    text = [word.lower() for word in text.split() if word.lower() not in stopwords.words(\"english\")]\n",
        "    # joining the list of words with space separator\n",
        "    return \" \".join(text)"
      ],
      "execution_count": 127,
      "outputs": []
    },
    {
      "cell_type": "markdown",
      "metadata": {
        "id": "_O3zoxYUkvZ7"
      },
      "source": [
        "**Function to remove digits from text**"
      ]
    },
    {
      "cell_type": "code",
      "metadata": {
        "id": "DpIYz42rkusP"
      },
      "source": [
        "def remove_digits(text):\n",
        "  '''function for removing digits from text'''\n",
        "\n",
        "  text = \"\".join([i for i in text if not i.isdigit()])\n",
        "\n",
        "  return text"
      ],
      "execution_count": 128,
      "outputs": []
    },
    {
      "cell_type": "markdown",
      "metadata": {
        "id": "OMUfwjnMR24E"
      },
      "source": [
        "**Function for Stemming**"
      ]
    },
    {
      "cell_type": "code",
      "metadata": {
        "id": "-Jq3SQkGw9Bu"
      },
      "source": [
        "from nltk.stem.snowball import SnowballStemmer"
      ],
      "execution_count": 129,
      "outputs": []
    },
    {
      "cell_type": "code",
      "metadata": {
        "id": "RYgyezEow89m"
      },
      "source": [
        "stemmer = SnowballStemmer(\"english\")\n",
        "\n",
        "def stemming(text):\n",
        "  '''a function which stems each word in the given text'''\n",
        "\n",
        "  l = [stemmer.stem(word) for word in text.split()]\n",
        "  \n",
        "  return \" \".join(l)"
      ],
      "execution_count": 130,
      "outputs": []
    },
    {
      "cell_type": "markdown",
      "metadata": {
        "id": "f7I_gb6kSL6c"
      },
      "source": [
        "**Function to call each of the above functions**"
      ]
    },
    {
      "cell_type": "code",
      "metadata": {
        "id": "Jn6l272qSEY9"
      },
      "source": [
        "def text_cleaning(text):\n",
        "  text = remove_punctuation(text)\n",
        "  text = remove_stopwords(text)\n",
        "  text = remove_digits(text)\n",
        "  text = stemming(text)\n",
        "\n",
        "  return text"
      ],
      "execution_count": 131,
      "outputs": []
    },
    {
      "cell_type": "code",
      "metadata": {
        "colab": {
          "base_uri": "https://localhost:8080/",
          "height": 357
        },
        "id": "qTaUbHI5UMLc",
        "outputId": "1961b476-1dfe-488c-c93b-3cb4fc5e2b31"
      },
      "source": [
        "# Checking how our df looks before applying text prepocessing functions\n",
        "\n",
        "df_headers.head()"
      ],
      "execution_count": 132,
      "outputs": [
        {
          "output_type": "execute_result",
          "data": {
            "text/html": [
              "<div>\n",
              "<style scoped>\n",
              "    .dataframe tbody tr th:only-of-type {\n",
              "        vertical-align: middle;\n",
              "    }\n",
              "\n",
              "    .dataframe tbody tr th {\n",
              "        vertical-align: top;\n",
              "    }\n",
              "\n",
              "    .dataframe thead th {\n",
              "        text-align: right;\n",
              "    }\n",
              "</style>\n",
              "<table border=\"1\" class=\"dataframe\">\n",
              "  <thead>\n",
              "    <tr style=\"text-align: right;\">\n",
              "      <th></th>\n",
              "      <th>company_name</th>\n",
              "      <th>headers</th>\n",
              "      <th>len</th>\n",
              "    </tr>\n",
              "  </thead>\n",
              "  <tbody>\n",
              "    <tr>\n",
              "      <th>0</th>\n",
              "      <td>elias medical</td>\n",
              "      <td>Offering Bakersfield family medical care from pediatrics to geriatrics. Also offering skin care including Botox, Laser skin treatments and more. sep Elias Medical Welcome to ELIAS MEDICAL sep Family Medical Practice sep SKIN CARE sep Schedule a Consultation\\n661.663.0300 Get To Know Elias Medical sep Family Medical Practice sep Consultations sep Skin Care</td>\n",
              "      <td>55</td>\n",
              "    </tr>\n",
              "    <tr>\n",
              "      <th>1</th>\n",
              "      <td>koops overhead doors</td>\n",
              "      <td>Customer Reviews sep Welcome to Koops Overhead Doors!</td>\n",
              "      <td>8</td>\n",
              "    </tr>\n",
              "    <tr>\n",
              "      <th>2</th>\n",
              "      <td>midtown eyecare</td>\n",
              "      <td>Welcome to our practice!</td>\n",
              "      <td>4</td>\n",
              "    </tr>\n",
              "    <tr>\n",
              "      <th>3</th>\n",
              "      <td>repro security ltd</td>\n",
              "      <td>Welcome to REPRO SECURITY Ltd</td>\n",
              "      <td>5</td>\n",
              "    </tr>\n",
              "    <tr>\n",
              "      <th>4</th>\n",
              "      <td>wood green timber company limited</td>\n",
              "      <td>At Wood Green Timber Co. Ltd., London, and our Potters Bar Hertfordshire Yard we stock a comprehensive selection of timber suitable for a wide variety of uses. From floor joists to decorative mouldings, we have it all, in stock and ready to take away or for delivery if you prefer. Our aim is to maintain high stock levels in order to satisfy all your building requirements immediately, however we are equally happy to source specialist requirements for delivery or collection at a later date. Location | Wood Green sep Opening Hours sep Location | Potter Bar</td>\n",
              "      <td>94</td>\n",
              "    </tr>\n",
              "  </tbody>\n",
              "</table>\n",
              "</div>"
            ],
            "text/plain": [
              "                        company_name  ... len\n",
              "0  elias medical                      ...  55\n",
              "1  koops overhead doors               ...  8 \n",
              "2  midtown eyecare                    ...  4 \n",
              "3  repro security ltd                 ...  5 \n",
              "4  wood green timber company limited  ...  94\n",
              "\n",
              "[5 rows x 3 columns]"
            ]
          },
          "metadata": {
            "tags": []
          },
          "execution_count": 132
        }
      ]
    },
    {
      "cell_type": "code",
      "metadata": {
        "id": "Mo0sWkiYUDMK"
      },
      "source": [
        "# Applying it to the headers\n",
        "\n",
        "df_headers[\"headers\"] = df_headers[\"headers\"].apply(text_cleaning)"
      ],
      "execution_count": 133,
      "outputs": []
    },
    {
      "cell_type": "code",
      "metadata": {
        "colab": {
          "base_uri": "https://localhost:8080/",
          "height": 306
        },
        "id": "psdG1miOVARg",
        "outputId": "6c63ea0a-7da3-4f62-d93f-4b70a0b960ea"
      },
      "source": [
        "# Checking data after applying text preprocessing steps defined above\n",
        "\n",
        "df_headers.head()"
      ],
      "execution_count": 134,
      "outputs": [
        {
          "output_type": "execute_result",
          "data": {
            "text/html": [
              "<div>\n",
              "<style scoped>\n",
              "    .dataframe tbody tr th:only-of-type {\n",
              "        vertical-align: middle;\n",
              "    }\n",
              "\n",
              "    .dataframe tbody tr th {\n",
              "        vertical-align: top;\n",
              "    }\n",
              "\n",
              "    .dataframe thead th {\n",
              "        text-align: right;\n",
              "    }\n",
              "</style>\n",
              "<table border=\"1\" class=\"dataframe\">\n",
              "  <thead>\n",
              "    <tr style=\"text-align: right;\">\n",
              "      <th></th>\n",
              "      <th>company_name</th>\n",
              "      <th>headers</th>\n",
              "      <th>len</th>\n",
              "    </tr>\n",
              "  </thead>\n",
              "  <tbody>\n",
              "    <tr>\n",
              "      <th>0</th>\n",
              "      <td>elias medical</td>\n",
              "      <td>offer bakersfield famili medic care pediatr geriatr also offer skin care includ botox laser skin treatment sep elia medic welcom elia medic sep famili medic practic sep skin care sep schedul consult get know elia medic sep famili medic practic sep consult sep skin care</td>\n",
              "      <td>55</td>\n",
              "    </tr>\n",
              "    <tr>\n",
              "      <th>1</th>\n",
              "      <td>koops overhead doors</td>\n",
              "      <td>custom review sep welcom koop overhead door</td>\n",
              "      <td>8</td>\n",
              "    </tr>\n",
              "    <tr>\n",
              "      <th>2</th>\n",
              "      <td>midtown eyecare</td>\n",
              "      <td>welcom practic</td>\n",
              "      <td>4</td>\n",
              "    </tr>\n",
              "    <tr>\n",
              "      <th>3</th>\n",
              "      <td>repro security ltd</td>\n",
              "      <td>welcom repro secur ltd</td>\n",
              "      <td>5</td>\n",
              "    </tr>\n",
              "    <tr>\n",
              "      <th>4</th>\n",
              "      <td>wood green timber company limited</td>\n",
              "      <td>wood green timber co ltd london potter bar hertfordshir yard stock comprehens select timber suitabl wide varieti use floor joist decor mould stock readi take away deliveri prefer aim maintain high stock level order satisfi build requir immedi howev equal happi sourc specialist requir deliveri collect later date locat wood green sep open hour sep locat potter bar</td>\n",
              "      <td>94</td>\n",
              "    </tr>\n",
              "  </tbody>\n",
              "</table>\n",
              "</div>"
            ],
            "text/plain": [
              "                        company_name  ... len\n",
              "0  elias medical                      ...  55\n",
              "1  koops overhead doors               ...  8 \n",
              "2  midtown eyecare                    ...  4 \n",
              "3  repro security ltd                 ...  5 \n",
              "4  wood green timber company limited  ...  94\n",
              "\n",
              "[5 rows x 3 columns]"
            ]
          },
          "metadata": {
            "tags": []
          },
          "execution_count": 134
        }
      ]
    },
    {
      "cell_type": "code",
      "metadata": {
        "id": "z2uR64X9r50M"
      },
      "source": [
        "# Now, updating count of words in each header\n",
        "\n",
        "df_headers[\"len\"] = df_headers[\"headers\"].apply(get_len)"
      ],
      "execution_count": 166,
      "outputs": []
    },
    {
      "cell_type": "code",
      "metadata": {
        "colab": {
          "base_uri": "https://localhost:8080/",
          "height": 340
        },
        "id": "RPrqoP2xqY2e",
        "outputId": "293d4231-4592-46eb-841b-6db40432a3b8"
      },
      "source": [
        "df_headers.head()"
      ],
      "execution_count": 167,
      "outputs": [
        {
          "output_type": "execute_result",
          "data": {
            "text/html": [
              "<div>\n",
              "<style scoped>\n",
              "    .dataframe tbody tr th:only-of-type {\n",
              "        vertical-align: middle;\n",
              "    }\n",
              "\n",
              "    .dataframe tbody tr th {\n",
              "        vertical-align: top;\n",
              "    }\n",
              "\n",
              "    .dataframe thead th {\n",
              "        text-align: right;\n",
              "    }\n",
              "</style>\n",
              "<table border=\"1\" class=\"dataframe\">\n",
              "  <thead>\n",
              "    <tr style=\"text-align: right;\">\n",
              "      <th></th>\n",
              "      <th>company_name</th>\n",
              "      <th>headers</th>\n",
              "      <th>len</th>\n",
              "    </tr>\n",
              "  </thead>\n",
              "  <tbody>\n",
              "    <tr>\n",
              "      <th>0</th>\n",
              "      <td>elias medical</td>\n",
              "      <td>offering bakersfield family medical care pediatrics geriatrics also offering skin care including botox laser skin treatment sep elia medical welcome elia medical sep family medical practice sep skin care sep schedule consultation get know elia medical sep family medical practice sep consultation sep skin care</td>\n",
              "      <td>45</td>\n",
              "    </tr>\n",
              "    <tr>\n",
              "      <th>1</th>\n",
              "      <td>koops overhead doors</td>\n",
              "      <td>customer review sep welcome koops overhead door</td>\n",
              "      <td>7</td>\n",
              "    </tr>\n",
              "    <tr>\n",
              "      <th>2</th>\n",
              "      <td>midtown eyecare</td>\n",
              "      <td>welcome practice</td>\n",
              "      <td>2</td>\n",
              "    </tr>\n",
              "    <tr>\n",
              "      <th>3</th>\n",
              "      <td>repro security ltd</td>\n",
              "      <td>welcome repro security ltd</td>\n",
              "      <td>4</td>\n",
              "    </tr>\n",
              "    <tr>\n",
              "      <th>4</th>\n",
              "      <td>wood green timber company limited</td>\n",
              "      <td>wood green timber co ltd london potter bar hertfordshire yard stock comprehensive selection timber suitable wide variety us floor joist decorative moulding stock ready take away delivery prefer aim maintain high stock level order satisfy building requirement immediately however equally happy source specialist requirement delivery collection later date location wood green sep opening hour sep location potter bar</td>\n",
              "      <td>58</td>\n",
              "    </tr>\n",
              "  </tbody>\n",
              "</table>\n",
              "</div>"
            ],
            "text/plain": [
              "                        company_name  ... len\n",
              "0  elias medical                      ...  45\n",
              "1  koops overhead doors               ...  7 \n",
              "2  midtown eyecare                    ...  2 \n",
              "3  repro security ltd                 ...  4 \n",
              "4  wood green timber company limited  ...  58\n",
              "\n",
              "[5 rows x 3 columns]"
            ]
          },
          "metadata": {
            "tags": []
          },
          "execution_count": 167
        }
      ]
    },
    {
      "cell_type": "code",
      "metadata": {
        "id": "TnNA42pAsSN0"
      },
      "source": [
        "# Saving this text preprocessed data as a separate file to avoid repeating the same steps again in future\n",
        "\n",
        "dir = \"/content/drive/MyDrive/Almabetter/Capstone Project 2 (Company Classification)/DATA/preprocessed.csv\"\n",
        "\n",
        "df_headers.to_csv(dir , index=False)"
      ],
      "execution_count": 187,
      "outputs": []
    },
    {
      "cell_type": "code",
      "metadata": {
        "colab": {
          "base_uri": "https://localhost:8080/"
        },
        "id": "tggx6jeXYd_N",
        "outputId": "fc6cff87-d9a3-4b34-94ad-07ddebd11e40"
      },
      "source": [
        "dfh[\"headers\"].values"
      ],
      "execution_count": 89,
      "outputs": [
        {
          "output_type": "execute_result",
          "data": {
            "text/plain": [
              "array(['offering bakersfield family medical care pediatrics geriatrics also offering skin care including botox laser skin treatment sep elia medical welcome elia medical sep family medical practice sep skin care sep schedule consultation get know elia medical sep family medical practice sep consultation sep skin care',\n",
              "       'customer review sep welcome koops overhead door',\n",
              "       'welcome practice', ...,\n",
              "       'beautyologist beauty salon welcome beautyologist sep sias spotlight specialist skin body beauty sep lymphatic drainage facial massage sep fear missing',\n",
              "       'mobile hair makeup artist across uk use u sep artist available location sep background sep here help sep hair makeup artist uk sep key member team sep here client say fran sep special occasion sep lesson sep head office sep popular service sep chloep sep connect u sep alison sep request call back sep hen party sep beauty call sep beauty call head office sep ella sep gracer sep contact via email sep beckys sep samanthab sep corporate event sep general enquiry sep mariek sep haleema sep carol sep popular location sep wedding sep prom sep booking form sep question',\n",
              "       'discover innovate execute enjoy pizza passion want share sep want bring idea life sep fullservice pizza partner sep know pizza branded sep contact u sep crust classic artisan sep groceryaisle ready packaging sep food service sep execute major scale sep private label sep creator innovator expert sep limit flavor sep innovation recipe success'],\n",
              "      dtype=object)"
            ]
          },
          "metadata": {
            "tags": []
          },
          "execution_count": 89
        }
      ]
    },
    {
      "cell_type": "markdown",
      "metadata": {
        "id": "avBnkR_duSnK"
      },
      "source": [
        "**Vectorization**"
      ]
    },
    {
      "cell_type": "code",
      "metadata": {
        "id": "Ewo88zL3uePb"
      },
      "source": [
        "# Reading data\n",
        "\n",
        "path = \"/content/drive/MyDrive/Almabetter/Capstone Project 2 (Company Classification)/DATA/preprocessed.csv\"\n",
        "\n",
        "dfh = pd.read_csv(path)"
      ],
      "execution_count": 3,
      "outputs": []
    },
    {
      "cell_type": "code",
      "metadata": {
        "id": "K45LP108t7o1"
      },
      "source": [
        "# importing TF-IDF vectorizer\n",
        "\n",
        "from sklearn.feature_extraction.text import TfidfVectorizer"
      ],
      "execution_count": 4,
      "outputs": []
    },
    {
      "cell_type": "code",
      "metadata": {
        "id": "wBOpME71uYbB"
      },
      "source": [
        "# Instantiating object of tfidf\n",
        "\n",
        "vectorizer = TfidfVectorizer(max_df=0.80 , min_df=0.01) # we will ignore those words that appear in more than 80% of the documents(here, header). Also, removing those that appear in less than 1% of the documents\n"
      ],
      "execution_count": 5,
      "outputs": []
    },
    {
      "cell_type": "code",
      "metadata": {
        "id": "D3zWAsNBvv0h"
      },
      "source": [
        "# Fitting & transforming\n",
        "\n",
        "X = vectorizer.fit_transform(dfh[\"headers\"])"
      ],
      "execution_count": 6,
      "outputs": []
    },
    {
      "cell_type": "code",
      "metadata": {
        "colab": {
          "base_uri": "https://localhost:8080/"
        },
        "id": "U5rm-eOQwDH3",
        "outputId": "d90be412-44a6-4072-d88c-c8301b171380"
      },
      "source": [
        "X.shape"
      ],
      "execution_count": 7,
      "outputs": [
        {
          "output_type": "execute_result",
          "data": {
            "text/plain": [
              "(66436, 444)"
            ]
          },
          "metadata": {
            "tags": []
          },
          "execution_count": 7
        }
      ]
    },
    {
      "cell_type": "code",
      "metadata": {
        "colab": {
          "base_uri": "https://localhost:8080/"
        },
        "id": "NEnZDGMOyEdS",
        "outputId": "f7fddec2-8ad5-4d69-b6a4-d6f9eb40afcd"
      },
      "source": [
        "X # sparse matrix"
      ],
      "execution_count": 8,
      "outputs": [
        {
          "output_type": "execute_result",
          "data": {
            "text/plain": [
              "<66436x444 sparse matrix of type '<class 'numpy.float64'>'\n",
              "\twith 737977 stored elements in Compressed Sparse Row format>"
            ]
          },
          "metadata": {
            "tags": []
          },
          "execution_count": 8
        }
      ]
    },
    {
      "cell_type": "code",
      "metadata": {
        "colab": {
          "base_uri": "https://localhost:8080/"
        },
        "id": "K-z6w-nlzh8I",
        "outputId": "0808f65a-f260-46de-e13e-a9c2f6c04d4e"
      },
      "source": [
        "X.toarray()"
      ],
      "execution_count": 9,
      "outputs": [
        {
          "output_type": "execute_result",
          "data": {
            "text/plain": [
              "array([[0., 0., 0., ..., 0., 0., 0.],\n",
              "       [0., 0., 0., ..., 0., 0., 0.],\n",
              "       [0., 0., 0., ..., 0., 0., 0.],\n",
              "       ...,\n",
              "       [0., 0., 0., ..., 0., 0., 0.],\n",
              "       [0., 0., 0., ..., 0., 0., 0.],\n",
              "       [0., 0., 0., ..., 0., 0., 0.]])"
            ]
          },
          "metadata": {
            "tags": []
          },
          "execution_count": 9
        }
      ]
    },
    {
      "cell_type": "code",
      "metadata": {
        "id": "WWc879hLznTc"
      },
      "source": [
        "X = X.toarray() # this matrix will be our input to model"
      ],
      "execution_count": 10,
      "outputs": []
    },
    {
      "cell_type": "markdown",
      "metadata": {
        "id": "q82ZdrTRzzMB"
      },
      "source": [
        "##**Clustering**"
      ]
    },
    {
      "cell_type": "markdown",
      "metadata": {
        "id": "NVKf1AGOz5LS"
      },
      "source": [
        "###**K-Means**"
      ]
    },
    {
      "cell_type": "code",
      "metadata": {
        "id": "M8AK_hZ9zr3F"
      },
      "source": [
        "# Importing\n",
        "\n",
        "from sklearn.cluster import KMeans"
      ],
      "execution_count": 11,
      "outputs": []
    },
    {
      "cell_type": "code",
      "metadata": {
        "id": "-tHXYqKd0CLh"
      },
      "source": [
        "kmeans = KMeans(init=\"k-means++\", n_clusters=5, random_state=42)"
      ],
      "execution_count": 12,
      "outputs": []
    },
    {
      "cell_type": "code",
      "metadata": {
        "colab": {
          "base_uri": "https://localhost:8080/"
        },
        "id": "G8RiFZfh3l_C",
        "outputId": "c9a17eca-a048-4bcc-fbe8-d0c5550432f7"
      },
      "source": [
        "kmeans.fit(X)"
      ],
      "execution_count": 13,
      "outputs": [
        {
          "output_type": "execute_result",
          "data": {
            "text/plain": [
              "KMeans(algorithm='auto', copy_x=True, init='k-means++', max_iter=300,\n",
              "       n_clusters=5, n_init=10, n_jobs=None, precompute_distances='auto',\n",
              "       random_state=42, tol=0.0001, verbose=0)"
            ]
          },
          "metadata": {
            "tags": []
          },
          "execution_count": 13
        }
      ]
    },
    {
      "cell_type": "code",
      "metadata": {
        "colab": {
          "base_uri": "https://localhost:8080/"
        },
        "id": "xbmy7GAv3uzm",
        "outputId": "b4ec2694-8e5e-46e4-a081-ee2aa3933dc5"
      },
      "source": [
        "kmeans.cluster_centers_"
      ],
      "execution_count": 14,
      "outputs": [
        {
          "output_type": "execute_result",
          "data": {
            "text/plain": [
              "array([[0.00386074, 0.00488663, 0.00290322, ..., 0.00822467, 0.01084618,\n",
              "        0.00249866],\n",
              "       [0.00368414, 0.00433941, 0.00995826, ..., 0.00544673, 0.01412988,\n",
              "        0.00180135],\n",
              "       [0.00150597, 0.00245999, 0.00044418, ..., 0.01257636, 0.01132995,\n",
              "        0.00167333],\n",
              "       [0.00224549, 0.00151917, 0.00038819, ..., 0.00120804, 0.00965743,\n",
              "        0.00199144],\n",
              "       [0.00179453, 0.00202275, 0.00106406, ..., 0.00474192, 0.00968762,\n",
              "        0.00347992]])"
            ]
          },
          "metadata": {
            "tags": []
          },
          "execution_count": 14
        }
      ]
    },
    {
      "cell_type": "code",
      "metadata": {
        "colab": {
          "base_uri": "https://localhost:8080/"
        },
        "id": "ajgqGtd639ox",
        "outputId": "414bcddb-7d13-4b26-a3eb-5e29c21f69fb"
      },
      "source": [
        "kmeans.labels_[:10] #first 10"
      ],
      "execution_count": 15,
      "outputs": [
        {
          "output_type": "execute_result",
          "data": {
            "text/plain": [
              "array([0, 0, 0, 0, 0, 0, 0, 1, 0, 0], dtype=int32)"
            ]
          },
          "metadata": {
            "tags": []
          },
          "execution_count": 15
        }
      ]
    },
    {
      "cell_type": "code",
      "metadata": {
        "id": "HH9t4vq64F-a"
      },
      "source": [
        "unique, counts = np.unique(kmeans.labels_, return_counts=True)"
      ],
      "execution_count": 16,
      "outputs": []
    },
    {
      "cell_type": "code",
      "metadata": {
        "colab": {
          "base_uri": "https://localhost:8080/"
        },
        "id": "OAxOzWTj4PxS",
        "outputId": "40426e1f-c298-406f-e0ca-165e3d999c4c"
      },
      "source": [
        "dict_data = dict(zip(unique, counts))\n",
        "dict_data"
      ],
      "execution_count": 17,
      "outputs": [
        {
          "output_type": "execute_result",
          "data": {
            "text/plain": [
              "{0: 47001, 1: 11310, 2: 2377, 3: 1701, 4: 4047}"
            ]
          },
          "metadata": {
            "tags": []
          },
          "execution_count": 17
        }
      ]
    },
    {
      "cell_type": "code",
      "metadata": {
        "colab": {
          "base_uri": "https://localhost:8080/"
        },
        "id": "g3x6lJEW5SWU",
        "outputId": "e9ba9622-7ed3-4997-e236-e5a5e64b4dfb"
      },
      "source": [
        "kmeans.inertia_"
      ],
      "execution_count": 18,
      "outputs": [
        {
          "output_type": "execute_result",
          "data": {
            "text/plain": [
              "60810.7695794547"
            ]
          },
          "metadata": {
            "tags": []
          },
          "execution_count": 18
        }
      ]
    },
    {
      "cell_type": "code",
      "metadata": {
        "id": "GrgmhTAb4RW9"
      },
      "source": [
        "dfh[\"cluster\"] = kmeans.labels_"
      ],
      "execution_count": 19,
      "outputs": []
    },
    {
      "cell_type": "code",
      "metadata": {
        "colab": {
          "base_uri": "https://localhost:8080/",
          "height": 204
        },
        "id": "Z6cTeri2466F",
        "outputId": "b64212de-e7f7-454d-ac96-15b177f05c54"
      },
      "source": [
        "dfh.head()"
      ],
      "execution_count": 20,
      "outputs": [
        {
          "output_type": "execute_result",
          "data": {
            "text/html": [
              "<div>\n",
              "<style scoped>\n",
              "    .dataframe tbody tr th:only-of-type {\n",
              "        vertical-align: middle;\n",
              "    }\n",
              "\n",
              "    .dataframe tbody tr th {\n",
              "        vertical-align: top;\n",
              "    }\n",
              "\n",
              "    .dataframe thead th {\n",
              "        text-align: right;\n",
              "    }\n",
              "</style>\n",
              "<table border=\"1\" class=\"dataframe\">\n",
              "  <thead>\n",
              "    <tr style=\"text-align: right;\">\n",
              "      <th></th>\n",
              "      <th>company_name</th>\n",
              "      <th>headers</th>\n",
              "      <th>len</th>\n",
              "      <th>cluster</th>\n",
              "    </tr>\n",
              "  </thead>\n",
              "  <tbody>\n",
              "    <tr>\n",
              "      <th>0</th>\n",
              "      <td>elias medical</td>\n",
              "      <td>offering bakersfield family medical care pedia...</td>\n",
              "      <td>45</td>\n",
              "      <td>0</td>\n",
              "    </tr>\n",
              "    <tr>\n",
              "      <th>1</th>\n",
              "      <td>koops overhead doors</td>\n",
              "      <td>customer review sep welcome koops overhead door</td>\n",
              "      <td>7</td>\n",
              "      <td>0</td>\n",
              "    </tr>\n",
              "    <tr>\n",
              "      <th>2</th>\n",
              "      <td>midtown eyecare</td>\n",
              "      <td>welcome practice</td>\n",
              "      <td>2</td>\n",
              "      <td>0</td>\n",
              "    </tr>\n",
              "    <tr>\n",
              "      <th>3</th>\n",
              "      <td>repro security ltd</td>\n",
              "      <td>welcome repro security ltd</td>\n",
              "      <td>4</td>\n",
              "      <td>0</td>\n",
              "    </tr>\n",
              "    <tr>\n",
              "      <th>4</th>\n",
              "      <td>wood green timber company limited</td>\n",
              "      <td>wood green timber co ltd london potter bar her...</td>\n",
              "      <td>58</td>\n",
              "      <td>0</td>\n",
              "    </tr>\n",
              "  </tbody>\n",
              "</table>\n",
              "</div>"
            ],
            "text/plain": [
              "                        company_name  ... cluster\n",
              "0                      elias medical  ...       0\n",
              "1               koops overhead doors  ...       0\n",
              "2                    midtown eyecare  ...       0\n",
              "3                 repro security ltd  ...       0\n",
              "4  wood green timber company limited  ...       0\n",
              "\n",
              "[5 rows x 4 columns]"
            ]
          },
          "metadata": {
            "tags": []
          },
          "execution_count": 20
        }
      ]
    },
    {
      "cell_type": "markdown",
      "metadata": {
        "id": "lDkJhPHG8hEO"
      },
      "source": [
        "**Optimal K**"
      ]
    },
    {
      "cell_type": "markdown",
      "metadata": {
        "id": "3CyAfxVl9Dpf"
      },
      "source": [
        "**1) Elbow Method**"
      ]
    },
    {
      "cell_type": "code",
      "metadata": {
        "id": "9Vajflxp8fWb"
      },
      "source": [
        "kmeans_kwargs = {\"init\": \"k-means++\", \"n_init\": 10, \"max_iter\": 300, \"random_state\": 42}"
      ],
      "execution_count": 21,
      "outputs": []
    },
    {
      "cell_type": "code",
      "metadata": {
        "id": "NYNviMD09nwR"
      },
      "source": [
        "# A list holds the SSE values for each k\n",
        "\n",
        "sse = []\n",
        "for k in range(2, 15):\n",
        "  kmeans = KMeans(n_clusters=k, **kmeans_kwargs)\n",
        "  kmeans.fit(X)\n",
        "  sse.append(kmeans.inertia_)"
      ],
      "execution_count": 90,
      "outputs": []
    },
    {
      "cell_type": "code",
      "metadata": {
        "colab": {
          "base_uri": "https://localhost:8080/",
          "height": 388
        },
        "id": "u9JoMjpv-ADM",
        "outputId": "221d26f6-b153-45e7-faf2-914b626ee4ce"
      },
      "source": [
        "# Plotting\n",
        "\n",
        "plt.style.use(\"fivethirtyeight\")\n",
        "plt.plot(range(2, 15), sse)\n",
        "plt.xticks(range(2, 15))\n",
        "plt.xlabel(\"Number of Clusters\")\n",
        "plt.ylabel(\"SSE\")\n",
        "plt.show()"
      ],
      "execution_count": 93,
      "outputs": [
        {
          "output_type": "display_data",
          "data": {
            "image/png": "[encoded data removed]",
            "text/plain": [
              "<Figure size 576x396 with 1 Axes>"
            ]
          },
          "metadata": {
            "tags": []
          }
        }
      ]
    },
    {
      "cell_type": "markdown",
      "metadata": {
        "id": "lUgbYFi3-wuj"
      },
      "source": [
        "**Alternatively**"
      ]
    },
    {
      "cell_type": "code",
      "metadata": {
        "id": "08XQAiSbAEK9"
      },
      "source": [
        "kmeans = KMeans(init=\"k-means++\", n_clusters=5, random_state=42)"
      ],
      "execution_count": 24,
      "outputs": []
    },
    {
      "cell_type": "code",
      "metadata": {
        "colab": {
          "base_uri": "https://localhost:8080/",
          "height": 457
        },
        "id": "Qz-vIXpB-uwj",
        "outputId": "c32eba8e-928c-4fc1-b294-d4244134ce6e"
      },
      "source": [
        "from yellowbrick.cluster import KElbowVisualizer\n",
        "\n",
        "visualizer = KElbowVisualizer(kmeans, k=(2,11),metric= 'distortion',timings= False,locate_elbow=True)\n",
        "\n",
        "visualizer.fit(X)"
      ],
      "execution_count": 28,
      "outputs": [
        {
          "output_type": "stream",
          "text": [
            "/usr/local/lib/python3.7/dist-packages/sklearn/base.py:197: FutureWarning: From version 0.24, get_params will raise an AttributeError if a parameter cannot be retrieved as an instance attribute. Previously it would return None.\n",
            "  FutureWarning)\n"
          ],
          "name": "stderr"
        },
        {
          "output_type": "execute_result",
          "data": {
            "text/plain": [
              "KElbowVisualizer(ax=<matplotlib.axes._subplots.AxesSubplot object at 0x7f29983ce090>,\n",
              "                 k=None, metric=None, model=None, timings=False)"
            ]
          },
          "metadata": {
            "tags": []
          },
          "execution_count": 28
        },
        {
          "output_type": "display_data",
          "data": {
            "image/png": "[encoded data removed]",
            "text/plain": [
              "<Figure size 576x396 with 1 Axes>"
            ]
          },
          "metadata": {
            "tags": []
          }
        }
      ]
    },
    {
      "cell_type": "code",
      "metadata": {
        "colab": {
          "base_uri": "https://localhost:8080/",
          "height": 763
        },
        "id": "-ExWTj_Y-uWL",
        "outputId": "1a9fcf04-4777-416a-99ee-6438fd10d2fa"
      },
      "source": [
        "#Calinski Harabaz\n",
        "\n",
        "visualizer = KElbowVisualizer(kmeans, k=(2,11), metric='calinski_harabaz', timings=False, locate_elbow=True)\n",
        "visualizer.fit(X)"
      ],
      "execution_count": 26,
      "outputs": [
        {
          "output_type": "stream",
          "text": [
            "/usr/local/lib/python3.7/dist-packages/sklearn/utils/deprecation.py:87: FutureWarning: Function calinski_harabaz_score is deprecated; Function 'calinski_harabaz_score' has been renamed to 'calinski_harabasz_score' and will be removed in version 0.23.\n",
            "  warnings.warn(msg, category=FutureWarning)\n",
            "/usr/local/lib/python3.7/dist-packages/sklearn/utils/deprecation.py:87: FutureWarning: Function calinski_harabaz_score is deprecated; Function 'calinski_harabaz_score' has been renamed to 'calinski_harabasz_score' and will be removed in version 0.23.\n",
            "  warnings.warn(msg, category=FutureWarning)\n",
            "/usr/local/lib/python3.7/dist-packages/sklearn/utils/deprecation.py:87: FutureWarning: Function calinski_harabaz_score is deprecated; Function 'calinski_harabaz_score' has been renamed to 'calinski_harabasz_score' and will be removed in version 0.23.\n",
            "  warnings.warn(msg, category=FutureWarning)\n",
            "/usr/local/lib/python3.7/dist-packages/sklearn/utils/deprecation.py:87: FutureWarning: Function calinski_harabaz_score is deprecated; Function 'calinski_harabaz_score' has been renamed to 'calinski_harabasz_score' and will be removed in version 0.23.\n",
            "  warnings.warn(msg, category=FutureWarning)\n",
            "/usr/local/lib/python3.7/dist-packages/sklearn/utils/deprecation.py:87: FutureWarning: Function calinski_harabaz_score is deprecated; Function 'calinski_harabaz_score' has been renamed to 'calinski_harabasz_score' and will be removed in version 0.23.\n",
            "  warnings.warn(msg, category=FutureWarning)\n",
            "/usr/local/lib/python3.7/dist-packages/sklearn/utils/deprecation.py:87: FutureWarning: Function calinski_harabaz_score is deprecated; Function 'calinski_harabaz_score' has been renamed to 'calinski_harabasz_score' and will be removed in version 0.23.\n",
            "  warnings.warn(msg, category=FutureWarning)\n",
            "/usr/local/lib/python3.7/dist-packages/sklearn/utils/deprecation.py:87: FutureWarning: Function calinski_harabaz_score is deprecated; Function 'calinski_harabaz_score' has been renamed to 'calinski_harabasz_score' and will be removed in version 0.23.\n",
            "  warnings.warn(msg, category=FutureWarning)\n",
            "/usr/local/lib/python3.7/dist-packages/sklearn/utils/deprecation.py:87: FutureWarning: Function calinski_harabaz_score is deprecated; Function 'calinski_harabaz_score' has been renamed to 'calinski_harabasz_score' and will be removed in version 0.23.\n",
            "  warnings.warn(msg, category=FutureWarning)\n",
            "/usr/local/lib/python3.7/dist-packages/sklearn/utils/deprecation.py:87: FutureWarning: Function calinski_harabaz_score is deprecated; Function 'calinski_harabaz_score' has been renamed to 'calinski_harabasz_score' and will be removed in version 0.23.\n",
            "  warnings.warn(msg, category=FutureWarning)\n",
            "/usr/local/lib/python3.7/dist-packages/sklearn/base.py:197: FutureWarning: From version 0.24, get_params will raise an AttributeError if a parameter cannot be retrieved as an instance attribute. Previously it would return None.\n",
            "  FutureWarning)\n"
          ],
          "name": "stderr"
        },
        {
          "output_type": "execute_result",
          "data": {
            "text/plain": [
              "KElbowVisualizer(ax=<matplotlib.axes._subplots.AxesSubplot object at 0x7f2998a76490>,\n",
              "                 k=None, metric=None, model=None, timings=False)"
            ]
          },
          "metadata": {
            "tags": []
          },
          "execution_count": 26
        },
        {
          "output_type": "display_data",
          "data": {
            "image/png": "[encoded data removed]",
            "text/plain": [
              "<Figure size 576x396 with 1 Axes>"
            ]
          },
          "metadata": {
            "tags": []
          }
        }
      ]
    },
    {
      "cell_type": "code",
      "metadata": {
        "id": "wj-iNgJ5wcNg"
      },
      "source": [
        "from sklearn.metrics import silhouette_score , silhouette_samples\n",
        "import matplotlib.cm as cm"
      ],
      "execution_count": 31,
      "outputs": []
    },
    {
      "cell_type": "code",
      "metadata": {
        "id": "aHhMR9iE1mIE"
      },
      "source": [
        "#Silhoutte Score\n",
        "\n",
        "visualizer = KElbowVisualizer(kmeans, k=(2,11), metric='silhouette', timings=False, locate_elbow=True)\n",
        "visualizer.fit(X)"
      ],
      "execution_count": null,
      "outputs": []
    },
    {
      "cell_type": "code",
      "metadata": {
        "colab": {
          "base_uri": "https://localhost:8080/",
          "height": 1000
        },
        "id": "l7XdtMem-uSz",
        "outputId": "e6756d2d-a844-4775-83ef-b8fdf6475463"
      },
      "source": [
        "range_n_clusters = np.arange(2,11)\n",
        "\n",
        "for n_clusters in range_n_clusters:\n",
        "    # Create a subplot with 1 row and 2 columns\n",
        "    fig, (ax) = plt.subplots(1)\n",
        "    fig.set_size_inches(6, 6)\n",
        "\n",
        "    # The 1st subplot is the silhouette plot\n",
        "    # The silhouette coefficient can range from -1, 1 but in this example all\n",
        "    # lie within [-0.1, 1]\n",
        "    ax.set_xlim([-1, 1])\n",
        "    # The (n_clusters+1)*10 is for inserting blank space between silhouette\n",
        "    # plots of individual clusters, to demarcate them clearly.\n",
        "    ax.set_ylim([0, len(X) + (n_clusters + 1) * 10])\n",
        "\n",
        "    # Initialize the clusterer with n_clusters value and\n",
        "    # seed of 10 for reproducibility.\n",
        "    clusterer = KMeans(init = \"k-means++\" , n_clusters=n_clusters, random_state=10)\n",
        "    cluster_labels = clusterer.fit_predict(X)\n",
        "\n",
        "    # The silhouette_score gives the average value for all the samples.\n",
        "    # This gives a perspective into the density and separation of the formed\n",
        "    # clusters\n",
        "    silhouette_avg = silhouette_score(X, cluster_labels)\n",
        "    print(\"For n_clusters =\", n_clusters,\n",
        "          \"The average silhouette_score is :\", silhouette_avg)\n",
        "\n",
        "    # Compute the silhouette scores for each sample\n",
        "    sample_silhouette_values = silhouette_samples(X, cluster_labels)\n",
        "\n",
        "    y_lower = 10\n",
        "    for i in range(n_clusters):\n",
        "        # Aggregate the silhouette scores for samples belonging to\n",
        "        # cluster i, and sort them\n",
        "        ith_cluster_silhouette_values = \\\n",
        "            sample_silhouette_values[cluster_labels == i]\n",
        "\n",
        "        ith_cluster_silhouette_values.sort()\n",
        "\n",
        "        size_cluster_i = ith_cluster_silhouette_values.shape[0]\n",
        "        y_upper = y_lower + size_cluster_i\n",
        "\n",
        "        color = cm.nipy_spectral(float(i) / n_clusters)\n",
        "        ax.fill_betweenx(np.arange(y_lower, y_upper),\n",
        "                          0, ith_cluster_silhouette_values,\n",
        "                          facecolor=color, edgecolor=color, alpha=0.7)\n",
        "\n",
        "        # Label the silhouette plots with their cluster numbers at the middle\n",
        "        ax.text(-0.05, y_lower + 0.5 * size_cluster_i, str(i))\n",
        "\n",
        "        # Compute the new y_lower for next plot\n",
        "        y_lower = y_upper + 10  # 10 for the 0 samples\n",
        "\n",
        "    ax.set_title(\"The silhouette plot for the various clusters.\")\n",
        "    ax.set_xlabel(\"The silhouette coefficient values\")\n",
        "    ax.set_ylabel(\"Cluster label\")\n",
        "\n",
        "    # The vertical line for average silhouette score of all the values\n",
        "    ax.axvline(x=silhouette_avg, color=\"red\", linestyle=\"--\")\n",
        "\n",
        "    ax.set_yticks([])  # Clear the yaxis labels / ticks\n",
        "    ax.set_xticks([-0.6,-0.4,-0.2, 0, 0.2, 0.4, 0.6, 0.8, 1])"
      ],
      "execution_count": 32,
      "outputs": [
        {
          "output_type": "stream",
          "text": [
            "For n_clusters = 2 The average silhouette_score is : 0.01480356744094033\n",
            "For n_clusters = 3 The average silhouette_score is : 0.015857339189720366\n",
            "For n_clusters = 4 The average silhouette_score is : 0.01838811377350445\n",
            "For n_clusters = 5 The average silhouette_score is : 0.019981469847297324\n",
            "For n_clusters = 6 The average silhouette_score is : 0.022293886005487387\n",
            "For n_clusters = 7 The average silhouette_score is : 0.02453065088246301\n",
            "For n_clusters = 8 The average silhouette_score is : 0.02640478049528088\n",
            "For n_clusters = 9 The average silhouette_score is : 0.027724531390830056\n",
            "For n_clusters = 10 The average silhouette_score is : 0.029912732055524385\n"
          ],
          "name": "stdout"
        },
        {
          "output_type": "display_data",
          "data": {
            "image/png": "[encoded data removed]",
            "text/plain": [
              "<Figure size 432x432 with 1 Axes>"
            ]
          },
          "metadata": {
            "tags": []
          }
        },
        {
          "output_type": "display_data",
          "data": {
            "image/png": "[encoded data removed]",
            "text/plain": [
              "<Figure size 432x432 with 1 Axes>"
            ]
          },
          "metadata": {
            "tags": []
          }
        },
        {
          "output_type": "display_data",
          "data": {
            "image/png": "[encoded data removed]",
            "text/plain": [
              "<Figure size 432x432 with 1 Axes>"
            ]
          },
          "metadata": {
            "tags": []
          }
        },
        {
          "output_type": "display_data",
          "data": {
            "image/png": "[encoded data removed]",
            "text/plain": [
              "<Figure size 432x432 with 1 Axes>"
            ]
          },
          "metadata": {
            "tags": []
          }
        },
        {
          "output_type": "display_data",
          "data": {
            "image/png": "[encoded data removed]",
            "text/plain": [
              "<Figure size 432x432 with 1 Axes>"
            ]
          },
          "metadata": {
            "tags": []
          }
        },
        {
          "output_type": "display_data",
          "data": {
            "image/png": "[encoded data removed]",
            "text/plain": [
              "<Figure size 432x432 with 1 Axes>"
            ]
          },
          "metadata": {
            "tags": []
          }
        },
        {
          "output_type": "display_data",
          "data": {
            "image/png": "[encoded data removed]",
            "text/plain": [
              "<Figure size 432x432 with 1 Axes>"
            ]
          },
          "metadata": {
            "tags": []
          }
        },
        {
          "output_type": "display_data",
          "data": {
            "image/png": "[encoded data removed]",
            "text/plain": [
              "<Figure size 432x432 with 1 Axes>"
            ]
          },
          "metadata": {
            "tags": []
          }
        },
        {
          "output_type": "display_data",
          "data": {
            "image/png": "[encoded data removed]",
            "text/plain": [
              "<Figure size 432x432 with 1 Axes>"
            ]
          },
          "metadata": {
            "tags": []
          }
        }
      ]
    },
    {
      "cell_type": "markdown",
      "metadata": {
        "id": "c8_ejTnzFfvT"
      },
      "source": [
        "**Word cloud**"
      ]
    },
    {
      "cell_type": "code",
      "metadata": {
        "colab": {
          "base_uri": "https://localhost:8080/"
        },
        "id": "0JUk4lJZt7ix",
        "outputId": "09f56edf-3b24-4672-daef-6e6c0adee845"
      },
      "source": [
        "!apt install wordcloud"
      ],
      "execution_count": 36,
      "outputs": [
        {
          "output_type": "stream",
          "text": [
            "Reading package lists... Done\n",
            "Building dependency tree       \n",
            "Reading state information... Done\n",
            "E: Unable to locate package wordcloud\n"
          ],
          "name": "stdout"
        }
      ]
    },
    {
      "cell_type": "code",
      "metadata": {
        "id": "-qEUGLmVGETq"
      },
      "source": [
        "from wordcloud import WordCloud"
      ],
      "execution_count": 38,
      "outputs": []
    },
    {
      "cell_type": "code",
      "metadata": {
        "colab": {
          "base_uri": "https://localhost:8080/"
        },
        "id": "x8ZfsvDEPXiT",
        "outputId": "0d049b59-e99a-45f7-ca78-1ffdaa224f06"
      },
      "source": [
        "vectorizer.get_feature_names()"
      ],
      "execution_count": 61,
      "outputs": [
        {
          "output_type": "execute_result",
          "data": {
            "text/plain": [
              "['access',\n",
              " 'account',\n",
              " 'accounting',\n",
              " 'across',\n",
              " 'address',\n",
              " 'advanced',\n",
              " 'advantage',\n",
              " 'advice',\n",
              " 'affordable',\n",
              " 'agency',\n",
              " 'air',\n",
              " 'always',\n",
              " 'animal',\n",
              " 'app',\n",
              " 'application',\n",
              " 'appointment',\n",
              " 'approach',\n",
              " 'area',\n",
              " 'article',\n",
              " 'asset',\n",
              " 'attorney',\n",
              " 'auto',\n",
              " 'available',\n",
              " 'award',\n",
              " 'back',\n",
              " 'based',\n",
              " 'become',\n",
              " 'benefit',\n",
              " 'best',\n",
              " 'better',\n",
              " 'big',\n",
              " 'blog',\n",
              " 'book',\n",
              " 'brand',\n",
              " 'build',\n",
              " 'building',\n",
              " 'business',\n",
              " 'buy',\n",
              " 'call',\n",
              " 'car',\n",
              " 'care',\n",
              " 'career',\n",
              " 'case',\n",
              " 'category',\n",
              " 'center',\n",
              " 'certified',\n",
              " 'change',\n",
              " 'check',\n",
              " 'choice',\n",
              " 'choose',\n",
              " 'city',\n",
              " 'class',\n",
              " 'clean',\n",
              " 'cleaning',\n",
              " 'click',\n",
              " 'client',\n",
              " 'clinic',\n",
              " 'cloud',\n",
              " 'coffee',\n",
              " 'come',\n",
              " 'commercial',\n",
              " 'commitment',\n",
              " 'communication',\n",
              " 'community',\n",
              " 'company',\n",
              " 'complete',\n",
              " 'comprehensive',\n",
              " 'connect',\n",
              " 'connected',\n",
              " 'construction',\n",
              " 'consultation',\n",
              " 'consulting',\n",
              " 'contact',\n",
              " 'content',\n",
              " 'contract',\n",
              " 'contractor',\n",
              " 'control',\n",
              " 'corporate',\n",
              " 'cost',\n",
              " 'county',\n",
              " 'course',\n",
              " 'create',\n",
              " 'creative',\n",
              " 'credit',\n",
              " 'current',\n",
              " 'custom',\n",
              " 'customer',\n",
              " 'data',\n",
              " 'day',\n",
              " 'dedicated',\n",
              " 'deliver',\n",
              " 'delivery',\n",
              " 'design',\n",
              " 'detail',\n",
              " 'development',\n",
              " 'difference',\n",
              " 'different',\n",
              " 'digital',\n",
              " 'discover',\n",
              " 'doctor',\n",
              " 'domain',\n",
              " 'download',\n",
              " 'drive',\n",
              " 'easy',\n",
              " 'education',\n",
              " 'effective',\n",
              " 'electrical',\n",
              " 'email',\n",
              " 'emergency',\n",
              " 'employee',\n",
              " 'energy',\n",
              " 'engineering',\n",
              " 'equipment',\n",
              " 'estate',\n",
              " 'event',\n",
              " 'every',\n",
              " 'everything',\n",
              " 'excellence',\n",
              " 'experience',\n",
              " 'experienced',\n",
              " 'expert',\n",
              " 'expertise',\n",
              " 'explore',\n",
              " 'facebook',\n",
              " 'facility',\n",
              " 'family',\n",
              " 'fast',\n",
              " 'feature',\n",
              " 'featured',\n",
              " 'finance',\n",
              " 'financial',\n",
              " 'find',\n",
              " 'firm',\n",
              " 'first',\n",
              " 'focus',\n",
              " 'follow',\n",
              " 'food',\n",
              " 'form',\n",
              " 'free',\n",
              " 'freight',\n",
              " 'full',\n",
              " 'future',\n",
              " 'gallery',\n",
              " 'gas',\n",
              " 'general',\n",
              " 'get',\n",
              " 'give',\n",
              " 'global',\n",
              " 'go',\n",
              " 'goal',\n",
              " 'good',\n",
              " 'great',\n",
              " 'green',\n",
              " 'group',\n",
              " 'grow',\n",
              " 'growth',\n",
              " 'guide',\n",
              " 'happy',\n",
              " 'health',\n",
              " 'healthcare',\n",
              " 'help',\n",
              " 'helping',\n",
              " 'high',\n",
              " 'history',\n",
              " 'home',\n",
              " 'hospital',\n",
              " 'hotel',\n",
              " 'hour',\n",
              " 'house',\n",
              " 'idea',\n",
              " 'impact',\n",
              " 'important',\n",
              " 'improve',\n",
              " 'inc',\n",
              " 'independent',\n",
              " 'industrial',\n",
              " 'industry',\n",
              " 'info',\n",
              " 'information',\n",
              " 'injury',\n",
              " 'innovation',\n",
              " 'innovative',\n",
              " 'insight',\n",
              " 'instagram',\n",
              " 'installation',\n",
              " 'insurance',\n",
              " 'international',\n",
              " 'investment',\n",
              " 'it',\n",
              " 'job',\n",
              " 'join',\n",
              " 'keep',\n",
              " 'key',\n",
              " 'know',\n",
              " 'knowledge',\n",
              " 'latest',\n",
              " 'law',\n",
              " 'lawyer',\n",
              " 'le',\n",
              " 'leader',\n",
              " 'leading',\n",
              " 'learn',\n",
              " 'legal',\n",
              " 'let',\n",
              " 'level',\n",
              " 'life',\n",
              " 'like',\n",
              " 'line',\n",
              " 'link',\n",
              " 'list',\n",
              " 'live',\n",
              " 'llc',\n",
              " 'loan',\n",
              " 'local',\n",
              " 'location',\n",
              " 'login',\n",
              " 'logistics',\n",
              " 'long',\n",
              " 'look',\n",
              " 'looking',\n",
              " 'love',\n",
              " 'ltd',\n",
              " 'machine',\n",
              " 'made',\n",
              " 'main',\n",
              " 'maintenance',\n",
              " 'make',\n",
              " 'making',\n",
              " 'management',\n",
              " 'manager',\n",
              " 'manufacturing',\n",
              " 'map',\n",
              " 'market',\n",
              " 'marketing',\n",
              " 'matter',\n",
              " 'medical',\n",
              " 'medium',\n",
              " 'meet',\n",
              " 'meeting',\n",
              " 'member',\n",
              " 'menu',\n",
              " 'metal',\n",
              " 'mind',\n",
              " 'mission',\n",
              " 'mobile',\n",
              " 'money',\n",
              " 'mortgage',\n",
              " 'much',\n",
              " 'name',\n",
              " 'national',\n",
              " 'navigation',\n",
              " 'need',\n",
              " 'network',\n",
              " 'new',\n",
              " 'news',\n",
              " 'newsletter',\n",
              " 'next',\n",
              " 'north',\n",
              " 'number',\n",
              " 'offer',\n",
              " 'office',\n",
              " 'oil',\n",
              " 'one',\n",
              " 'online',\n",
              " 'open',\n",
              " 'operation',\n",
              " 'opportunity',\n",
              " 'option',\n",
              " 'order',\n",
              " 'owner',\n",
              " 'package',\n",
              " 'page',\n",
              " 'part',\n",
              " 'partner',\n",
              " 'partnership',\n",
              " 'patient',\n",
              " 'pay',\n",
              " 'payment',\n",
              " 'people',\n",
              " 'perfect',\n",
              " 'performance',\n",
              " 'personal',\n",
              " 'pet',\n",
              " 'phone',\n",
              " 'place',\n",
              " 'plan',\n",
              " 'planning',\n",
              " 'platform',\n",
              " 'please',\n",
              " 'policy',\n",
              " 'popular',\n",
              " 'portfolio',\n",
              " 'post',\n",
              " 'power',\n",
              " 'practice',\n",
              " 'price',\n",
              " 'private',\n",
              " 'problem',\n",
              " 'process',\n",
              " 'product',\n",
              " 'production',\n",
              " 'professional',\n",
              " 'program',\n",
              " 'project',\n",
              " 'property',\n",
              " 'protection',\n",
              " 'proud',\n",
              " 'provide',\n",
              " 'provider',\n",
              " 'providing',\n",
              " 'public',\n",
              " 'quality',\n",
              " 'question',\n",
              " 'quick',\n",
              " 'quote',\n",
              " 'range',\n",
              " 'rate',\n",
              " 're',\n",
              " 'read',\n",
              " 'ready',\n",
              " 'real',\n",
              " 'reason',\n",
              " 'receive',\n",
              " 'recent',\n",
              " 'reliable',\n",
              " 'rental',\n",
              " 'repair',\n",
              " 'report',\n",
              " 'request',\n",
              " 'research',\n",
              " 'residential',\n",
              " 'resource',\n",
              " 'restaurant',\n",
              " 'result',\n",
              " 'retail',\n",
              " 'review',\n",
              " 'right',\n",
              " 'risk',\n",
              " 'road',\n",
              " 'room',\n",
              " 'safe',\n",
              " 'safety',\n",
              " 'sale',\n",
              " 'save',\n",
              " 'saving',\n",
              " 'say',\n",
              " 'saying',\n",
              " 'schedule',\n",
              " 'school',\n",
              " 'search',\n",
              " 'secure',\n",
              " 'security',\n",
              " 'see',\n",
              " 'serve',\n",
              " 'service',\n",
              " 'serving',\n",
              " 'set',\n",
              " 'share',\n",
              " 'shipping',\n",
              " 'shop',\n",
              " 'show',\n",
              " 'sign',\n",
              " 'simple',\n",
              " 'since',\n",
              " 'site',\n",
              " 'small',\n",
              " 'smart',\n",
              " 'social',\n",
              " 'software',\n",
              " 'solar',\n",
              " 'solution',\n",
              " 'south',\n",
              " 'special',\n",
              " 'specialist',\n",
              " 'specialty',\n",
              " 'st',\n",
              " 'staff',\n",
              " 'standard',\n",
              " 'start',\n",
              " 'started',\n",
              " 'state',\n",
              " 'stay',\n",
              " 'step',\n",
              " 'store',\n",
              " 'story',\n",
              " 'strategy',\n",
              " 'student',\n",
              " 'study',\n",
              " 'subscribe',\n",
              " 'success',\n",
              " 'supplier',\n",
              " 'supply',\n",
              " 'support',\n",
              " 'system',\n",
              " 'take',\n",
              " 'talk',\n",
              " 'tax',\n",
              " 'team',\n",
              " 'technology',\n",
              " 'testimonial',\n",
              " 'th',\n",
              " 'thank',\n",
              " 'thing',\n",
              " 'time',\n",
              " 'tip',\n",
              " 'today',\n",
              " 'together',\n",
              " 'tool',\n",
              " 'top',\n",
              " 'touch',\n",
              " 'training',\n",
              " 'transport',\n",
              " 'transportation',\n",
              " 'truck',\n",
              " 'trust',\n",
              " 'trusted',\n",
              " 'type',\n",
              " 'uk',\n",
              " 'unique',\n",
              " 'upcoming',\n",
              " 'update',\n",
              " 'use',\n",
              " 'using',\n",
              " 'value',\n",
              " 'veterinary',\n",
              " 'video',\n",
              " 'view',\n",
              " 'vision',\n",
              " 'visit',\n",
              " 'want',\n",
              " 'water',\n",
              " 'way',\n",
              " 'we',\n",
              " 'web',\n",
              " 'website',\n",
              " 'welcome',\n",
              " 'well',\n",
              " 'west',\n",
              " 'whats',\n",
              " 'work',\n",
              " 'working',\n",
              " 'world',\n",
              " 'year',\n",
              " 'you']"
            ]
          },
          "metadata": {
            "tags": []
          },
          "execution_count": 61
        }
      ]
    },
    {
      "cell_type": "code",
      "metadata": {
        "colab": {
          "base_uri": "https://localhost:8080/"
        },
        "id": "fxt37lNpRjnX",
        "outputId": "5f941300-667e-48bb-f946-64c11c9097a5"
      },
      "source": [
        "vectorizer.vocabulary_"
      ],
      "execution_count": 84,
      "outputs": [
        {
          "output_type": "execute_result",
          "data": {
            "text/plain": [
              "{'access': 0,\n",
              " 'account': 1,\n",
              " 'accounting': 2,\n",
              " 'across': 3,\n",
              " 'address': 4,\n",
              " 'advanced': 5,\n",
              " 'advantage': 6,\n",
              " 'advice': 7,\n",
              " 'affordable': 8,\n",
              " 'agency': 9,\n",
              " 'air': 10,\n",
              " 'always': 11,\n",
              " 'animal': 12,\n",
              " 'app': 13,\n",
              " 'application': 14,\n",
              " 'appointment': 15,\n",
              " 'approach': 16,\n",
              " 'area': 17,\n",
              " 'article': 18,\n",
              " 'asset': 19,\n",
              " 'attorney': 20,\n",
              " 'auto': 21,\n",
              " 'available': 22,\n",
              " 'award': 23,\n",
              " 'back': 24,\n",
              " 'based': 25,\n",
              " 'become': 26,\n",
              " 'benefit': 27,\n",
              " 'best': 28,\n",
              " 'better': 29,\n",
              " 'big': 30,\n",
              " 'blog': 31,\n",
              " 'book': 32,\n",
              " 'brand': 33,\n",
              " 'build': 34,\n",
              " 'building': 35,\n",
              " 'business': 36,\n",
              " 'buy': 37,\n",
              " 'call': 38,\n",
              " 'car': 39,\n",
              " 'care': 40,\n",
              " 'career': 41,\n",
              " 'case': 42,\n",
              " 'category': 43,\n",
              " 'center': 44,\n",
              " 'certified': 45,\n",
              " 'change': 46,\n",
              " 'check': 47,\n",
              " 'choice': 48,\n",
              " 'choose': 49,\n",
              " 'city': 50,\n",
              " 'class': 51,\n",
              " 'clean': 52,\n",
              " 'cleaning': 53,\n",
              " 'click': 54,\n",
              " 'client': 55,\n",
              " 'clinic': 56,\n",
              " 'cloud': 57,\n",
              " 'coffee': 58,\n",
              " 'come': 59,\n",
              " 'commercial': 60,\n",
              " 'commitment': 61,\n",
              " 'communication': 62,\n",
              " 'community': 63,\n",
              " 'company': 64,\n",
              " 'complete': 65,\n",
              " 'comprehensive': 66,\n",
              " 'connect': 67,\n",
              " 'connected': 68,\n",
              " 'construction': 69,\n",
              " 'consultation': 70,\n",
              " 'consulting': 71,\n",
              " 'contact': 72,\n",
              " 'content': 73,\n",
              " 'contract': 74,\n",
              " 'contractor': 75,\n",
              " 'control': 76,\n",
              " 'corporate': 77,\n",
              " 'cost': 78,\n",
              " 'county': 79,\n",
              " 'course': 80,\n",
              " 'create': 81,\n",
              " 'creative': 82,\n",
              " 'credit': 83,\n",
              " 'current': 84,\n",
              " 'custom': 85,\n",
              " 'customer': 86,\n",
              " 'data': 87,\n",
              " 'day': 88,\n",
              " 'dedicated': 89,\n",
              " 'deliver': 90,\n",
              " 'delivery': 91,\n",
              " 'design': 92,\n",
              " 'detail': 93,\n",
              " 'development': 94,\n",
              " 'difference': 95,\n",
              " 'different': 96,\n",
              " 'digital': 97,\n",
              " 'discover': 98,\n",
              " 'doctor': 99,\n",
              " 'domain': 100,\n",
              " 'download': 101,\n",
              " 'drive': 102,\n",
              " 'easy': 103,\n",
              " 'education': 104,\n",
              " 'effective': 105,\n",
              " 'electrical': 106,\n",
              " 'email': 107,\n",
              " 'emergency': 108,\n",
              " 'employee': 109,\n",
              " 'energy': 110,\n",
              " 'engineering': 111,\n",
              " 'equipment': 112,\n",
              " 'estate': 113,\n",
              " 'event': 114,\n",
              " 'every': 115,\n",
              " 'everything': 116,\n",
              " 'excellence': 117,\n",
              " 'experience': 118,\n",
              " 'experienced': 119,\n",
              " 'expert': 120,\n",
              " 'expertise': 121,\n",
              " 'explore': 122,\n",
              " 'facebook': 123,\n",
              " 'facility': 124,\n",
              " 'family': 125,\n",
              " 'fast': 126,\n",
              " 'feature': 127,\n",
              " 'featured': 128,\n",
              " 'finance': 129,\n",
              " 'financial': 130,\n",
              " 'find': 131,\n",
              " 'firm': 132,\n",
              " 'first': 133,\n",
              " 'focus': 134,\n",
              " 'follow': 135,\n",
              " 'food': 136,\n",
              " 'form': 137,\n",
              " 'free': 138,\n",
              " 'freight': 139,\n",
              " 'full': 140,\n",
              " 'future': 141,\n",
              " 'gallery': 142,\n",
              " 'gas': 143,\n",
              " 'general': 144,\n",
              " 'get': 145,\n",
              " 'give': 146,\n",
              " 'global': 147,\n",
              " 'go': 148,\n",
              " 'goal': 149,\n",
              " 'good': 150,\n",
              " 'great': 151,\n",
              " 'green': 152,\n",
              " 'group': 153,\n",
              " 'grow': 154,\n",
              " 'growth': 155,\n",
              " 'guide': 156,\n",
              " 'happy': 157,\n",
              " 'health': 158,\n",
              " 'healthcare': 159,\n",
              " 'help': 160,\n",
              " 'helping': 161,\n",
              " 'high': 162,\n",
              " 'history': 163,\n",
              " 'home': 164,\n",
              " 'hospital': 165,\n",
              " 'hotel': 166,\n",
              " 'hour': 167,\n",
              " 'house': 168,\n",
              " 'idea': 169,\n",
              " 'impact': 170,\n",
              " 'important': 171,\n",
              " 'improve': 172,\n",
              " 'inc': 173,\n",
              " 'independent': 174,\n",
              " 'industrial': 175,\n",
              " 'industry': 176,\n",
              " 'info': 177,\n",
              " 'information': 178,\n",
              " 'injury': 179,\n",
              " 'innovation': 180,\n",
              " 'innovative': 181,\n",
              " 'insight': 182,\n",
              " 'instagram': 183,\n",
              " 'installation': 184,\n",
              " 'insurance': 185,\n",
              " 'international': 186,\n",
              " 'investment': 187,\n",
              " 'it': 188,\n",
              " 'job': 189,\n",
              " 'join': 190,\n",
              " 'keep': 191,\n",
              " 'key': 192,\n",
              " 'know': 193,\n",
              " 'knowledge': 194,\n",
              " 'latest': 195,\n",
              " 'law': 196,\n",
              " 'lawyer': 197,\n",
              " 'le': 198,\n",
              " 'leader': 199,\n",
              " 'leading': 200,\n",
              " 'learn': 201,\n",
              " 'legal': 202,\n",
              " 'let': 203,\n",
              " 'level': 204,\n",
              " 'life': 205,\n",
              " 'like': 206,\n",
              " 'line': 207,\n",
              " 'link': 208,\n",
              " 'list': 209,\n",
              " 'live': 210,\n",
              " 'llc': 211,\n",
              " 'loan': 212,\n",
              " 'local': 213,\n",
              " 'location': 214,\n",
              " 'login': 215,\n",
              " 'logistics': 216,\n",
              " 'long': 217,\n",
              " 'look': 218,\n",
              " 'looking': 219,\n",
              " 'love': 220,\n",
              " 'ltd': 221,\n",
              " 'machine': 222,\n",
              " 'made': 223,\n",
              " 'main': 224,\n",
              " 'maintenance': 225,\n",
              " 'make': 226,\n",
              " 'making': 227,\n",
              " 'management': 228,\n",
              " 'manager': 229,\n",
              " 'manufacturing': 230,\n",
              " 'map': 231,\n",
              " 'market': 232,\n",
              " 'marketing': 233,\n",
              " 'matter': 234,\n",
              " 'medical': 235,\n",
              " 'medium': 236,\n",
              " 'meet': 237,\n",
              " 'meeting': 238,\n",
              " 'member': 239,\n",
              " 'menu': 240,\n",
              " 'metal': 241,\n",
              " 'mind': 242,\n",
              " 'mission': 243,\n",
              " 'mobile': 244,\n",
              " 'money': 245,\n",
              " 'mortgage': 246,\n",
              " 'much': 247,\n",
              " 'name': 248,\n",
              " 'national': 249,\n",
              " 'navigation': 250,\n",
              " 'need': 251,\n",
              " 'network': 252,\n",
              " 'new': 253,\n",
              " 'news': 254,\n",
              " 'newsletter': 255,\n",
              " 'next': 256,\n",
              " 'north': 257,\n",
              " 'number': 258,\n",
              " 'offer': 259,\n",
              " 'office': 260,\n",
              " 'oil': 261,\n",
              " 'one': 262,\n",
              " 'online': 263,\n",
              " 'open': 264,\n",
              " 'operation': 265,\n",
              " 'opportunity': 266,\n",
              " 'option': 267,\n",
              " 'order': 268,\n",
              " 'owner': 269,\n",
              " 'package': 270,\n",
              " 'page': 271,\n",
              " 'part': 272,\n",
              " 'partner': 273,\n",
              " 'partnership': 274,\n",
              " 'patient': 275,\n",
              " 'pay': 276,\n",
              " 'payment': 277,\n",
              " 'people': 278,\n",
              " 'perfect': 279,\n",
              " 'performance': 280,\n",
              " 'personal': 281,\n",
              " 'pet': 282,\n",
              " 'phone': 283,\n",
              " 'place': 284,\n",
              " 'plan': 285,\n",
              " 'planning': 286,\n",
              " 'platform': 287,\n",
              " 'please': 288,\n",
              " 'policy': 289,\n",
              " 'popular': 290,\n",
              " 'portfolio': 291,\n",
              " 'post': 292,\n",
              " 'power': 293,\n",
              " 'practice': 294,\n",
              " 'price': 295,\n",
              " 'private': 296,\n",
              " 'problem': 297,\n",
              " 'process': 298,\n",
              " 'product': 299,\n",
              " 'production': 300,\n",
              " 'professional': 301,\n",
              " 'program': 302,\n",
              " 'project': 303,\n",
              " 'property': 304,\n",
              " 'protection': 305,\n",
              " 'proud': 306,\n",
              " 'provide': 307,\n",
              " 'provider': 308,\n",
              " 'providing': 309,\n",
              " 'public': 310,\n",
              " 'quality': 311,\n",
              " 'question': 312,\n",
              " 'quick': 313,\n",
              " 'quote': 314,\n",
              " 'range': 315,\n",
              " 'rate': 316,\n",
              " 're': 317,\n",
              " 'read': 318,\n",
              " 'ready': 319,\n",
              " 'real': 320,\n",
              " 'reason': 321,\n",
              " 'receive': 322,\n",
              " 'recent': 323,\n",
              " 'reliable': 324,\n",
              " 'rental': 325,\n",
              " 'repair': 326,\n",
              " 'report': 327,\n",
              " 'request': 328,\n",
              " 'research': 329,\n",
              " 'residential': 330,\n",
              " 'resource': 331,\n",
              " 'restaurant': 332,\n",
              " 'result': 333,\n",
              " 'retail': 334,\n",
              " 'review': 335,\n",
              " 'right': 336,\n",
              " 'risk': 337,\n",
              " 'road': 338,\n",
              " 'room': 339,\n",
              " 'safe': 340,\n",
              " 'safety': 341,\n",
              " 'sale': 342,\n",
              " 'save': 343,\n",
              " 'saving': 344,\n",
              " 'say': 345,\n",
              " 'saying': 346,\n",
              " 'schedule': 347,\n",
              " 'school': 348,\n",
              " 'search': 349,\n",
              " 'secure': 350,\n",
              " 'security': 351,\n",
              " 'see': 352,\n",
              " 'serve': 353,\n",
              " 'service': 354,\n",
              " 'serving': 355,\n",
              " 'set': 356,\n",
              " 'share': 357,\n",
              " 'shipping': 358,\n",
              " 'shop': 359,\n",
              " 'show': 360,\n",
              " 'sign': 361,\n",
              " 'simple': 362,\n",
              " 'since': 363,\n",
              " 'site': 364,\n",
              " 'small': 365,\n",
              " 'smart': 366,\n",
              " 'social': 367,\n",
              " 'software': 368,\n",
              " 'solar': 369,\n",
              " 'solution': 370,\n",
              " 'south': 371,\n",
              " 'special': 372,\n",
              " 'specialist': 373,\n",
              " 'specialty': 374,\n",
              " 'st': 375,\n",
              " 'staff': 376,\n",
              " 'standard': 377,\n",
              " 'start': 378,\n",
              " 'started': 379,\n",
              " 'state': 380,\n",
              " 'stay': 381,\n",
              " 'step': 382,\n",
              " 'store': 383,\n",
              " 'story': 384,\n",
              " 'strategy': 385,\n",
              " 'student': 386,\n",
              " 'study': 387,\n",
              " 'subscribe': 388,\n",
              " 'success': 389,\n",
              " 'supplier': 390,\n",
              " 'supply': 391,\n",
              " 'support': 392,\n",
              " 'system': 393,\n",
              " 'take': 394,\n",
              " 'talk': 395,\n",
              " 'tax': 396,\n",
              " 'team': 397,\n",
              " 'technology': 398,\n",
              " 'testimonial': 399,\n",
              " 'th': 400,\n",
              " 'thank': 401,\n",
              " 'thing': 402,\n",
              " 'time': 403,\n",
              " 'tip': 404,\n",
              " 'today': 405,\n",
              " 'together': 406,\n",
              " 'tool': 407,\n",
              " 'top': 408,\n",
              " 'touch': 409,\n",
              " 'training': 410,\n",
              " 'transport': 411,\n",
              " 'transportation': 412,\n",
              " 'truck': 413,\n",
              " 'trust': 414,\n",
              " 'trusted': 415,\n",
              " 'type': 416,\n",
              " 'uk': 417,\n",
              " 'unique': 418,\n",
              " 'upcoming': 419,\n",
              " 'update': 420,\n",
              " 'use': 421,\n",
              " 'using': 422,\n",
              " 'value': 423,\n",
              " 'veterinary': 424,\n",
              " 'video': 425,\n",
              " 'view': 426,\n",
              " 'vision': 427,\n",
              " 'visit': 428,\n",
              " 'want': 429,\n",
              " 'water': 430,\n",
              " 'way': 431,\n",
              " 'we': 432,\n",
              " 'web': 433,\n",
              " 'website': 434,\n",
              " 'welcome': 435,\n",
              " 'well': 436,\n",
              " 'west': 437,\n",
              " 'whats': 438,\n",
              " 'work': 439,\n",
              " 'working': 440,\n",
              " 'world': 441,\n",
              " 'year': 442,\n",
              " 'you': 443}"
            ]
          },
          "metadata": {
            "tags": []
          },
          "execution_count": 84
        }
      ]
    },
    {
      "cell_type": "code",
      "metadata": {
        "id": "zSEmKzgcO21v"
      },
      "source": [
        "d0 = pd.DataFrame(X , columns=vectorizer.get_feature_names())"
      ],
      "execution_count": 62,
      "outputs": []
    },
    {
      "cell_type": "code",
      "metadata": {
        "colab": {
          "base_uri": "https://localhost:8080/",
          "height": 253
        },
        "id": "azCgZdXHPpST",
        "outputId": "a46e4788-df38-4891-fed7-0d60e090cbc7"
      },
      "source": [
        "d0.head()"
      ],
      "execution_count": 64,
      "outputs": [
        {
          "output_type": "execute_result",
          "data": {
            "text/html": [
              "<div>\n",
              "<style scoped>\n",
              "    .dataframe tbody tr th:only-of-type {\n",
              "        vertical-align: middle;\n",
              "    }\n",
              "\n",
              "    .dataframe tbody tr th {\n",
              "        vertical-align: top;\n",
              "    }\n",
              "\n",
              "    .dataframe thead th {\n",
              "        text-align: right;\n",
              "    }\n",
              "</style>\n",
              "<table border=\"1\" class=\"dataframe\">\n",
              "  <thead>\n",
              "    <tr style=\"text-align: right;\">\n",
              "      <th></th>\n",
              "      <th>access</th>\n",
              "      <th>account</th>\n",
              "      <th>accounting</th>\n",
              "      <th>across</th>\n",
              "      <th>address</th>\n",
              "      <th>advanced</th>\n",
              "      <th>advantage</th>\n",
              "      <th>advice</th>\n",
              "      <th>affordable</th>\n",
              "      <th>agency</th>\n",
              "      <th>air</th>\n",
              "      <th>always</th>\n",
              "      <th>animal</th>\n",
              "      <th>app</th>\n",
              "      <th>application</th>\n",
              "      <th>appointment</th>\n",
              "      <th>approach</th>\n",
              "      <th>area</th>\n",
              "      <th>article</th>\n",
              "      <th>asset</th>\n",
              "      <th>attorney</th>\n",
              "      <th>auto</th>\n",
              "      <th>available</th>\n",
              "      <th>award</th>\n",
              "      <th>back</th>\n",
              "      <th>based</th>\n",
              "      <th>become</th>\n",
              "      <th>benefit</th>\n",
              "      <th>best</th>\n",
              "      <th>better</th>\n",
              "      <th>big</th>\n",
              "      <th>blog</th>\n",
              "      <th>book</th>\n",
              "      <th>brand</th>\n",
              "      <th>build</th>\n",
              "      <th>building</th>\n",
              "      <th>business</th>\n",
              "      <th>buy</th>\n",
              "      <th>call</th>\n",
              "      <th>car</th>\n",
              "      <th>...</th>\n",
              "      <th>tip</th>\n",
              "      <th>today</th>\n",
              "      <th>together</th>\n",
              "      <th>tool</th>\n",
              "      <th>top</th>\n",
              "      <th>touch</th>\n",
              "      <th>training</th>\n",
              "      <th>transport</th>\n",
              "      <th>transportation</th>\n",
              "      <th>truck</th>\n",
              "      <th>trust</th>\n",
              "      <th>trusted</th>\n",
              "      <th>type</th>\n",
              "      <th>uk</th>\n",
              "      <th>unique</th>\n",
              "      <th>upcoming</th>\n",
              "      <th>update</th>\n",
              "      <th>use</th>\n",
              "      <th>using</th>\n",
              "      <th>value</th>\n",
              "      <th>veterinary</th>\n",
              "      <th>video</th>\n",
              "      <th>view</th>\n",
              "      <th>vision</th>\n",
              "      <th>visit</th>\n",
              "      <th>want</th>\n",
              "      <th>water</th>\n",
              "      <th>way</th>\n",
              "      <th>we</th>\n",
              "      <th>web</th>\n",
              "      <th>website</th>\n",
              "      <th>welcome</th>\n",
              "      <th>well</th>\n",
              "      <th>west</th>\n",
              "      <th>whats</th>\n",
              "      <th>work</th>\n",
              "      <th>working</th>\n",
              "      <th>world</th>\n",
              "      <th>year</th>\n",
              "      <th>you</th>\n",
              "    </tr>\n",
              "  </thead>\n",
              "  <tbody>\n",
              "    <tr>\n",
              "      <th>0</th>\n",
              "      <td>0.0</td>\n",
              "      <td>0.0</td>\n",
              "      <td>0.0</td>\n",
              "      <td>0.0</td>\n",
              "      <td>0.0</td>\n",
              "      <td>0.0</td>\n",
              "      <td>0.0</td>\n",
              "      <td>0.0</td>\n",
              "      <td>0.0</td>\n",
              "      <td>0.0</td>\n",
              "      <td>0.0</td>\n",
              "      <td>0.0</td>\n",
              "      <td>0.0</td>\n",
              "      <td>0.0</td>\n",
              "      <td>0.0</td>\n",
              "      <td>0.0</td>\n",
              "      <td>0.0</td>\n",
              "      <td>0.0</td>\n",
              "      <td>0.0</td>\n",
              "      <td>0.0</td>\n",
              "      <td>0.0</td>\n",
              "      <td>0.0</td>\n",
              "      <td>0.0</td>\n",
              "      <td>0.0</td>\n",
              "      <td>0.0</td>\n",
              "      <td>0.0</td>\n",
              "      <td>0.0</td>\n",
              "      <td>0.0</td>\n",
              "      <td>0.0</td>\n",
              "      <td>0.0</td>\n",
              "      <td>0.0</td>\n",
              "      <td>0.0</td>\n",
              "      <td>0.0</td>\n",
              "      <td>0.0</td>\n",
              "      <td>0.0</td>\n",
              "      <td>0.000000</td>\n",
              "      <td>0.0</td>\n",
              "      <td>0.0</td>\n",
              "      <td>0.0</td>\n",
              "      <td>0.0</td>\n",
              "      <td>...</td>\n",
              "      <td>0.0</td>\n",
              "      <td>0.0</td>\n",
              "      <td>0.0</td>\n",
              "      <td>0.0</td>\n",
              "      <td>0.0</td>\n",
              "      <td>0.0</td>\n",
              "      <td>0.0</td>\n",
              "      <td>0.0</td>\n",
              "      <td>0.0</td>\n",
              "      <td>0.0</td>\n",
              "      <td>0.0</td>\n",
              "      <td>0.0</td>\n",
              "      <td>0.0</td>\n",
              "      <td>0.0</td>\n",
              "      <td>0.0</td>\n",
              "      <td>0.0</td>\n",
              "      <td>0.0</td>\n",
              "      <td>0.0</td>\n",
              "      <td>0.0</td>\n",
              "      <td>0.0</td>\n",
              "      <td>0.0</td>\n",
              "      <td>0.0</td>\n",
              "      <td>0.0</td>\n",
              "      <td>0.0</td>\n",
              "      <td>0.0</td>\n",
              "      <td>0.0</td>\n",
              "      <td>0.0</td>\n",
              "      <td>0.0</td>\n",
              "      <td>0.0</td>\n",
              "      <td>0.0</td>\n",
              "      <td>0.0</td>\n",
              "      <td>0.081823</td>\n",
              "      <td>0.0</td>\n",
              "      <td>0.0</td>\n",
              "      <td>0.0</td>\n",
              "      <td>0.0</td>\n",
              "      <td>0.0</td>\n",
              "      <td>0.0</td>\n",
              "      <td>0.0</td>\n",
              "      <td>0.0</td>\n",
              "    </tr>\n",
              "    <tr>\n",
              "      <th>1</th>\n",
              "      <td>0.0</td>\n",
              "      <td>0.0</td>\n",
              "      <td>0.0</td>\n",
              "      <td>0.0</td>\n",
              "      <td>0.0</td>\n",
              "      <td>0.0</td>\n",
              "      <td>0.0</td>\n",
              "      <td>0.0</td>\n",
              "      <td>0.0</td>\n",
              "      <td>0.0</td>\n",
              "      <td>0.0</td>\n",
              "      <td>0.0</td>\n",
              "      <td>0.0</td>\n",
              "      <td>0.0</td>\n",
              "      <td>0.0</td>\n",
              "      <td>0.0</td>\n",
              "      <td>0.0</td>\n",
              "      <td>0.0</td>\n",
              "      <td>0.0</td>\n",
              "      <td>0.0</td>\n",
              "      <td>0.0</td>\n",
              "      <td>0.0</td>\n",
              "      <td>0.0</td>\n",
              "      <td>0.0</td>\n",
              "      <td>0.0</td>\n",
              "      <td>0.0</td>\n",
              "      <td>0.0</td>\n",
              "      <td>0.0</td>\n",
              "      <td>0.0</td>\n",
              "      <td>0.0</td>\n",
              "      <td>0.0</td>\n",
              "      <td>0.0</td>\n",
              "      <td>0.0</td>\n",
              "      <td>0.0</td>\n",
              "      <td>0.0</td>\n",
              "      <td>0.000000</td>\n",
              "      <td>0.0</td>\n",
              "      <td>0.0</td>\n",
              "      <td>0.0</td>\n",
              "      <td>0.0</td>\n",
              "      <td>...</td>\n",
              "      <td>0.0</td>\n",
              "      <td>0.0</td>\n",
              "      <td>0.0</td>\n",
              "      <td>0.0</td>\n",
              "      <td>0.0</td>\n",
              "      <td>0.0</td>\n",
              "      <td>0.0</td>\n",
              "      <td>0.0</td>\n",
              "      <td>0.0</td>\n",
              "      <td>0.0</td>\n",
              "      <td>0.0</td>\n",
              "      <td>0.0</td>\n",
              "      <td>0.0</td>\n",
              "      <td>0.0</td>\n",
              "      <td>0.0</td>\n",
              "      <td>0.0</td>\n",
              "      <td>0.0</td>\n",
              "      <td>0.0</td>\n",
              "      <td>0.0</td>\n",
              "      <td>0.0</td>\n",
              "      <td>0.0</td>\n",
              "      <td>0.0</td>\n",
              "      <td>0.0</td>\n",
              "      <td>0.0</td>\n",
              "      <td>0.0</td>\n",
              "      <td>0.0</td>\n",
              "      <td>0.0</td>\n",
              "      <td>0.0</td>\n",
              "      <td>0.0</td>\n",
              "      <td>0.0</td>\n",
              "      <td>0.0</td>\n",
              "      <td>0.465329</td>\n",
              "      <td>0.0</td>\n",
              "      <td>0.0</td>\n",
              "      <td>0.0</td>\n",
              "      <td>0.0</td>\n",
              "      <td>0.0</td>\n",
              "      <td>0.0</td>\n",
              "      <td>0.0</td>\n",
              "      <td>0.0</td>\n",
              "    </tr>\n",
              "    <tr>\n",
              "      <th>2</th>\n",
              "      <td>0.0</td>\n",
              "      <td>0.0</td>\n",
              "      <td>0.0</td>\n",
              "      <td>0.0</td>\n",
              "      <td>0.0</td>\n",
              "      <td>0.0</td>\n",
              "      <td>0.0</td>\n",
              "      <td>0.0</td>\n",
              "      <td>0.0</td>\n",
              "      <td>0.0</td>\n",
              "      <td>0.0</td>\n",
              "      <td>0.0</td>\n",
              "      <td>0.0</td>\n",
              "      <td>0.0</td>\n",
              "      <td>0.0</td>\n",
              "      <td>0.0</td>\n",
              "      <td>0.0</td>\n",
              "      <td>0.0</td>\n",
              "      <td>0.0</td>\n",
              "      <td>0.0</td>\n",
              "      <td>0.0</td>\n",
              "      <td>0.0</td>\n",
              "      <td>0.0</td>\n",
              "      <td>0.0</td>\n",
              "      <td>0.0</td>\n",
              "      <td>0.0</td>\n",
              "      <td>0.0</td>\n",
              "      <td>0.0</td>\n",
              "      <td>0.0</td>\n",
              "      <td>0.0</td>\n",
              "      <td>0.0</td>\n",
              "      <td>0.0</td>\n",
              "      <td>0.0</td>\n",
              "      <td>0.0</td>\n",
              "      <td>0.0</td>\n",
              "      <td>0.000000</td>\n",
              "      <td>0.0</td>\n",
              "      <td>0.0</td>\n",
              "      <td>0.0</td>\n",
              "      <td>0.0</td>\n",
              "      <td>...</td>\n",
              "      <td>0.0</td>\n",
              "      <td>0.0</td>\n",
              "      <td>0.0</td>\n",
              "      <td>0.0</td>\n",
              "      <td>0.0</td>\n",
              "      <td>0.0</td>\n",
              "      <td>0.0</td>\n",
              "      <td>0.0</td>\n",
              "      <td>0.0</td>\n",
              "      <td>0.0</td>\n",
              "      <td>0.0</td>\n",
              "      <td>0.0</td>\n",
              "      <td>0.0</td>\n",
              "      <td>0.0</td>\n",
              "      <td>0.0</td>\n",
              "      <td>0.0</td>\n",
              "      <td>0.0</td>\n",
              "      <td>0.0</td>\n",
              "      <td>0.0</td>\n",
              "      <td>0.0</td>\n",
              "      <td>0.0</td>\n",
              "      <td>0.0</td>\n",
              "      <td>0.0</td>\n",
              "      <td>0.0</td>\n",
              "      <td>0.0</td>\n",
              "      <td>0.0</td>\n",
              "      <td>0.0</td>\n",
              "      <td>0.0</td>\n",
              "      <td>0.0</td>\n",
              "      <td>0.0</td>\n",
              "      <td>0.0</td>\n",
              "      <td>0.546193</td>\n",
              "      <td>0.0</td>\n",
              "      <td>0.0</td>\n",
              "      <td>0.0</td>\n",
              "      <td>0.0</td>\n",
              "      <td>0.0</td>\n",
              "      <td>0.0</td>\n",
              "      <td>0.0</td>\n",
              "      <td>0.0</td>\n",
              "    </tr>\n",
              "    <tr>\n",
              "      <th>3</th>\n",
              "      <td>0.0</td>\n",
              "      <td>0.0</td>\n",
              "      <td>0.0</td>\n",
              "      <td>0.0</td>\n",
              "      <td>0.0</td>\n",
              "      <td>0.0</td>\n",
              "      <td>0.0</td>\n",
              "      <td>0.0</td>\n",
              "      <td>0.0</td>\n",
              "      <td>0.0</td>\n",
              "      <td>0.0</td>\n",
              "      <td>0.0</td>\n",
              "      <td>0.0</td>\n",
              "      <td>0.0</td>\n",
              "      <td>0.0</td>\n",
              "      <td>0.0</td>\n",
              "      <td>0.0</td>\n",
              "      <td>0.0</td>\n",
              "      <td>0.0</td>\n",
              "      <td>0.0</td>\n",
              "      <td>0.0</td>\n",
              "      <td>0.0</td>\n",
              "      <td>0.0</td>\n",
              "      <td>0.0</td>\n",
              "      <td>0.0</td>\n",
              "      <td>0.0</td>\n",
              "      <td>0.0</td>\n",
              "      <td>0.0</td>\n",
              "      <td>0.0</td>\n",
              "      <td>0.0</td>\n",
              "      <td>0.0</td>\n",
              "      <td>0.0</td>\n",
              "      <td>0.0</td>\n",
              "      <td>0.0</td>\n",
              "      <td>0.0</td>\n",
              "      <td>0.000000</td>\n",
              "      <td>0.0</td>\n",
              "      <td>0.0</td>\n",
              "      <td>0.0</td>\n",
              "      <td>0.0</td>\n",
              "      <td>...</td>\n",
              "      <td>0.0</td>\n",
              "      <td>0.0</td>\n",
              "      <td>0.0</td>\n",
              "      <td>0.0</td>\n",
              "      <td>0.0</td>\n",
              "      <td>0.0</td>\n",
              "      <td>0.0</td>\n",
              "      <td>0.0</td>\n",
              "      <td>0.0</td>\n",
              "      <td>0.0</td>\n",
              "      <td>0.0</td>\n",
              "      <td>0.0</td>\n",
              "      <td>0.0</td>\n",
              "      <td>0.0</td>\n",
              "      <td>0.0</td>\n",
              "      <td>0.0</td>\n",
              "      <td>0.0</td>\n",
              "      <td>0.0</td>\n",
              "      <td>0.0</td>\n",
              "      <td>0.0</td>\n",
              "      <td>0.0</td>\n",
              "      <td>0.0</td>\n",
              "      <td>0.0</td>\n",
              "      <td>0.0</td>\n",
              "      <td>0.0</td>\n",
              "      <td>0.0</td>\n",
              "      <td>0.0</td>\n",
              "      <td>0.0</td>\n",
              "      <td>0.0</td>\n",
              "      <td>0.0</td>\n",
              "      <td>0.0</td>\n",
              "      <td>0.402400</td>\n",
              "      <td>0.0</td>\n",
              "      <td>0.0</td>\n",
              "      <td>0.0</td>\n",
              "      <td>0.0</td>\n",
              "      <td>0.0</td>\n",
              "      <td>0.0</td>\n",
              "      <td>0.0</td>\n",
              "      <td>0.0</td>\n",
              "    </tr>\n",
              "    <tr>\n",
              "      <th>4</th>\n",
              "      <td>0.0</td>\n",
              "      <td>0.0</td>\n",
              "      <td>0.0</td>\n",
              "      <td>0.0</td>\n",
              "      <td>0.0</td>\n",
              "      <td>0.0</td>\n",
              "      <td>0.0</td>\n",
              "      <td>0.0</td>\n",
              "      <td>0.0</td>\n",
              "      <td>0.0</td>\n",
              "      <td>0.0</td>\n",
              "      <td>0.0</td>\n",
              "      <td>0.0</td>\n",
              "      <td>0.0</td>\n",
              "      <td>0.0</td>\n",
              "      <td>0.0</td>\n",
              "      <td>0.0</td>\n",
              "      <td>0.0</td>\n",
              "      <td>0.0</td>\n",
              "      <td>0.0</td>\n",
              "      <td>0.0</td>\n",
              "      <td>0.0</td>\n",
              "      <td>0.0</td>\n",
              "      <td>0.0</td>\n",
              "      <td>0.0</td>\n",
              "      <td>0.0</td>\n",
              "      <td>0.0</td>\n",
              "      <td>0.0</td>\n",
              "      <td>0.0</td>\n",
              "      <td>0.0</td>\n",
              "      <td>0.0</td>\n",
              "      <td>0.0</td>\n",
              "      <td>0.0</td>\n",
              "      <td>0.0</td>\n",
              "      <td>0.0</td>\n",
              "      <td>0.201886</td>\n",
              "      <td>0.0</td>\n",
              "      <td>0.0</td>\n",
              "      <td>0.0</td>\n",
              "      <td>0.0</td>\n",
              "      <td>...</td>\n",
              "      <td>0.0</td>\n",
              "      <td>0.0</td>\n",
              "      <td>0.0</td>\n",
              "      <td>0.0</td>\n",
              "      <td>0.0</td>\n",
              "      <td>0.0</td>\n",
              "      <td>0.0</td>\n",
              "      <td>0.0</td>\n",
              "      <td>0.0</td>\n",
              "      <td>0.0</td>\n",
              "      <td>0.0</td>\n",
              "      <td>0.0</td>\n",
              "      <td>0.0</td>\n",
              "      <td>0.0</td>\n",
              "      <td>0.0</td>\n",
              "      <td>0.0</td>\n",
              "      <td>0.0</td>\n",
              "      <td>0.0</td>\n",
              "      <td>0.0</td>\n",
              "      <td>0.0</td>\n",
              "      <td>0.0</td>\n",
              "      <td>0.0</td>\n",
              "      <td>0.0</td>\n",
              "      <td>0.0</td>\n",
              "      <td>0.0</td>\n",
              "      <td>0.0</td>\n",
              "      <td>0.0</td>\n",
              "      <td>0.0</td>\n",
              "      <td>0.0</td>\n",
              "      <td>0.0</td>\n",
              "      <td>0.0</td>\n",
              "      <td>0.000000</td>\n",
              "      <td>0.0</td>\n",
              "      <td>0.0</td>\n",
              "      <td>0.0</td>\n",
              "      <td>0.0</td>\n",
              "      <td>0.0</td>\n",
              "      <td>0.0</td>\n",
              "      <td>0.0</td>\n",
              "      <td>0.0</td>\n",
              "    </tr>\n",
              "  </tbody>\n",
              "</table>\n",
              "<p>5 rows × 444 columns</p>\n",
              "</div>"
            ],
            "text/plain": [
              "   access  account  accounting  across  ...  working  world  year  you\n",
              "0     0.0      0.0         0.0     0.0  ...      0.0    0.0   0.0  0.0\n",
              "1     0.0      0.0         0.0     0.0  ...      0.0    0.0   0.0  0.0\n",
              "2     0.0      0.0         0.0     0.0  ...      0.0    0.0   0.0  0.0\n",
              "3     0.0      0.0         0.0     0.0  ...      0.0    0.0   0.0  0.0\n",
              "4     0.0      0.0         0.0     0.0  ...      0.0    0.0   0.0  0.0\n",
              "\n",
              "[5 rows x 444 columns]"
            ]
          },
          "metadata": {
            "tags": []
          },
          "execution_count": 64
        }
      ]
    },
    {
      "cell_type": "code",
      "metadata": {
        "colab": {
          "base_uri": "https://localhost:8080/",
          "height": 129
        },
        "id": "n2ai14LOQjPd",
        "outputId": "718a8c23-d214-489b-91d6-5d18d5b85eec"
      },
      "source": [
        "d0.iloc[[0]]"
      ],
      "execution_count": 80,
      "outputs": [
        {
          "output_type": "execute_result",
          "data": {
            "text/html": [
              "<div>\n",
              "<style scoped>\n",
              "    .dataframe tbody tr th:only-of-type {\n",
              "        vertical-align: middle;\n",
              "    }\n",
              "\n",
              "    .dataframe tbody tr th {\n",
              "        vertical-align: top;\n",
              "    }\n",
              "\n",
              "    .dataframe thead th {\n",
              "        text-align: right;\n",
              "    }\n",
              "</style>\n",
              "<table border=\"1\" class=\"dataframe\">\n",
              "  <thead>\n",
              "    <tr style=\"text-align: right;\">\n",
              "      <th></th>\n",
              "      <th>access</th>\n",
              "      <th>account</th>\n",
              "      <th>accounting</th>\n",
              "      <th>across</th>\n",
              "      <th>address</th>\n",
              "      <th>advanced</th>\n",
              "      <th>advantage</th>\n",
              "      <th>advice</th>\n",
              "      <th>affordable</th>\n",
              "      <th>agency</th>\n",
              "      <th>air</th>\n",
              "      <th>always</th>\n",
              "      <th>animal</th>\n",
              "      <th>app</th>\n",
              "      <th>application</th>\n",
              "      <th>appointment</th>\n",
              "      <th>approach</th>\n",
              "      <th>area</th>\n",
              "      <th>article</th>\n",
              "      <th>asset</th>\n",
              "      <th>attorney</th>\n",
              "      <th>auto</th>\n",
              "      <th>available</th>\n",
              "      <th>award</th>\n",
              "      <th>back</th>\n",
              "      <th>based</th>\n",
              "      <th>become</th>\n",
              "      <th>benefit</th>\n",
              "      <th>best</th>\n",
              "      <th>better</th>\n",
              "      <th>big</th>\n",
              "      <th>blog</th>\n",
              "      <th>book</th>\n",
              "      <th>brand</th>\n",
              "      <th>build</th>\n",
              "      <th>building</th>\n",
              "      <th>business</th>\n",
              "      <th>buy</th>\n",
              "      <th>call</th>\n",
              "      <th>car</th>\n",
              "      <th>...</th>\n",
              "      <th>tip</th>\n",
              "      <th>today</th>\n",
              "      <th>together</th>\n",
              "      <th>tool</th>\n",
              "      <th>top</th>\n",
              "      <th>touch</th>\n",
              "      <th>training</th>\n",
              "      <th>transport</th>\n",
              "      <th>transportation</th>\n",
              "      <th>truck</th>\n",
              "      <th>trust</th>\n",
              "      <th>trusted</th>\n",
              "      <th>type</th>\n",
              "      <th>uk</th>\n",
              "      <th>unique</th>\n",
              "      <th>upcoming</th>\n",
              "      <th>update</th>\n",
              "      <th>use</th>\n",
              "      <th>using</th>\n",
              "      <th>value</th>\n",
              "      <th>veterinary</th>\n",
              "      <th>video</th>\n",
              "      <th>view</th>\n",
              "      <th>vision</th>\n",
              "      <th>visit</th>\n",
              "      <th>want</th>\n",
              "      <th>water</th>\n",
              "      <th>way</th>\n",
              "      <th>we</th>\n",
              "      <th>web</th>\n",
              "      <th>website</th>\n",
              "      <th>welcome</th>\n",
              "      <th>well</th>\n",
              "      <th>west</th>\n",
              "      <th>whats</th>\n",
              "      <th>work</th>\n",
              "      <th>working</th>\n",
              "      <th>world</th>\n",
              "      <th>year</th>\n",
              "      <th>you</th>\n",
              "    </tr>\n",
              "  </thead>\n",
              "  <tbody>\n",
              "    <tr>\n",
              "      <th>0</th>\n",
              "      <td>0.0</td>\n",
              "      <td>0.0</td>\n",
              "      <td>0.0</td>\n",
              "      <td>0.0</td>\n",
              "      <td>0.0</td>\n",
              "      <td>0.0</td>\n",
              "      <td>0.0</td>\n",
              "      <td>0.0</td>\n",
              "      <td>0.0</td>\n",
              "      <td>0.0</td>\n",
              "      <td>0.0</td>\n",
              "      <td>0.0</td>\n",
              "      <td>0.0</td>\n",
              "      <td>0.0</td>\n",
              "      <td>0.0</td>\n",
              "      <td>0.0</td>\n",
              "      <td>0.0</td>\n",
              "      <td>0.0</td>\n",
              "      <td>0.0</td>\n",
              "      <td>0.0</td>\n",
              "      <td>0.0</td>\n",
              "      <td>0.0</td>\n",
              "      <td>0.0</td>\n",
              "      <td>0.0</td>\n",
              "      <td>0.0</td>\n",
              "      <td>0.0</td>\n",
              "      <td>0.0</td>\n",
              "      <td>0.0</td>\n",
              "      <td>0.0</td>\n",
              "      <td>0.0</td>\n",
              "      <td>0.0</td>\n",
              "      <td>0.0</td>\n",
              "      <td>0.0</td>\n",
              "      <td>0.0</td>\n",
              "      <td>0.0</td>\n",
              "      <td>0.0</td>\n",
              "      <td>0.0</td>\n",
              "      <td>0.0</td>\n",
              "      <td>0.0</td>\n",
              "      <td>0.0</td>\n",
              "      <td>...</td>\n",
              "      <td>0.0</td>\n",
              "      <td>0.0</td>\n",
              "      <td>0.0</td>\n",
              "      <td>0.0</td>\n",
              "      <td>0.0</td>\n",
              "      <td>0.0</td>\n",
              "      <td>0.0</td>\n",
              "      <td>0.0</td>\n",
              "      <td>0.0</td>\n",
              "      <td>0.0</td>\n",
              "      <td>0.0</td>\n",
              "      <td>0.0</td>\n",
              "      <td>0.0</td>\n",
              "      <td>0.0</td>\n",
              "      <td>0.0</td>\n",
              "      <td>0.0</td>\n",
              "      <td>0.0</td>\n",
              "      <td>0.0</td>\n",
              "      <td>0.0</td>\n",
              "      <td>0.0</td>\n",
              "      <td>0.0</td>\n",
              "      <td>0.0</td>\n",
              "      <td>0.0</td>\n",
              "      <td>0.0</td>\n",
              "      <td>0.0</td>\n",
              "      <td>0.0</td>\n",
              "      <td>0.0</td>\n",
              "      <td>0.0</td>\n",
              "      <td>0.0</td>\n",
              "      <td>0.0</td>\n",
              "      <td>0.0</td>\n",
              "      <td>0.081823</td>\n",
              "      <td>0.0</td>\n",
              "      <td>0.0</td>\n",
              "      <td>0.0</td>\n",
              "      <td>0.0</td>\n",
              "      <td>0.0</td>\n",
              "      <td>0.0</td>\n",
              "      <td>0.0</td>\n",
              "      <td>0.0</td>\n",
              "    </tr>\n",
              "  </tbody>\n",
              "</table>\n",
              "<p>1 rows × 444 columns</p>\n",
              "</div>"
            ],
            "text/plain": [
              "   access  account  accounting  across  ...  working  world  year  you\n",
              "0     0.0      0.0         0.0     0.0  ...      0.0    0.0   0.0  0.0\n",
              "\n",
              "[1 rows x 444 columns]"
            ]
          },
          "metadata": {
            "tags": []
          },
          "execution_count": 80
        }
      ]
    },
    {
      "cell_type": "code",
      "metadata": {
        "id": "1xCKqjHqGKmC"
      },
      "source": [
        "# prep tf-idf matrix for word cloud\n",
        "\n",
        "data = d0.T #transposing"
      ],
      "execution_count": 69,
      "outputs": []
    },
    {
      "cell_type": "code",
      "metadata": {
        "colab": {
          "base_uri": "https://localhost:8080/",
          "height": 253
        },
        "id": "AWdm74wCQB0t",
        "outputId": "c3eec83b-2b2e-428f-b41a-c95f62e17fc0"
      },
      "source": [
        "data.head()"
      ],
      "execution_count": 70,
      "outputs": [
        {
          "output_type": "execute_result",
          "data": {
            "text/html": [
              "<div>\n",
              "<style scoped>\n",
              "    .dataframe tbody tr th:only-of-type {\n",
              "        vertical-align: middle;\n",
              "    }\n",
              "\n",
              "    .dataframe tbody tr th {\n",
              "        vertical-align: top;\n",
              "    }\n",
              "\n",
              "    .dataframe thead th {\n",
              "        text-align: right;\n",
              "    }\n",
              "</style>\n",
              "<table border=\"1\" class=\"dataframe\">\n",
              "  <thead>\n",
              "    <tr style=\"text-align: right;\">\n",
              "      <th></th>\n",
              "      <th>0</th>\n",
              "      <th>1</th>\n",
              "      <th>2</th>\n",
              "      <th>3</th>\n",
              "      <th>4</th>\n",
              "      <th>5</th>\n",
              "      <th>6</th>\n",
              "      <th>7</th>\n",
              "      <th>8</th>\n",
              "      <th>9</th>\n",
              "      <th>10</th>\n",
              "      <th>11</th>\n",
              "      <th>12</th>\n",
              "      <th>13</th>\n",
              "      <th>14</th>\n",
              "      <th>15</th>\n",
              "      <th>16</th>\n",
              "      <th>17</th>\n",
              "      <th>18</th>\n",
              "      <th>19</th>\n",
              "      <th>20</th>\n",
              "      <th>21</th>\n",
              "      <th>22</th>\n",
              "      <th>23</th>\n",
              "      <th>24</th>\n",
              "      <th>25</th>\n",
              "      <th>26</th>\n",
              "      <th>27</th>\n",
              "      <th>28</th>\n",
              "      <th>29</th>\n",
              "      <th>30</th>\n",
              "      <th>31</th>\n",
              "      <th>32</th>\n",
              "      <th>33</th>\n",
              "      <th>34</th>\n",
              "      <th>35</th>\n",
              "      <th>36</th>\n",
              "      <th>37</th>\n",
              "      <th>38</th>\n",
              "      <th>39</th>\n",
              "      <th>...</th>\n",
              "      <th>66396</th>\n",
              "      <th>66397</th>\n",
              "      <th>66398</th>\n",
              "      <th>66399</th>\n",
              "      <th>66400</th>\n",
              "      <th>66401</th>\n",
              "      <th>66402</th>\n",
              "      <th>66403</th>\n",
              "      <th>66404</th>\n",
              "      <th>66405</th>\n",
              "      <th>66406</th>\n",
              "      <th>66407</th>\n",
              "      <th>66408</th>\n",
              "      <th>66409</th>\n",
              "      <th>66410</th>\n",
              "      <th>66411</th>\n",
              "      <th>66412</th>\n",
              "      <th>66413</th>\n",
              "      <th>66414</th>\n",
              "      <th>66415</th>\n",
              "      <th>66416</th>\n",
              "      <th>66417</th>\n",
              "      <th>66418</th>\n",
              "      <th>66419</th>\n",
              "      <th>66420</th>\n",
              "      <th>66421</th>\n",
              "      <th>66422</th>\n",
              "      <th>66423</th>\n",
              "      <th>66424</th>\n",
              "      <th>66425</th>\n",
              "      <th>66426</th>\n",
              "      <th>66427</th>\n",
              "      <th>66428</th>\n",
              "      <th>66429</th>\n",
              "      <th>66430</th>\n",
              "      <th>66431</th>\n",
              "      <th>66432</th>\n",
              "      <th>66433</th>\n",
              "      <th>66434</th>\n",
              "      <th>66435</th>\n",
              "    </tr>\n",
              "  </thead>\n",
              "  <tbody>\n",
              "    <tr>\n",
              "      <th>access</th>\n",
              "      <td>0.0</td>\n",
              "      <td>0.0</td>\n",
              "      <td>0.0</td>\n",
              "      <td>0.0</td>\n",
              "      <td>0.0</td>\n",
              "      <td>0.0</td>\n",
              "      <td>0.0</td>\n",
              "      <td>0.0</td>\n",
              "      <td>0.000000</td>\n",
              "      <td>0.0</td>\n",
              "      <td>0.0</td>\n",
              "      <td>0.0</td>\n",
              "      <td>0.0</td>\n",
              "      <td>0.000000</td>\n",
              "      <td>0.0</td>\n",
              "      <td>0.0</td>\n",
              "      <td>0.0</td>\n",
              "      <td>0.0</td>\n",
              "      <td>0.000000</td>\n",
              "      <td>0.0</td>\n",
              "      <td>0.0</td>\n",
              "      <td>0.0</td>\n",
              "      <td>0.0</td>\n",
              "      <td>0.0</td>\n",
              "      <td>0.0</td>\n",
              "      <td>0.0</td>\n",
              "      <td>0.0</td>\n",
              "      <td>0.0</td>\n",
              "      <td>0.0</td>\n",
              "      <td>0.0</td>\n",
              "      <td>0.0</td>\n",
              "      <td>0.0</td>\n",
              "      <td>0.0</td>\n",
              "      <td>0.0</td>\n",
              "      <td>0.0</td>\n",
              "      <td>0.0</td>\n",
              "      <td>0.0</td>\n",
              "      <td>0.0</td>\n",
              "      <td>0.0</td>\n",
              "      <td>0.0</td>\n",
              "      <td>...</td>\n",
              "      <td>0.0</td>\n",
              "      <td>0.0</td>\n",
              "      <td>0.0</td>\n",
              "      <td>0.0</td>\n",
              "      <td>0.0</td>\n",
              "      <td>0.0</td>\n",
              "      <td>0.000000</td>\n",
              "      <td>0.000000</td>\n",
              "      <td>0.0</td>\n",
              "      <td>0.0</td>\n",
              "      <td>0.0</td>\n",
              "      <td>0.0</td>\n",
              "      <td>0.0</td>\n",
              "      <td>0.0</td>\n",
              "      <td>0.0</td>\n",
              "      <td>0.0</td>\n",
              "      <td>0.0</td>\n",
              "      <td>0.0</td>\n",
              "      <td>0.0</td>\n",
              "      <td>0.0</td>\n",
              "      <td>0.0</td>\n",
              "      <td>0.0</td>\n",
              "      <td>0.0</td>\n",
              "      <td>0.0</td>\n",
              "      <td>0.0</td>\n",
              "      <td>0.0</td>\n",
              "      <td>0.0</td>\n",
              "      <td>0.0</td>\n",
              "      <td>0.0</td>\n",
              "      <td>0.0</td>\n",
              "      <td>0.0</td>\n",
              "      <td>0.0</td>\n",
              "      <td>0.0</td>\n",
              "      <td>0.0</td>\n",
              "      <td>0.0</td>\n",
              "      <td>0.0</td>\n",
              "      <td>0.0</td>\n",
              "      <td>0.0</td>\n",
              "      <td>0.000000</td>\n",
              "      <td>0.0</td>\n",
              "    </tr>\n",
              "    <tr>\n",
              "      <th>account</th>\n",
              "      <td>0.0</td>\n",
              "      <td>0.0</td>\n",
              "      <td>0.0</td>\n",
              "      <td>0.0</td>\n",
              "      <td>0.0</td>\n",
              "      <td>0.0</td>\n",
              "      <td>0.0</td>\n",
              "      <td>0.0</td>\n",
              "      <td>0.000000</td>\n",
              "      <td>0.0</td>\n",
              "      <td>0.0</td>\n",
              "      <td>0.0</td>\n",
              "      <td>0.0</td>\n",
              "      <td>0.000000</td>\n",
              "      <td>0.0</td>\n",
              "      <td>0.0</td>\n",
              "      <td>0.0</td>\n",
              "      <td>0.0</td>\n",
              "      <td>0.539424</td>\n",
              "      <td>0.0</td>\n",
              "      <td>0.0</td>\n",
              "      <td>0.0</td>\n",
              "      <td>0.0</td>\n",
              "      <td>0.0</td>\n",
              "      <td>0.0</td>\n",
              "      <td>0.0</td>\n",
              "      <td>0.0</td>\n",
              "      <td>0.0</td>\n",
              "      <td>0.0</td>\n",
              "      <td>0.0</td>\n",
              "      <td>0.0</td>\n",
              "      <td>0.0</td>\n",
              "      <td>0.0</td>\n",
              "      <td>0.0</td>\n",
              "      <td>0.0</td>\n",
              "      <td>0.0</td>\n",
              "      <td>0.0</td>\n",
              "      <td>0.0</td>\n",
              "      <td>0.0</td>\n",
              "      <td>0.0</td>\n",
              "      <td>...</td>\n",
              "      <td>0.0</td>\n",
              "      <td>0.0</td>\n",
              "      <td>0.0</td>\n",
              "      <td>0.0</td>\n",
              "      <td>0.0</td>\n",
              "      <td>0.0</td>\n",
              "      <td>0.000000</td>\n",
              "      <td>0.151162</td>\n",
              "      <td>0.0</td>\n",
              "      <td>0.0</td>\n",
              "      <td>0.0</td>\n",
              "      <td>0.0</td>\n",
              "      <td>0.0</td>\n",
              "      <td>0.0</td>\n",
              "      <td>0.0</td>\n",
              "      <td>0.0</td>\n",
              "      <td>0.0</td>\n",
              "      <td>0.0</td>\n",
              "      <td>0.0</td>\n",
              "      <td>0.0</td>\n",
              "      <td>0.0</td>\n",
              "      <td>0.0</td>\n",
              "      <td>0.0</td>\n",
              "      <td>0.0</td>\n",
              "      <td>0.0</td>\n",
              "      <td>0.0</td>\n",
              "      <td>0.0</td>\n",
              "      <td>0.0</td>\n",
              "      <td>0.0</td>\n",
              "      <td>0.0</td>\n",
              "      <td>0.0</td>\n",
              "      <td>0.0</td>\n",
              "      <td>0.0</td>\n",
              "      <td>0.0</td>\n",
              "      <td>0.0</td>\n",
              "      <td>0.0</td>\n",
              "      <td>0.0</td>\n",
              "      <td>0.0</td>\n",
              "      <td>0.000000</td>\n",
              "      <td>0.0</td>\n",
              "    </tr>\n",
              "    <tr>\n",
              "      <th>accounting</th>\n",
              "      <td>0.0</td>\n",
              "      <td>0.0</td>\n",
              "      <td>0.0</td>\n",
              "      <td>0.0</td>\n",
              "      <td>0.0</td>\n",
              "      <td>0.0</td>\n",
              "      <td>0.0</td>\n",
              "      <td>0.0</td>\n",
              "      <td>0.000000</td>\n",
              "      <td>0.0</td>\n",
              "      <td>0.0</td>\n",
              "      <td>0.0</td>\n",
              "      <td>0.0</td>\n",
              "      <td>0.000000</td>\n",
              "      <td>0.0</td>\n",
              "      <td>0.0</td>\n",
              "      <td>0.0</td>\n",
              "      <td>0.0</td>\n",
              "      <td>0.000000</td>\n",
              "      <td>0.0</td>\n",
              "      <td>0.0</td>\n",
              "      <td>0.0</td>\n",
              "      <td>0.0</td>\n",
              "      <td>0.0</td>\n",
              "      <td>0.0</td>\n",
              "      <td>0.0</td>\n",
              "      <td>0.0</td>\n",
              "      <td>0.0</td>\n",
              "      <td>0.0</td>\n",
              "      <td>0.0</td>\n",
              "      <td>0.0</td>\n",
              "      <td>0.0</td>\n",
              "      <td>0.0</td>\n",
              "      <td>0.0</td>\n",
              "      <td>0.0</td>\n",
              "      <td>0.0</td>\n",
              "      <td>0.0</td>\n",
              "      <td>0.0</td>\n",
              "      <td>0.0</td>\n",
              "      <td>0.0</td>\n",
              "      <td>...</td>\n",
              "      <td>0.0</td>\n",
              "      <td>0.0</td>\n",
              "      <td>0.0</td>\n",
              "      <td>0.0</td>\n",
              "      <td>0.0</td>\n",
              "      <td>0.0</td>\n",
              "      <td>0.000000</td>\n",
              "      <td>0.000000</td>\n",
              "      <td>0.0</td>\n",
              "      <td>0.0</td>\n",
              "      <td>0.0</td>\n",
              "      <td>0.0</td>\n",
              "      <td>0.0</td>\n",
              "      <td>0.0</td>\n",
              "      <td>0.0</td>\n",
              "      <td>0.0</td>\n",
              "      <td>0.0</td>\n",
              "      <td>0.0</td>\n",
              "      <td>0.0</td>\n",
              "      <td>0.0</td>\n",
              "      <td>0.0</td>\n",
              "      <td>0.0</td>\n",
              "      <td>0.0</td>\n",
              "      <td>0.0</td>\n",
              "      <td>0.0</td>\n",
              "      <td>0.0</td>\n",
              "      <td>0.0</td>\n",
              "      <td>0.0</td>\n",
              "      <td>0.0</td>\n",
              "      <td>0.0</td>\n",
              "      <td>0.0</td>\n",
              "      <td>0.0</td>\n",
              "      <td>0.0</td>\n",
              "      <td>0.0</td>\n",
              "      <td>0.0</td>\n",
              "      <td>0.0</td>\n",
              "      <td>0.0</td>\n",
              "      <td>0.0</td>\n",
              "      <td>0.000000</td>\n",
              "      <td>0.0</td>\n",
              "    </tr>\n",
              "    <tr>\n",
              "      <th>across</th>\n",
              "      <td>0.0</td>\n",
              "      <td>0.0</td>\n",
              "      <td>0.0</td>\n",
              "      <td>0.0</td>\n",
              "      <td>0.0</td>\n",
              "      <td>0.0</td>\n",
              "      <td>0.0</td>\n",
              "      <td>0.0</td>\n",
              "      <td>0.000000</td>\n",
              "      <td>0.0</td>\n",
              "      <td>0.0</td>\n",
              "      <td>0.0</td>\n",
              "      <td>0.0</td>\n",
              "      <td>0.000000</td>\n",
              "      <td>0.0</td>\n",
              "      <td>0.0</td>\n",
              "      <td>0.0</td>\n",
              "      <td>0.0</td>\n",
              "      <td>0.000000</td>\n",
              "      <td>0.0</td>\n",
              "      <td>0.0</td>\n",
              "      <td>0.0</td>\n",
              "      <td>0.0</td>\n",
              "      <td>0.0</td>\n",
              "      <td>0.0</td>\n",
              "      <td>0.0</td>\n",
              "      <td>0.0</td>\n",
              "      <td>0.0</td>\n",
              "      <td>0.0</td>\n",
              "      <td>0.0</td>\n",
              "      <td>0.0</td>\n",
              "      <td>0.0</td>\n",
              "      <td>0.0</td>\n",
              "      <td>0.0</td>\n",
              "      <td>0.0</td>\n",
              "      <td>0.0</td>\n",
              "      <td>0.0</td>\n",
              "      <td>0.0</td>\n",
              "      <td>0.0</td>\n",
              "      <td>0.0</td>\n",
              "      <td>...</td>\n",
              "      <td>0.0</td>\n",
              "      <td>0.0</td>\n",
              "      <td>0.0</td>\n",
              "      <td>0.0</td>\n",
              "      <td>0.0</td>\n",
              "      <td>0.0</td>\n",
              "      <td>0.000000</td>\n",
              "      <td>0.000000</td>\n",
              "      <td>0.0</td>\n",
              "      <td>0.0</td>\n",
              "      <td>0.0</td>\n",
              "      <td>0.0</td>\n",
              "      <td>0.0</td>\n",
              "      <td>0.0</td>\n",
              "      <td>0.0</td>\n",
              "      <td>0.0</td>\n",
              "      <td>0.0</td>\n",
              "      <td>0.0</td>\n",
              "      <td>0.0</td>\n",
              "      <td>0.0</td>\n",
              "      <td>0.0</td>\n",
              "      <td>0.0</td>\n",
              "      <td>0.0</td>\n",
              "      <td>0.0</td>\n",
              "      <td>0.0</td>\n",
              "      <td>0.0</td>\n",
              "      <td>0.0</td>\n",
              "      <td>0.0</td>\n",
              "      <td>0.0</td>\n",
              "      <td>0.0</td>\n",
              "      <td>0.0</td>\n",
              "      <td>0.0</td>\n",
              "      <td>0.0</td>\n",
              "      <td>0.0</td>\n",
              "      <td>0.0</td>\n",
              "      <td>0.0</td>\n",
              "      <td>0.0</td>\n",
              "      <td>0.0</td>\n",
              "      <td>0.175915</td>\n",
              "      <td>0.0</td>\n",
              "    </tr>\n",
              "    <tr>\n",
              "      <th>address</th>\n",
              "      <td>0.0</td>\n",
              "      <td>0.0</td>\n",
              "      <td>0.0</td>\n",
              "      <td>0.0</td>\n",
              "      <td>0.0</td>\n",
              "      <td>0.0</td>\n",
              "      <td>0.0</td>\n",
              "      <td>0.0</td>\n",
              "      <td>0.264051</td>\n",
              "      <td>0.0</td>\n",
              "      <td>0.0</td>\n",
              "      <td>0.0</td>\n",
              "      <td>0.0</td>\n",
              "      <td>0.253489</td>\n",
              "      <td>0.0</td>\n",
              "      <td>0.0</td>\n",
              "      <td>0.0</td>\n",
              "      <td>0.0</td>\n",
              "      <td>0.000000</td>\n",
              "      <td>0.0</td>\n",
              "      <td>0.0</td>\n",
              "      <td>0.0</td>\n",
              "      <td>0.0</td>\n",
              "      <td>0.0</td>\n",
              "      <td>0.0</td>\n",
              "      <td>0.0</td>\n",
              "      <td>0.0</td>\n",
              "      <td>0.0</td>\n",
              "      <td>0.0</td>\n",
              "      <td>0.0</td>\n",
              "      <td>0.0</td>\n",
              "      <td>0.0</td>\n",
              "      <td>0.0</td>\n",
              "      <td>0.0</td>\n",
              "      <td>0.0</td>\n",
              "      <td>0.0</td>\n",
              "      <td>0.0</td>\n",
              "      <td>0.0</td>\n",
              "      <td>0.0</td>\n",
              "      <td>0.0</td>\n",
              "      <td>...</td>\n",
              "      <td>0.0</td>\n",
              "      <td>0.0</td>\n",
              "      <td>0.0</td>\n",
              "      <td>0.0</td>\n",
              "      <td>0.0</td>\n",
              "      <td>0.0</td>\n",
              "      <td>0.168158</td>\n",
              "      <td>0.000000</td>\n",
              "      <td>0.0</td>\n",
              "      <td>0.0</td>\n",
              "      <td>0.0</td>\n",
              "      <td>0.0</td>\n",
              "      <td>0.0</td>\n",
              "      <td>0.0</td>\n",
              "      <td>0.0</td>\n",
              "      <td>0.0</td>\n",
              "      <td>0.0</td>\n",
              "      <td>0.0</td>\n",
              "      <td>0.0</td>\n",
              "      <td>0.0</td>\n",
              "      <td>0.0</td>\n",
              "      <td>0.0</td>\n",
              "      <td>0.0</td>\n",
              "      <td>0.0</td>\n",
              "      <td>0.0</td>\n",
              "      <td>0.0</td>\n",
              "      <td>0.0</td>\n",
              "      <td>0.0</td>\n",
              "      <td>0.0</td>\n",
              "      <td>0.0</td>\n",
              "      <td>0.0</td>\n",
              "      <td>0.0</td>\n",
              "      <td>0.0</td>\n",
              "      <td>0.0</td>\n",
              "      <td>0.0</td>\n",
              "      <td>0.0</td>\n",
              "      <td>0.0</td>\n",
              "      <td>0.0</td>\n",
              "      <td>0.000000</td>\n",
              "      <td>0.0</td>\n",
              "    </tr>\n",
              "  </tbody>\n",
              "</table>\n",
              "<p>5 rows × 66436 columns</p>\n",
              "</div>"
            ],
            "text/plain": [
              "            0      1      2      3      ...  66432  66433     66434  66435\n",
              "access        0.0    0.0    0.0    0.0  ...    0.0    0.0  0.000000    0.0\n",
              "account       0.0    0.0    0.0    0.0  ...    0.0    0.0  0.000000    0.0\n",
              "accounting    0.0    0.0    0.0    0.0  ...    0.0    0.0  0.000000    0.0\n",
              "across        0.0    0.0    0.0    0.0  ...    0.0    0.0  0.175915    0.0\n",
              "address       0.0    0.0    0.0    0.0  ...    0.0    0.0  0.000000    0.0\n",
              "\n",
              "[5 rows x 66436 columns]"
            ]
          },
          "metadata": {
            "tags": []
          },
          "execution_count": 70
        }
      ]
    },
    {
      "cell_type": "code",
      "metadata": {
        "colab": {
          "base_uri": "https://localhost:8080/"
        },
        "id": "LSvh6ovER_3Z",
        "outputId": "12ec14b5-99be-4338-c527-a484e8892372"
      },
      "source": [
        "d0.T.sum(axis=1)"
      ],
      "execution_count": 87,
      "outputs": [
        {
          "output_type": "execute_result",
          "data": {
            "text/plain": [
              "access         237.786977\n",
              "account        295.369995\n",
              "accounting     255.139581\n",
              "across         186.650789\n",
              "address        297.344397\n",
              "                 ...     \n",
              "work          1006.051698\n",
              "working        275.334481\n",
              "world          499.295840\n",
              "year           752.171032\n",
              "you            159.257603\n",
              "Length: 444, dtype: float64"
            ]
          },
          "metadata": {
            "tags": []
          },
          "execution_count": 87
        }
      ]
    },
    {
      "cell_type": "code",
      "metadata": {
        "colab": {
          "base_uri": "https://localhost:8080/",
          "height": 319
        },
        "id": "ZDdebZuCGxz8",
        "outputId": "5b502696-e8d8-4418-fe83-a465e24f1a8e"
      },
      "source": [
        "wordcloud = WordCloud(background_color=\"white\", max_words=50).generate_from_frequencies(d0.T.sum(axis=1))\n",
        "plt.imshow(wordcloud)"
      ],
      "execution_count": 88,
      "outputs": [
        {
          "output_type": "execute_result",
          "data": {
            "text/plain": [
              "<matplotlib.image.AxesImage at 0x7f2985f9d490>"
            ]
          },
          "metadata": {
            "tags": []
          },
          "execution_count": 88
        },
        {
          "output_type": "display_data",
          "data": {
            "image/png": "[encoded data removed]",
            "text/plain": [
              "<Figure size 576x396 with 1 Axes>"
            ]
          },
          "metadata": {
            "tags": []
          }
        }
      ]
    },
    {
      "cell_type": "code",
      "metadata": {
        "id": "dg75z1p9LtMO"
      },
      "source": [
        ""
      ],
      "execution_count": null,
      "outputs": []
    }
  ]
}