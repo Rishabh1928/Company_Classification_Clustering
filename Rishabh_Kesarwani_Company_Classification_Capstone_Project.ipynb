{
  "nbformat": 4,
  "nbformat_minor": 0,
  "metadata": {
    "colab": {
      "name": "Rishabh Kesarwani - Company Classification - Capstone Project.ipynb",
      "provenance": [],
      "collapsed_sections": [],
      "mount_file_id": "1hSlLG3u4CEb6Ev1wW4ggiItXkVAh5985",
      "authorship_tag": "ABX9TyO8cpL8Z/VDfOlsJqg5/OQU",
      "include_colab_link": true
    },
    "kernelspec": {
      "name": "python3",
      "display_name": "Python 3"
    },
    "language_info": {
      "name": "python"
    }
  },
  "cells": [
    {
      "cell_type": "markdown",
      "metadata": {
        "id": "view-in-github",
        "colab_type": "text"
      },
      "source": [
        "<a href=\"https://colab.research.google.com/github/Rishabh1928/Company_Classification_Clustering/blob/main/Rishabh_Kesarwani_Company_Classification_Capstone_Project.ipynb\" target=\"_parent\"><img src=\"https://colab.research.google.com/assets/colab-badge.svg\" alt=\"Open In Colab\"/></a>"
      ]
    },
    {
      "cell_type": "markdown",
      "metadata": {
        "id": "2QBqK7tmBtr8"
      },
      "source": [
        "##**Problem Statement :**\n",
        "\n",
        "Classify businesses and companies across a standard taxonomy.\n",
        "\n",
        "This dataset comes with pre-classified companies along with data from the website.\n",
        "\n",
        "The main objective is to cluster companies based on their description on the website."
      ]
    },
    {
      "cell_type": "markdown",
      "metadata": {
        "id": "WjD63U15DXtc"
      },
      "source": [
        "###**Overview of columns in the dataset :**"
      ]
    },
    {
      "cell_type": "markdown",
      "metadata": {
        "id": "gtzJtJ0jDkH2"
      },
      "source": [
        "1. website: The website of the company/business\n",
        "2. company_name: The company/business name\n",
        "3. homepage_text : Visible homepage text\n",
        "4. h1: The heading 1 tags from the html of the home page\n",
        "5. h2: The heading 2 tags from the html of the home page\n",
        "6. h3: The heading 3 tags from the html of the home page\n",
        "7. navlinktext: The visible titles of navigation links on the homepage (Ex: Home, Services,\n",
        "Product, About Us, Contact Us)\n",
        "8. metakeywords: The meta keywords in the header of the page html for SEO (More info:\n",
        "https://www.w3schools.com/tags/tag_meta.asp)\n",
        "9. metadescription: The meta description in the header of the page html for SEO (More info:\n",
        "https://www.w3schools.com/tags/tag_meta.asp)"
      ]
    },
    {
      "cell_type": "code",
      "metadata": {
        "id": "SJNsG5HJAlBt"
      },
      "source": [
        "# Loading the basic dependencies\n",
        "\n",
        "import numpy as np\n",
        "import pandas as pd\n",
        "import matplotlib.pyplot as plt\n",
        "import seaborn as sns"
      ],
      "execution_count": 2,
      "outputs": []
    },
    {
      "cell_type": "code",
      "metadata": {
        "id": "Utj0fnp2ES44"
      },
      "source": [
        "# Loading data\n",
        "\n",
        "file_path = \"/content/drive/MyDrive/Almabetter/Capstone Project 2 (Company Classification)/DATA/data_company_classification.csv\"\n",
        "df = pd.read_csv(file_path)"
      ],
      "execution_count": 30,
      "outputs": []
    },
    {
      "cell_type": "markdown",
      "metadata": {
        "id": "Z8AsWNWXGT7k"
      },
      "source": [
        "**Basic Inspection**"
      ]
    },
    {
      "cell_type": "code",
      "metadata": {
        "colab": {
          "base_uri": "https://localhost:8080/",
          "height": 425
        },
        "id": "ibdyIVRPF_ml",
        "outputId": "20817db7-f967-4e7f-ec32-417d73f50e89"
      },
      "source": [
        "# Checking head of df\n",
        "\n",
        "df.head()"
      ],
      "execution_count": 4,
      "outputs": [
        {
          "output_type": "execute_result",
          "data": {
            "text/html": [
              "<div>\n",
              "<style scoped>\n",
              "    .dataframe tbody tr th:only-of-type {\n",
              "        vertical-align: middle;\n",
              "    }\n",
              "\n",
              "    .dataframe tbody tr th {\n",
              "        vertical-align: top;\n",
              "    }\n",
              "\n",
              "    .dataframe thead th {\n",
              "        text-align: right;\n",
              "    }\n",
              "</style>\n",
              "<table border=\"1\" class=\"dataframe\">\n",
              "  <thead>\n",
              "    <tr style=\"text-align: right;\">\n",
              "      <th></th>\n",
              "      <th>website</th>\n",
              "      <th>company_name</th>\n",
              "      <th>homepage_text</th>\n",
              "      <th>h1</th>\n",
              "      <th>h2</th>\n",
              "      <th>h3</th>\n",
              "      <th>nav_link_text</th>\n",
              "      <th>meta_keywords</th>\n",
              "      <th>meta_description</th>\n",
              "    </tr>\n",
              "  </thead>\n",
              "  <tbody>\n",
              "    <tr>\n",
              "      <th>0</th>\n",
              "      <td>bipelectric.com</td>\n",
              "      <td>bip dipietro electric inc</td>\n",
              "      <td>Electrici...</td>\n",
              "      <td>NaN</td>\n",
              "      <td>NaN</td>\n",
              "      <td>NaN</td>\n",
              "      <td>NaN</td>\n",
              "      <td>electricians vero beach, vero beach electrical...</td>\n",
              "      <td>Providing quality, reliable full service resid...</td>\n",
              "    </tr>\n",
              "    <tr>\n",
              "      <th>1</th>\n",
              "      <td>eliasmedical.com</td>\n",
              "      <td>elias medical</td>\n",
              "      <td>site map | en español    Elias Medical   h...</td>\n",
              "      <td>Offering Bakersfield family medical care from ...</td>\n",
              "      <td>Welcome to ELIAS MEDICAL#sep#Family Medical Pr...</td>\n",
              "      <td>Get To Know Elias Medical#sep#Family Medical P...</td>\n",
              "      <td>NaN</td>\n",
              "      <td>Elias Medical bakersfield ca family doctor med...</td>\n",
              "      <td>For the best value in Bakersfield skin care tr...</td>\n",
              "    </tr>\n",
              "    <tr>\n",
              "      <th>2</th>\n",
              "      <td>koopsoverheaddoors.com</td>\n",
              "      <td>koops overhead doors</td>\n",
              "      <td>Home  About Us  Garage Door Repair &amp; Servi...</td>\n",
              "      <td>NaN</td>\n",
              "      <td>Customer Reviews#sep#Welcome to Koops Overhead...</td>\n",
              "      <td>NaN</td>\n",
              "      <td>NaN</td>\n",
              "      <td>Koops Overhead Doors, Albany Garage Doors, Tro...</td>\n",
              "      <td>Koops Overhead Doors specializes in the sales,...</td>\n",
              "    </tr>\n",
              "    <tr>\n",
              "      <th>3</th>\n",
              "      <td>midtowneyes.com</td>\n",
              "      <td>midtown eyecare</td>\n",
              "      <td>918-599-0202        Type Size...</td>\n",
              "      <td>NaN</td>\n",
              "      <td>Welcome to our practice!</td>\n",
              "      <td>NaN</td>\n",
              "      <td>NaN</td>\n",
              "      <td>NaN</td>\n",
              "      <td>We would like to welcome you to Midtown Eyecar...</td>\n",
              "    </tr>\n",
              "    <tr>\n",
              "      <th>4</th>\n",
              "      <td>reprosecurity.co.uk</td>\n",
              "      <td>repro security ltd</td>\n",
              "      <td>Simply fill out our form below...</td>\n",
              "      <td>NaN</td>\n",
              "      <td>Welcome to REPRO SECURITY Ltd</td>\n",
              "      <td>NaN</td>\n",
              "      <td>NaN</td>\n",
              "      <td>NaN</td>\n",
              "      <td>Repro Security provide a range of tailor made ...</td>\n",
              "    </tr>\n",
              "  </tbody>\n",
              "</table>\n",
              "</div>"
            ],
            "text/plain": [
              "                  website  ...                                   meta_description\n",
              "0         bipelectric.com  ...  Providing quality, reliable full service resid...\n",
              "1        eliasmedical.com  ...  For the best value in Bakersfield skin care tr...\n",
              "2  koopsoverheaddoors.com  ...  Koops Overhead Doors specializes in the sales,...\n",
              "3         midtowneyes.com  ...  We would like to welcome you to Midtown Eyecar...\n",
              "4     reprosecurity.co.uk  ...  Repro Security provide a range of tailor made ...\n",
              "\n",
              "[5 rows x 9 columns]"
            ]
          },
          "metadata": {
            "tags": []
          },
          "execution_count": 4
        }
      ]
    },
    {
      "cell_type": "code",
      "metadata": {
        "colab": {
          "base_uri": "https://localhost:8080/"
        },
        "id": "Q90Jau5nGH8J",
        "outputId": "c8a3e5b7-56d6-4b3a-8020-be5e9e3da41d"
      },
      "source": [
        "df.info()"
      ],
      "execution_count": 6,
      "outputs": [
        {
          "output_type": "stream",
          "text": [
            "<class 'pandas.core.frame.DataFrame'>\n",
            "RangeIndex: 73974 entries, 0 to 73973\n",
            "Data columns (total 9 columns):\n",
            " #   Column            Non-Null Count  Dtype \n",
            "---  ------            --------------  ----- \n",
            " 0   website           73974 non-null  object\n",
            " 1   company_name      73974 non-null  object\n",
            " 2   homepage_text     73305 non-null  object\n",
            " 3   h1                46653 non-null  object\n",
            " 4   h2                53212 non-null  object\n",
            " 5   h3                44659 non-null  object\n",
            " 6   nav_link_text     48050 non-null  object\n",
            " 7   meta_keywords     23672 non-null  object\n",
            " 8   meta_description  66886 non-null  object\n",
            "dtypes: object(9)\n",
            "memory usage: 5.1+ MB\n"
          ],
          "name": "stdout"
        }
      ]
    },
    {
      "cell_type": "code",
      "metadata": {
        "colab": {
          "base_uri": "https://localhost:8080/"
        },
        "id": "2x83_LwlGY5o",
        "outputId": "c3c89348-e2f7-43d4-bc84-6b1c4030a7f6"
      },
      "source": [
        "df.shape"
      ],
      "execution_count": 7,
      "outputs": [
        {
          "output_type": "execute_result",
          "data": {
            "text/plain": [
              "(73974, 9)"
            ]
          },
          "metadata": {
            "tags": []
          },
          "execution_count": 7
        }
      ]
    },
    {
      "cell_type": "markdown",
      "metadata": {
        "id": "sQxSJXloNuZO"
      },
      "source": [
        "`I need to takecare for headers, so I will be doing most of the things on h1 , h2 & h3`"
      ]
    },
    {
      "cell_type": "code",
      "metadata": {
        "colab": {
          "base_uri": "https://localhost:8080/"
        },
        "id": "P-cjJwvcMG6s",
        "outputId": "4940e273-9621-451a-9f9d-72b6406cafc5"
      },
      "source": [
        "df.h1.describe()"
      ],
      "execution_count": 8,
      "outputs": [
        {
          "output_type": "execute_result",
          "data": {
            "text/plain": [
              "count     46653\n",
              "unique    44133\n",
              "top        Home\n",
              "freq        630\n",
              "Name: h1, dtype: object"
            ]
          },
          "metadata": {
            "tags": []
          },
          "execution_count": 8
        }
      ]
    },
    {
      "cell_type": "code",
      "metadata": {
        "colab": {
          "base_uri": "https://localhost:8080/"
        },
        "id": "yKRRnTvSNaUd",
        "outputId": "ca217166-2d17-4839-a51a-27f74ba2e62f"
      },
      "source": [
        "df.h2.describe()"
      ],
      "execution_count": 9,
      "outputs": [
        {
          "output_type": "execute_result",
          "data": {
            "text/plain": [
              "count                                                 53212\n",
              "unique                                                50732\n",
              "top       Follow Us:and share our news...#sep#UK.COM Awa...\n",
              "freq                                                    107\n",
              "Name: h2, dtype: object"
            ]
          },
          "metadata": {
            "tags": []
          },
          "execution_count": 9
        }
      ]
    },
    {
      "cell_type": "code",
      "metadata": {
        "colab": {
          "base_uri": "https://localhost:8080/"
        },
        "id": "T-J4atG8Nfug",
        "outputId": "8ef76124-ba7b-452d-bdfe-0ac64f81d234"
      },
      "source": [
        "df.h3.describe()"
      ],
      "execution_count": 10,
      "outputs": [
        {
          "output_type": "execute_result",
          "data": {
            "text/plain": [
              "count                                                 44659\n",
              "unique                                                42130\n",
              "top       Safe Payments By Adyen#sep#Fast Domain Transfe...\n",
              "freq                                                    117\n",
              "Name: h3, dtype: object"
            ]
          },
          "metadata": {
            "tags": []
          },
          "execution_count": 10
        }
      ]
    },
    {
      "cell_type": "code",
      "metadata": {
        "id": "T7USbGYiNp0s"
      },
      "source": [
        "# Constructing a df that will have headers only! (Will take company name as well for any reference)\n",
        "\n",
        "df_headers = df[[\"company_name\" , \"h1\" , \"h2\" , \"h3\"]]"
      ],
      "execution_count": 38,
      "outputs": []
    },
    {
      "cell_type": "code",
      "metadata": {
        "colab": {
          "base_uri": "https://localhost:8080/",
          "height": 204
        },
        "id": "WAG46C_HOcoW",
        "outputId": "6cc66ef4-256c-4cb3-ed04-a8a689013537"
      },
      "source": [
        "df_headers.head()"
      ],
      "execution_count": 15,
      "outputs": [
        {
          "output_type": "execute_result",
          "data": {
            "text/html": [
              "<div>\n",
              "<style scoped>\n",
              "    .dataframe tbody tr th:only-of-type {\n",
              "        vertical-align: middle;\n",
              "    }\n",
              "\n",
              "    .dataframe tbody tr th {\n",
              "        vertical-align: top;\n",
              "    }\n",
              "\n",
              "    .dataframe thead th {\n",
              "        text-align: right;\n",
              "    }\n",
              "</style>\n",
              "<table border=\"1\" class=\"dataframe\">\n",
              "  <thead>\n",
              "    <tr style=\"text-align: right;\">\n",
              "      <th></th>\n",
              "      <th>company_name</th>\n",
              "      <th>h1</th>\n",
              "      <th>h2</th>\n",
              "      <th>h3</th>\n",
              "    </tr>\n",
              "  </thead>\n",
              "  <tbody>\n",
              "    <tr>\n",
              "      <th>0</th>\n",
              "      <td>bip dipietro electric inc</td>\n",
              "      <td>NaN</td>\n",
              "      <td>NaN</td>\n",
              "      <td>NaN</td>\n",
              "    </tr>\n",
              "    <tr>\n",
              "      <th>1</th>\n",
              "      <td>elias medical</td>\n",
              "      <td>Offering Bakersfield family medical care from ...</td>\n",
              "      <td>Welcome to ELIAS MEDICAL#sep#Family Medical Pr...</td>\n",
              "      <td>Get To Know Elias Medical#sep#Family Medical P...</td>\n",
              "    </tr>\n",
              "    <tr>\n",
              "      <th>2</th>\n",
              "      <td>koops overhead doors</td>\n",
              "      <td>NaN</td>\n",
              "      <td>Customer Reviews#sep#Welcome to Koops Overhead...</td>\n",
              "      <td>NaN</td>\n",
              "    </tr>\n",
              "    <tr>\n",
              "      <th>3</th>\n",
              "      <td>midtown eyecare</td>\n",
              "      <td>NaN</td>\n",
              "      <td>Welcome to our practice!</td>\n",
              "      <td>NaN</td>\n",
              "    </tr>\n",
              "    <tr>\n",
              "      <th>4</th>\n",
              "      <td>repro security ltd</td>\n",
              "      <td>NaN</td>\n",
              "      <td>Welcome to REPRO SECURITY Ltd</td>\n",
              "      <td>NaN</td>\n",
              "    </tr>\n",
              "  </tbody>\n",
              "</table>\n",
              "</div>"
            ],
            "text/plain": [
              "                company_name  ...                                                 h3\n",
              "0  bip dipietro electric inc  ...                                                NaN\n",
              "1              elias medical  ...  Get To Know Elias Medical#sep#Family Medical P...\n",
              "2       koops overhead doors  ...                                                NaN\n",
              "3            midtown eyecare  ...                                                NaN\n",
              "4         repro security ltd  ...                                                NaN\n",
              "\n",
              "[5 rows x 4 columns]"
            ]
          },
          "metadata": {
            "tags": []
          },
          "execution_count": 15
        }
      ]
    },
    {
      "cell_type": "code",
      "metadata": {
        "colab": {
          "base_uri": "https://localhost:8080/"
        },
        "id": "wKT_HV4oPh7F",
        "outputId": "4f762ea3-f075-4299-d3ca-ae5be54400b7"
      },
      "source": [
        "df_headers.info()"
      ],
      "execution_count": 17,
      "outputs": [
        {
          "output_type": "stream",
          "text": [
            "<class 'pandas.core.frame.DataFrame'>\n",
            "RangeIndex: 73974 entries, 0 to 73973\n",
            "Data columns (total 4 columns):\n",
            " #   Column        Non-Null Count  Dtype \n",
            "---  ------        --------------  ----- \n",
            " 0   company_name  73974 non-null  object\n",
            " 1   h1            46653 non-null  object\n",
            " 2   h2            53212 non-null  object\n",
            " 3   h3            44659 non-null  object\n",
            "dtypes: object(4)\n",
            "memory usage: 2.3+ MB\n"
          ],
          "name": "stdout"
        }
      ]
    },
    {
      "cell_type": "code",
      "metadata": {
        "colab": {
          "base_uri": "https://localhost:8080/"
        },
        "id": "v_-zF2QHRuv6",
        "outputId": "b6aec1de-d58c-4da2-f0b6-e150b7ae5df5"
      },
      "source": [
        "df_headers.shape"
      ],
      "execution_count": 23,
      "outputs": [
        {
          "output_type": "execute_result",
          "data": {
            "text/plain": [
              "(73974, 4)"
            ]
          },
          "metadata": {
            "tags": []
          },
          "execution_count": 23
        }
      ]
    },
    {
      "cell_type": "code",
      "metadata": {
        "colab": {
          "base_uri": "https://localhost:8080/"
        },
        "id": "RFX05TjSPHJR",
        "outputId": "fbdbaa3a-75dc-4b2a-d8d9-1b8bf55f61b7"
      },
      "source": [
        "# Null values in header h1\n",
        "\n",
        "print(\"Count of null values in h1:\" , df_headers[\"h1\"].isnull().sum())\n",
        "\n",
        "# Percentage of null values for h1\n",
        "\n",
        "print(\"Percentage of null values in h1: \" , round(df_headers[\"h1\"].isnull().sum() / df_headers.shape[0] * 100 , 2))"
      ],
      "execution_count": 26,
      "outputs": [
        {
          "output_type": "stream",
          "text": [
            "Count of null values in h1: 27321\n",
            "Percentage of null values in h1:  36.93\n"
          ],
          "name": "stdout"
        }
      ]
    },
    {
      "cell_type": "code",
      "metadata": {
        "colab": {
          "base_uri": "https://localhost:8080/"
        },
        "id": "BvrGcWBzPc12",
        "outputId": "a9893843-1aeb-491d-d0bb-c9df06cf6d2e"
      },
      "source": [
        "# Null values in header h2\n",
        "\n",
        "print(\"Count of null values in h2:\" , df_headers[\"h2\"].isnull().sum())\n",
        "\n",
        "# Percentage of null values for h2\n",
        "\n",
        "print(\"Percentage of null values in h2: \" , round(df_headers[\"h2\"].isnull().sum() / df_headers.shape[0] * 100 , 2))"
      ],
      "execution_count": 27,
      "outputs": [
        {
          "output_type": "stream",
          "text": [
            "Count of null values in h2: 20762\n",
            "Percentage of null values in h2:  28.07\n"
          ],
          "name": "stdout"
        }
      ]
    },
    {
      "cell_type": "code",
      "metadata": {
        "colab": {
          "base_uri": "https://localhost:8080/"
        },
        "id": "BYFIasKWSjva",
        "outputId": "74a38485-b73e-44f9-cb38-9a30690447ad"
      },
      "source": [
        "# Null values in header h3\n",
        "\n",
        "print(\"Count of null values in h3:\" , df_headers[\"h3\"].isnull().sum())\n",
        "\n",
        "# Percentage of null values for h3\n",
        "\n",
        "print(\"Percentage of null values in h3: \" , round(df_headers[\"h3\"].isnull().sum() / df_headers.shape[0] * 100 , 2))"
      ],
      "execution_count": 28,
      "outputs": [
        {
          "output_type": "stream",
          "text": [
            "Count of null values in h3: 29315\n",
            "Percentage of null values in h3:  39.63\n"
          ],
          "name": "stdout"
        }
      ]
    },
    {
      "cell_type": "markdown",
      "metadata": {
        "id": "awpn7m1TR-Px"
      },
      "source": [
        "*It's like loosing too much information if we opt for dropping null values!!*"
      ]
    },
    {
      "cell_type": "markdown",
      "metadata": {
        "id": "O2AxGHFAY_LI"
      },
      "source": [
        "**Let's combine h1 , h2 & h3 and then check for null..**"
      ]
    },
    {
      "cell_type": "code",
      "metadata": {
        "id": "fQxwtxZ3fR2m"
      },
      "source": [
        "# Replacing null values with empty string (so that when we combine header, it won't screw up because of NaN)\n",
        "\n",
        "df_headers = df_headers.fillna(\" \")"
      ],
      "execution_count": 39,
      "outputs": []
    },
    {
      "cell_type": "code",
      "metadata": {
        "colab": {
          "base_uri": "https://localhost:8080/",
          "height": 340
        },
        "id": "sd3wJX_vgjc4",
        "outputId": "671307b5-6817-45aa-b85a-fce9a487253e"
      },
      "source": [
        "df_headers.head()"
      ],
      "execution_count": 40,
      "outputs": [
        {
          "output_type": "execute_result",
          "data": {
            "text/html": [
              "<div>\n",
              "<style scoped>\n",
              "    .dataframe tbody tr th:only-of-type {\n",
              "        vertical-align: middle;\n",
              "    }\n",
              "\n",
              "    .dataframe tbody tr th {\n",
              "        vertical-align: top;\n",
              "    }\n",
              "\n",
              "    .dataframe thead th {\n",
              "        text-align: right;\n",
              "    }\n",
              "</style>\n",
              "<table border=\"1\" class=\"dataframe\">\n",
              "  <thead>\n",
              "    <tr style=\"text-align: right;\">\n",
              "      <th></th>\n",
              "      <th>company_name</th>\n",
              "      <th>h1</th>\n",
              "      <th>h2</th>\n",
              "      <th>h3</th>\n",
              "    </tr>\n",
              "  </thead>\n",
              "  <tbody>\n",
              "    <tr>\n",
              "      <th>0</th>\n",
              "      <td>bip dipietro electric inc</td>\n",
              "      <td></td>\n",
              "      <td></td>\n",
              "      <td></td>\n",
              "    </tr>\n",
              "    <tr>\n",
              "      <th>1</th>\n",
              "      <td>elias medical</td>\n",
              "      <td>Offering Bakersfield family medical care from pediatrics to geriatrics. Also offering skin care including Botox, Laser skin treatments and more.#sep#Elias Medical</td>\n",
              "      <td>Welcome to ELIAS MEDICAL#sep#Family Medical Practice#sep#SKIN CARE#sep#Schedule a Consultation\\n661.663.0300</td>\n",
              "      <td>Get To Know Elias Medical#sep#Family Medical Practice#sep#Consultations#sep#Skin Care</td>\n",
              "    </tr>\n",
              "    <tr>\n",
              "      <th>2</th>\n",
              "      <td>koops overhead doors</td>\n",
              "      <td></td>\n",
              "      <td>Customer Reviews#sep#Welcome to Koops Overhead Doors!</td>\n",
              "      <td></td>\n",
              "    </tr>\n",
              "    <tr>\n",
              "      <th>3</th>\n",
              "      <td>midtown eyecare</td>\n",
              "      <td></td>\n",
              "      <td>Welcome to our practice!</td>\n",
              "      <td></td>\n",
              "    </tr>\n",
              "    <tr>\n",
              "      <th>4</th>\n",
              "      <td>repro security ltd</td>\n",
              "      <td></td>\n",
              "      <td>Welcome to REPRO SECURITY Ltd</td>\n",
              "      <td></td>\n",
              "    </tr>\n",
              "  </tbody>\n",
              "</table>\n",
              "</div>"
            ],
            "text/plain": [
              "                company_name  ...                                                                                     h3\n",
              "0  bip dipietro electric inc  ...                                                                                       \n",
              "1  elias medical              ...  Get To Know Elias Medical#sep#Family Medical Practice#sep#Consultations#sep#Skin Care\n",
              "2  koops overhead doors       ...                                                                                       \n",
              "3  midtown eyecare            ...                                                                                       \n",
              "4  repro security ltd         ...                                                                                       \n",
              "\n",
              "[5 rows x 4 columns]"
            ]
          },
          "metadata": {
            "tags": []
          },
          "execution_count": 40
        }
      ]
    },
    {
      "cell_type": "code",
      "metadata": {
        "id": "TeRMeBV6Sfr-"
      },
      "source": [
        "# Merging h1 , h2 & h3\n",
        "\n",
        "df_headers[\"headers\"] = df_headers[\"h1\"] + \" \" + df_headers[\"h2\"] + \" \" + df_headers[\"h3\"]"
      ],
      "execution_count": 41,
      "outputs": []
    },
    {
      "cell_type": "code",
      "metadata": {
        "colab": {
          "base_uri": "https://localhost:8080/"
        },
        "id": "5kCAPgvKeaud",
        "outputId": "9572ab34-cbf6-4f8e-dc06-a3fcd7af33f1"
      },
      "source": [
        "pd.set_option(\"display.max_colwidth\" , -1)"
      ],
      "execution_count": 33,
      "outputs": [
        {
          "output_type": "stream",
          "text": [
            "/usr/local/lib/python3.7/dist-packages/ipykernel_launcher.py:1: FutureWarning: Passing a negative integer is deprecated in version 1.0 and will not be supported in future version. Instead, use None to not limit the column width.\n",
            "  \"\"\"Entry point for launching an IPython kernel.\n"
          ],
          "name": "stderr"
        }
      ]
    },
    {
      "cell_type": "code",
      "metadata": {
        "colab": {
          "base_uri": "https://localhost:8080/",
          "height": 391
        },
        "id": "8kRiZh3oa0Rp",
        "outputId": "16c5c2e4-9eea-4a8b-8b6c-9335aa00692f"
      },
      "source": [
        "df_headers.head()"
      ],
      "execution_count": 42,
      "outputs": [
        {
          "output_type": "execute_result",
          "data": {
            "text/html": [
              "<div>\n",
              "<style scoped>\n",
              "    .dataframe tbody tr th:only-of-type {\n",
              "        vertical-align: middle;\n",
              "    }\n",
              "\n",
              "    .dataframe tbody tr th {\n",
              "        vertical-align: top;\n",
              "    }\n",
              "\n",
              "    .dataframe thead th {\n",
              "        text-align: right;\n",
              "    }\n",
              "</style>\n",
              "<table border=\"1\" class=\"dataframe\">\n",
              "  <thead>\n",
              "    <tr style=\"text-align: right;\">\n",
              "      <th></th>\n",
              "      <th>company_name</th>\n",
              "      <th>h1</th>\n",
              "      <th>h2</th>\n",
              "      <th>h3</th>\n",
              "      <th>headers</th>\n",
              "    </tr>\n",
              "  </thead>\n",
              "  <tbody>\n",
              "    <tr>\n",
              "      <th>0</th>\n",
              "      <td>bip dipietro electric inc</td>\n",
              "      <td></td>\n",
              "      <td></td>\n",
              "      <td></td>\n",
              "      <td></td>\n",
              "    </tr>\n",
              "    <tr>\n",
              "      <th>1</th>\n",
              "      <td>elias medical</td>\n",
              "      <td>Offering Bakersfield family medical care from pediatrics to geriatrics. Also offering skin care including Botox, Laser skin treatments and more.#sep#Elias Medical</td>\n",
              "      <td>Welcome to ELIAS MEDICAL#sep#Family Medical Practice#sep#SKIN CARE#sep#Schedule a Consultation\\n661.663.0300</td>\n",
              "      <td>Get To Know Elias Medical#sep#Family Medical Practice#sep#Consultations#sep#Skin Care</td>\n",
              "      <td>Offering Bakersfield family medical care from pediatrics to geriatrics. Also offering skin care including Botox, Laser skin treatments and more.#sep#Elias Medical Welcome to ELIAS MEDICAL#sep#Family Medical Practice#sep#SKIN CARE#sep#Schedule a Consultation\\n661.663.0300 Get To Know Elias Medical#sep#Family Medical Practice#sep#Consultations#sep#Skin Care</td>\n",
              "    </tr>\n",
              "    <tr>\n",
              "      <th>2</th>\n",
              "      <td>koops overhead doors</td>\n",
              "      <td></td>\n",
              "      <td>Customer Reviews#sep#Welcome to Koops Overhead Doors!</td>\n",
              "      <td></td>\n",
              "      <td>Customer Reviews#sep#Welcome to Koops Overhead Doors!</td>\n",
              "    </tr>\n",
              "    <tr>\n",
              "      <th>3</th>\n",
              "      <td>midtown eyecare</td>\n",
              "      <td></td>\n",
              "      <td>Welcome to our practice!</td>\n",
              "      <td></td>\n",
              "      <td>Welcome to our practice!</td>\n",
              "    </tr>\n",
              "    <tr>\n",
              "      <th>4</th>\n",
              "      <td>repro security ltd</td>\n",
              "      <td></td>\n",
              "      <td>Welcome to REPRO SECURITY Ltd</td>\n",
              "      <td></td>\n",
              "      <td>Welcome to REPRO SECURITY Ltd</td>\n",
              "    </tr>\n",
              "  </tbody>\n",
              "</table>\n",
              "</div>"
            ],
            "text/plain": [
              "                company_name  ...                                                                                                                                                                                                                                                                                                                                                                headers\n",
              "0  bip dipietro electric inc  ...                                                                                                                                                                                                                                                                                                                                                                       \n",
              "1  elias medical              ...  Offering Bakersfield family medical care from pediatrics to geriatrics. Also offering skin care including Botox, Laser skin treatments and more.#sep#Elias Medical Welcome to ELIAS MEDICAL#sep#Family Medical Practice#sep#SKIN CARE#sep#Schedule a Consultation\\n661.663.0300 Get To Know Elias Medical#sep#Family Medical Practice#sep#Consultations#sep#Skin Care\n",
              "2  koops overhead doors       ...    Customer Reviews#sep#Welcome to Koops Overhead Doors!                                                                                                                                                                                                                                                                                                              \n",
              "3  midtown eyecare            ...    Welcome to our practice!                                                                                                                                                                                                                                                                                                                                           \n",
              "4  repro security ltd         ...    Welcome to REPRO SECURITY Ltd                                                                                                                                                                                                                                                                                                                                      \n",
              "\n",
              "[5 rows x 5 columns]"
            ]
          },
          "metadata": {
            "tags": []
          },
          "execution_count": 42
        }
      ]
    },
    {
      "cell_type": "code",
      "metadata": {
        "id": "fFWeH1VdbIm9"
      },
      "source": [
        "# Now, dropping h1 , h2 & h3\n",
        "\n",
        "df_headers.drop([\"h1\" , \"h2\" , \"h3\"] , axis = 1 , inplace=True)"
      ],
      "execution_count": 44,
      "outputs": []
    },
    {
      "cell_type": "code",
      "metadata": {
        "colab": {
          "base_uri": "https://localhost:8080/",
          "height": 323
        },
        "id": "U2LXD-qZhitE",
        "outputId": "f5bdb943-7a5c-4134-cb01-7bb8eb826e11"
      },
      "source": [
        "df_headers.head()"
      ],
      "execution_count": 45,
      "outputs": [
        {
          "output_type": "execute_result",
          "data": {
            "text/html": [
              "<div>\n",
              "<style scoped>\n",
              "    .dataframe tbody tr th:only-of-type {\n",
              "        vertical-align: middle;\n",
              "    }\n",
              "\n",
              "    .dataframe tbody tr th {\n",
              "        vertical-align: top;\n",
              "    }\n",
              "\n",
              "    .dataframe thead th {\n",
              "        text-align: right;\n",
              "    }\n",
              "</style>\n",
              "<table border=\"1\" class=\"dataframe\">\n",
              "  <thead>\n",
              "    <tr style=\"text-align: right;\">\n",
              "      <th></th>\n",
              "      <th>company_name</th>\n",
              "      <th>headers</th>\n",
              "    </tr>\n",
              "  </thead>\n",
              "  <tbody>\n",
              "    <tr>\n",
              "      <th>0</th>\n",
              "      <td>bip dipietro electric inc</td>\n",
              "      <td></td>\n",
              "    </tr>\n",
              "    <tr>\n",
              "      <th>1</th>\n",
              "      <td>elias medical</td>\n",
              "      <td>Offering Bakersfield family medical care from pediatrics to geriatrics. Also offering skin care including Botox, Laser skin treatments and more.#sep#Elias Medical Welcome to ELIAS MEDICAL#sep#Family Medical Practice#sep#SKIN CARE#sep#Schedule a Consultation\\n661.663.0300 Get To Know Elias Medical#sep#Family Medical Practice#sep#Consultations#sep#Skin Care</td>\n",
              "    </tr>\n",
              "    <tr>\n",
              "      <th>2</th>\n",
              "      <td>koops overhead doors</td>\n",
              "      <td>Customer Reviews#sep#Welcome to Koops Overhead Doors!</td>\n",
              "    </tr>\n",
              "    <tr>\n",
              "      <th>3</th>\n",
              "      <td>midtown eyecare</td>\n",
              "      <td>Welcome to our practice!</td>\n",
              "    </tr>\n",
              "    <tr>\n",
              "      <th>4</th>\n",
              "      <td>repro security ltd</td>\n",
              "      <td>Welcome to REPRO SECURITY Ltd</td>\n",
              "    </tr>\n",
              "  </tbody>\n",
              "</table>\n",
              "</div>"
            ],
            "text/plain": [
              "                company_name                                                                                                                                                                                                                                                                                                                                                                headers\n",
              "0  bip dipietro electric inc                                                                                                                                                                                                                                                                                                                                                                       \n",
              "1  elias medical              Offering Bakersfield family medical care from pediatrics to geriatrics. Also offering skin care including Botox, Laser skin treatments and more.#sep#Elias Medical Welcome to ELIAS MEDICAL#sep#Family Medical Practice#sep#SKIN CARE#sep#Schedule a Consultation\\n661.663.0300 Get To Know Elias Medical#sep#Family Medical Practice#sep#Consultations#sep#Skin Care\n",
              "2  koops overhead doors         Customer Reviews#sep#Welcome to Koops Overhead Doors!                                                                                                                                                                                                                                                                                                              \n",
              "3  midtown eyecare              Welcome to our practice!                                                                                                                                                                                                                                                                                                                                           \n",
              "4  repro security ltd           Welcome to REPRO SECURITY Ltd                                                                                                                                                                                                                                                                                                                                      "
            ]
          },
          "metadata": {
            "tags": []
          },
          "execution_count": 45
        }
      ]
    },
    {
      "cell_type": "code",
      "metadata": {
        "colab": {
          "base_uri": "https://localhost:8080/",
          "height": 173
        },
        "id": "RhMDhx-_hzwX",
        "outputId": "320cf55b-fc06-4278-bf0e-828d734adefa"
      },
      "source": [
        "# Checking empty values now!\n",
        "\n",
        "df_headers.describe()"
      ],
      "execution_count": 46,
      "outputs": [
        {
          "output_type": "execute_result",
          "data": {
            "text/html": [
              "<div>\n",
              "<style scoped>\n",
              "    .dataframe tbody tr th:only-of-type {\n",
              "        vertical-align: middle;\n",
              "    }\n",
              "\n",
              "    .dataframe tbody tr th {\n",
              "        vertical-align: top;\n",
              "    }\n",
              "\n",
              "    .dataframe thead th {\n",
              "        text-align: right;\n",
              "    }\n",
              "</style>\n",
              "<table border=\"1\" class=\"dataframe\">\n",
              "  <thead>\n",
              "    <tr style=\"text-align: right;\">\n",
              "      <th></th>\n",
              "      <th>company_name</th>\n",
              "      <th>headers</th>\n",
              "    </tr>\n",
              "  </thead>\n",
              "  <tbody>\n",
              "    <tr>\n",
              "      <th>count</th>\n",
              "      <td>73974</td>\n",
              "      <td>73974</td>\n",
              "    </tr>\n",
              "    <tr>\n",
              "      <th>unique</th>\n",
              "      <td>73935</td>\n",
              "      <td>65081</td>\n",
              "    </tr>\n",
              "    <tr>\n",
              "      <th>top</th>\n",
              "      <td>longley concrete ltd</td>\n",
              "      <td></td>\n",
              "    </tr>\n",
              "    <tr>\n",
              "      <th>freq</th>\n",
              "      <td>3</td>\n",
              "      <td>7461</td>\n",
              "    </tr>\n",
              "  </tbody>\n",
              "</table>\n",
              "</div>"
            ],
            "text/plain": [
              "                company_name headers\n",
              "count   73974                 73974 \n",
              "unique  73935                 65081 \n",
              "top     longley concrete ltd        \n",
              "freq    3                     7461  "
            ]
          },
          "metadata": {
            "tags": []
          },
          "execution_count": 46
        }
      ]
    },
    {
      "cell_type": "code",
      "metadata": {
        "id": "7yJLRGNiieYC"
      },
      "source": [
        ""
      ],
      "execution_count": null,
      "outputs": []
    }
  ]
}